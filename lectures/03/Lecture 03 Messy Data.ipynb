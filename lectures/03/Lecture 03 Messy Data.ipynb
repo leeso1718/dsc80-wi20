{
 "cells": [
  {
   "cell_type": "code",
   "execution_count": 1,
   "metadata": {
    "slideshow": {
     "slide_type": "slide"
    }
   },
   "outputs": [],
   "source": [
    "%matplotlib inline\n",
    "import pandas as pd\n",
    "import numpy as np\n",
    "import os"
   ]
  },
  {
   "cell_type": "markdown",
   "metadata": {
    "slideshow": {
     "slide_type": "slide"
    }
   },
   "source": [
    "# Messy Data and Data Cleaning"
   ]
  },
  {
   "cell_type": "markdown",
   "metadata": {
    "slideshow": {
     "slide_type": "slide"
    }
   },
   "source": [
    "## Outline\n",
    "\n",
    "* Data Generating Processes.\n",
    "* Introduction to field types.\n",
    "* Outliers: how to spot them and fix them.\n",
    "* Missing values: understanding them and dropping them."
   ]
  },
  {
   "cell_type": "markdown",
   "metadata": {
    "slideshow": {
     "slide_type": "slide"
    }
   },
   "source": [
    "## There is no such thing as 'raw data'.\n",
    "\n",
    "* Data are the result of measurements that must be recorded.\n",
    "* Humans design the measurements and record the results.\n",
    "* Data is *always* an imperfect record of the underlying processing being measured."
   ]
  },
  {
   "cell_type": "markdown",
   "metadata": {
    "slideshow": {
     "slide_type": "slide"
    }
   },
   "source": [
    "## Data Generating Process\n",
    "\n",
    "* A **data generating process** is the underlying, real-world (probabilistic) mechanism that generates the observed data. \n",
    "* Observed data is an incomplete artifact of the data generating process.\n",
    "* A data generating process is what a statistical model attempts to describe.\n",
    "\n",
    "Cleaning data requires understanding of the data generating process."
   ]
  },
  {
   "cell_type": "markdown",
   "metadata": {
    "slideshow": {
     "slide_type": "slide"
    }
   },
   "source": [
    "### Example: Unemployment Data\n",
    "* Problem: predict the effect policy X has on the US labor market\n",
    "    - Does it decrease unemployment? Increase wages?\n",
    "* Data: [labor force data](https://www.bls.gov/cps/cps_htgm.pdf) collected by the BLS (U.S. Bureau of Labor Statistics)\n"
   ]
  },
  {
   "cell_type": "markdown",
   "metadata": {
    "slideshow": {
     "slide_type": "slide"
    }
   },
   "source": [
    "### Example: Unemployment Data\n",
    "* Sample quality: Is the BLS data a sample or census?\n",
    "* Measurement; who is counted as:\n",
    "    - employed? unemployed? underemployed? not in the labor force?\n",
    "* The data are generated according to a *political* process!\n",
    "    - For an introduction, see [this article](https://www.nytimes.com/2018/09/14/opinion/columnists/great-recession-economy-gdp.html)"
   ]
  },
  {
   "cell_type": "markdown",
   "metadata": {
    "slideshow": {
     "slide_type": "slide"
    }
   },
   "source": [
    "## Data Provenance: can I trust my data?\n",
    "\n",
    "Understanding as much as possible about the lineage of data from \n",
    "1. The assumptions on the data generating process, to\n",
    "2. the initial measurements of that (or a similar) process, to  \n",
    "3. the data in its eventually acquired form."
   ]
  },
  {
   "cell_type": "markdown",
   "metadata": {
    "slideshow": {
     "slide_type": "slide"
    }
   },
   "source": [
    "# Data Cleaning"
   ]
  },
  {
   "cell_type": "markdown",
   "metadata": {
    "slideshow": {
     "slide_type": "slide"
    }
   },
   "source": [
    "## Data Cleaning\n",
    "\n",
    "* The process of transforming data:\n",
    "    - into a faithful representation of an underlying data generating process \n",
    "    - to facilitate subsequent analysis.\n",
    "\n",
    "* In practice, data cleaning is often detective work to understand data provenance.\n",
    "    - **always be skeptical of your data!**"
   ]
  },
  {
   "cell_type": "markdown",
   "metadata": {
    "slideshow": {
     "slide_type": "slide"
    }
   },
   "source": [
    "## Data cleaning often addresses:\n",
    "\n",
    "* The structure of the recorded data \n",
    "    - are the individual properly represented as rows?\n",
    "* The encoding and format of the values in the data.\n",
    "    - are the data types of a column reflective of the information it contains?\n",
    "* Corrupt and \"incorrect\" data; missing values.\n",
    "    - were their flaws in the 'data recording process'?"
   ]
  },
  {
   "cell_type": "markdown",
   "metadata": {
    "slideshow": {
     "slide_type": "slide"
    }
   },
   "source": [
    "<img src=\"imgs/image_2.png\"/>"
   ]
  },
  {
   "cell_type": "markdown",
   "metadata": {
    "slideshow": {
     "slide_type": "slide"
    }
   },
   "source": [
    "### Discussion: are each of the following Quantitative, Ordinal, or Nominal?\n",
    "\n",
    "1. **Price in dollars of a product?**\n",
    "1. **Star Rating on Yelp?**\n",
    "1. **Date/time an item was sold?**\n",
    "1. **Day of the week an item was sold?**\n",
    "1. **A Credit Card Number?**"
   ]
  },
  {
   "cell_type": "markdown",
   "metadata": {
    "slideshow": {
     "slide_type": "slide"
    }
   },
   "source": [
    "### Answers:\n",
    "\n",
    "|Question|Answer|\n",
    "|---|---|\n",
    "|Price in dollars of a product|Quantitatave|\n",
    "|Star Rating on Yelp|Ordinal|\n",
    "|Date an item was sold|Quantitative|\n",
    "|Day of week an item was sold|????|\n",
    "|Credit Card Number|Nominal|"
   ]
  },
  {
   "cell_type": "markdown",
   "metadata": {
    "slideshow": {
     "slide_type": "slide"
    }
   },
   "source": [
    "## Converting data types in Pandas"
   ]
  },
  {
   "cell_type": "markdown",
   "metadata": {},
   "source": [
    "### Student dataset\n",
    "- **Student ID, Student Name** (should be clear)\n",
    "- **Month, Day, Year**: date when student was accepted to UCSD\n",
    "- **2018, 2019 tuitions and growth** (should be clear)\n",
    "- **Paid**: Indicates if tuition is paid yet\n",
    "- **DSC80 Final grade**: Some students may take class for Pass/Fail\n",
    "\n",
    "What needs to be changed in the dataframe to compute statistics?"
   ]
  },
  {
   "cell_type": "code",
   "execution_count": 2,
   "metadata": {},
   "outputs": [
    {
     "data": {
      "text/html": [
       "<div>\n",
       "<style scoped>\n",
       "    .dataframe tbody tr th:only-of-type {\n",
       "        vertical-align: middle;\n",
       "    }\n",
       "\n",
       "    .dataframe tbody tr th {\n",
       "        vertical-align: top;\n",
       "    }\n",
       "\n",
       "    .dataframe thead th {\n",
       "        text-align: right;\n",
       "    }\n",
       "</style>\n",
       "<table border=\"1\" class=\"dataframe\">\n",
       "  <thead>\n",
       "    <tr style=\"text-align: right;\">\n",
       "      <th></th>\n",
       "      <th>Student ID</th>\n",
       "      <th>Student Name</th>\n",
       "      <th>Month</th>\n",
       "      <th>Day</th>\n",
       "      <th>Year</th>\n",
       "      <th>2018 tuition</th>\n",
       "      <th>2019 tuition</th>\n",
       "      <th>Percent Growth</th>\n",
       "      <th>Paid</th>\n",
       "      <th>DSC 80 Final Grade</th>\n",
       "    </tr>\n",
       "  </thead>\n",
       "  <tbody>\n",
       "    <tr>\n",
       "      <th>0</th>\n",
       "      <td>10002.0</td>\n",
       "      <td>John Black</td>\n",
       "      <td>10</td>\n",
       "      <td>12</td>\n",
       "      <td>2018</td>\n",
       "      <td>$40000.00</td>\n",
       "      <td>$50000.00</td>\n",
       "      <td>25.00%</td>\n",
       "      <td>N</td>\n",
       "      <td>89</td>\n",
       "    </tr>\n",
       "    <tr>\n",
       "      <th>1</th>\n",
       "      <td>552278.0</td>\n",
       "      <td>Mark White</td>\n",
       "      <td>4</td>\n",
       "      <td>15</td>\n",
       "      <td>2017</td>\n",
       "      <td>$9200.00</td>\n",
       "      <td>$10120.00</td>\n",
       "      <td>10.00%</td>\n",
       "      <td>Y</td>\n",
       "      <td>90</td>\n",
       "    </tr>\n",
       "    <tr>\n",
       "      <th>2</th>\n",
       "      <td>23477.0</td>\n",
       "      <td>Amy Red</td>\n",
       "      <td>5</td>\n",
       "      <td>14</td>\n",
       "      <td>2016</td>\n",
       "      <td>$50000.00</td>\n",
       "      <td>$62500.00</td>\n",
       "      <td>25.00%</td>\n",
       "      <td>N</td>\n",
       "      <td>97</td>\n",
       "    </tr>\n",
       "    <tr>\n",
       "      <th>3</th>\n",
       "      <td>24900.0</td>\n",
       "      <td>Tom Green</td>\n",
       "      <td>7</td>\n",
       "      <td>10</td>\n",
       "      <td>2015</td>\n",
       "      <td>$7000.00</td>\n",
       "      <td>$9800.00</td>\n",
       "      <td>40.00%</td>\n",
       "      <td>Y</td>\n",
       "      <td>54</td>\n",
       "    </tr>\n",
       "    <tr>\n",
       "      <th>4</th>\n",
       "      <td>651029.0</td>\n",
       "      <td>Rose Pink</td>\n",
       "      <td>3</td>\n",
       "      <td>3</td>\n",
       "      <td>2014</td>\n",
       "      <td>$10000.00</td>\n",
       "      <td>$5000.00</td>\n",
       "      <td>-50.00%</td>\n",
       "      <td>Y</td>\n",
       "      <td>Pass</td>\n",
       "    </tr>\n",
       "  </tbody>\n",
       "</table>\n",
       "</div>"
      ],
      "text/plain": [
       "   Student ID Student Name  Month  Day  Year 2018 tuition 2019 tuition  \\\n",
       "0     10002.0   John Black     10   12  2018    $40000.00    $50000.00   \n",
       "1    552278.0   Mark White      4   15  2017     $9200.00    $10120.00   \n",
       "2     23477.0      Amy Red      5   14  2016    $50000.00    $62500.00   \n",
       "3     24900.0    Tom Green      7   10  2015     $7000.00     $9800.00   \n",
       "4    651029.0    Rose Pink      3    3  2014    $10000.00     $5000.00   \n",
       "\n",
       "  Percent Growth Paid DSC 80 Final Grade  \n",
       "0         25.00%    N                 89  \n",
       "1         10.00%    Y                 90  \n",
       "2         25.00%    N                 97  \n",
       "3         40.00%    Y                 54  \n",
       "4        -50.00%    Y               Pass  "
      ]
     },
     "execution_count": 2,
     "metadata": {},
     "output_type": "execute_result"
    }
   ],
   "source": [
    "df = pd.read_csv(\"data/Data.csv\")\n",
    "df"
   ]
  },
  {
   "cell_type": "markdown",
   "metadata": {
    "slideshow": {
     "slide_type": "slide"
    }
   },
   "source": [
    "### What is the sum of tuition paid in 2018 and 2019?\n",
    "* Sum tuition columns using `+`\n",
    "* Save it in a `pd.Series` called `total`."
   ]
  },
  {
   "cell_type": "code",
   "execution_count": 3,
   "metadata": {},
   "outputs": [
    {
     "data": {
      "text/html": [
       "<div>\n",
       "<style scoped>\n",
       "    .dataframe tbody tr th:only-of-type {\n",
       "        vertical-align: middle;\n",
       "    }\n",
       "\n",
       "    .dataframe tbody tr th {\n",
       "        vertical-align: top;\n",
       "    }\n",
       "\n",
       "    .dataframe thead th {\n",
       "        text-align: right;\n",
       "    }\n",
       "</style>\n",
       "<table border=\"1\" class=\"dataframe\">\n",
       "  <thead>\n",
       "    <tr style=\"text-align: right;\">\n",
       "      <th></th>\n",
       "      <th>Student ID</th>\n",
       "      <th>Student Name</th>\n",
       "      <th>Month</th>\n",
       "      <th>Day</th>\n",
       "      <th>Year</th>\n",
       "      <th>2018 tuition</th>\n",
       "      <th>2019 tuition</th>\n",
       "      <th>Percent Growth</th>\n",
       "      <th>Paid</th>\n",
       "      <th>DSC 80 Final Grade</th>\n",
       "    </tr>\n",
       "  </thead>\n",
       "  <tbody>\n",
       "    <tr>\n",
       "      <th>0</th>\n",
       "      <td>10002.0</td>\n",
       "      <td>John Black</td>\n",
       "      <td>10</td>\n",
       "      <td>12</td>\n",
       "      <td>2018</td>\n",
       "      <td>$40000.00</td>\n",
       "      <td>$50000.00</td>\n",
       "      <td>25.00%</td>\n",
       "      <td>N</td>\n",
       "      <td>89</td>\n",
       "    </tr>\n",
       "    <tr>\n",
       "      <th>1</th>\n",
       "      <td>552278.0</td>\n",
       "      <td>Mark White</td>\n",
       "      <td>4</td>\n",
       "      <td>15</td>\n",
       "      <td>2017</td>\n",
       "      <td>$9200.00</td>\n",
       "      <td>$10120.00</td>\n",
       "      <td>10.00%</td>\n",
       "      <td>Y</td>\n",
       "      <td>90</td>\n",
       "    </tr>\n",
       "    <tr>\n",
       "      <th>2</th>\n",
       "      <td>23477.0</td>\n",
       "      <td>Amy Red</td>\n",
       "      <td>5</td>\n",
       "      <td>14</td>\n",
       "      <td>2016</td>\n",
       "      <td>$50000.00</td>\n",
       "      <td>$62500.00</td>\n",
       "      <td>25.00%</td>\n",
       "      <td>N</td>\n",
       "      <td>97</td>\n",
       "    </tr>\n",
       "    <tr>\n",
       "      <th>3</th>\n",
       "      <td>24900.0</td>\n",
       "      <td>Tom Green</td>\n",
       "      <td>7</td>\n",
       "      <td>10</td>\n",
       "      <td>2015</td>\n",
       "      <td>$7000.00</td>\n",
       "      <td>$9800.00</td>\n",
       "      <td>40.00%</td>\n",
       "      <td>Y</td>\n",
       "      <td>54</td>\n",
       "    </tr>\n",
       "    <tr>\n",
       "      <th>4</th>\n",
       "      <td>651029.0</td>\n",
       "      <td>Rose Pink</td>\n",
       "      <td>3</td>\n",
       "      <td>3</td>\n",
       "      <td>2014</td>\n",
       "      <td>$10000.00</td>\n",
       "      <td>$5000.00</td>\n",
       "      <td>-50.00%</td>\n",
       "      <td>Y</td>\n",
       "      <td>Pass</td>\n",
       "    </tr>\n",
       "  </tbody>\n",
       "</table>\n",
       "</div>"
      ],
      "text/plain": [
       "   Student ID Student Name  Month  Day  Year 2018 tuition 2019 tuition  \\\n",
       "0     10002.0   John Black     10   12  2018    $40000.00    $50000.00   \n",
       "1    552278.0   Mark White      4   15  2017     $9200.00    $10120.00   \n",
       "2     23477.0      Amy Red      5   14  2016    $50000.00    $62500.00   \n",
       "3     24900.0    Tom Green      7   10  2015     $7000.00     $9800.00   \n",
       "4    651029.0    Rose Pink      3    3  2014    $10000.00     $5000.00   \n",
       "\n",
       "  Percent Growth Paid DSC 80 Final Grade  \n",
       "0         25.00%    N                 89  \n",
       "1         10.00%    Y                 90  \n",
       "2         25.00%    N                 97  \n",
       "3         40.00%    Y                 54  \n",
       "4        -50.00%    Y               Pass  "
      ]
     },
     "execution_count": 3,
     "metadata": {},
     "output_type": "execute_result"
    }
   ],
   "source": [
    "df"
   ]
  },
  {
   "cell_type": "code",
   "execution_count": 4,
   "metadata": {},
   "outputs": [
    {
     "data": {
      "text/plain": [
       "0    $40000.00$50000.00\n",
       "1     $9200.00$10120.00\n",
       "2    $50000.00$62500.00\n",
       "3      $7000.00$9800.00\n",
       "4     $10000.00$5000.00\n",
       "dtype: object"
      ]
     },
     "execution_count": 4,
     "metadata": {},
     "output_type": "execute_result"
    }
   ],
   "source": [
    "total = df['2018 tuition'] + df['2019 tuition']\n",
    "total"
   ]
  },
  {
   "cell_type": "markdown",
   "metadata": {
    "slideshow": {
     "slide_type": "slide"
    }
   },
   "source": [
    "### Check the data types of the student table\n",
    "* What data type *should* each column have?\n",
    "* What kinds of data should each column have?\n",
    "    - Quantitative, Catgorical (Ordinal, Nominal)\n",
    "* Use the `df.dtypes` attribute to peak at the data types."
   ]
  },
  {
   "cell_type": "code",
   "execution_count": 5,
   "metadata": {},
   "outputs": [
    {
     "data": {
      "text/plain": [
       "Student ID            float64\n",
       "Student Name           object\n",
       "Month                   int64\n",
       "Day                     int64\n",
       "Year                    int64\n",
       "2018 tuition           object\n",
       "2019 tuition           object\n",
       "Percent Growth         object\n",
       "Paid                   object\n",
       "DSC 80 Final Grade     object\n",
       "dtype: object"
      ]
     },
     "execution_count": 5,
     "metadata": {},
     "output_type": "execute_result"
    }
   ],
   "source": [
    "df.dtypes"
   ]
  },
  {
   "cell_type": "markdown",
   "metadata": {
    "slideshow": {
     "slide_type": "slide"
    }
   },
   "source": [
    "### Cleaning up: `Student ID`\n",
    "\n",
    "* `Student ID` is a `float64`, should be `int64`\n",
    "* May be a float value due to earlier processing with e.g. Excel.\n",
    "* Change the type using `.astype` method\n",
    "    - `.astype` returns a copy!"
   ]
  },
  {
   "cell_type": "code",
   "execution_count": 6,
   "metadata": {},
   "outputs": [
    {
     "data": {
      "text/html": [
       "<div>\n",
       "<style scoped>\n",
       "    .dataframe tbody tr th:only-of-type {\n",
       "        vertical-align: middle;\n",
       "    }\n",
       "\n",
       "    .dataframe tbody tr th {\n",
       "        vertical-align: top;\n",
       "    }\n",
       "\n",
       "    .dataframe thead th {\n",
       "        text-align: right;\n",
       "    }\n",
       "</style>\n",
       "<table border=\"1\" class=\"dataframe\">\n",
       "  <thead>\n",
       "    <tr style=\"text-align: right;\">\n",
       "      <th></th>\n",
       "      <th>Student ID</th>\n",
       "      <th>Student Name</th>\n",
       "      <th>Month</th>\n",
       "      <th>Day</th>\n",
       "      <th>Year</th>\n",
       "      <th>2018 tuition</th>\n",
       "      <th>2019 tuition</th>\n",
       "      <th>Percent Growth</th>\n",
       "      <th>Paid</th>\n",
       "      <th>DSC 80 Final Grade</th>\n",
       "    </tr>\n",
       "  </thead>\n",
       "  <tbody>\n",
       "    <tr>\n",
       "      <th>0</th>\n",
       "      <td>10002</td>\n",
       "      <td>John Black</td>\n",
       "      <td>10</td>\n",
       "      <td>12</td>\n",
       "      <td>2018</td>\n",
       "      <td>$40000.00</td>\n",
       "      <td>$50000.00</td>\n",
       "      <td>25.00%</td>\n",
       "      <td>N</td>\n",
       "      <td>89</td>\n",
       "    </tr>\n",
       "    <tr>\n",
       "      <th>1</th>\n",
       "      <td>552278</td>\n",
       "      <td>Mark White</td>\n",
       "      <td>4</td>\n",
       "      <td>15</td>\n",
       "      <td>2017</td>\n",
       "      <td>$9200.00</td>\n",
       "      <td>$10120.00</td>\n",
       "      <td>10.00%</td>\n",
       "      <td>Y</td>\n",
       "      <td>90</td>\n",
       "    </tr>\n",
       "    <tr>\n",
       "      <th>2</th>\n",
       "      <td>23477</td>\n",
       "      <td>Amy Red</td>\n",
       "      <td>5</td>\n",
       "      <td>14</td>\n",
       "      <td>2016</td>\n",
       "      <td>$50000.00</td>\n",
       "      <td>$62500.00</td>\n",
       "      <td>25.00%</td>\n",
       "      <td>N</td>\n",
       "      <td>97</td>\n",
       "    </tr>\n",
       "    <tr>\n",
       "      <th>3</th>\n",
       "      <td>24900</td>\n",
       "      <td>Tom Green</td>\n",
       "      <td>7</td>\n",
       "      <td>10</td>\n",
       "      <td>2015</td>\n",
       "      <td>$7000.00</td>\n",
       "      <td>$9800.00</td>\n",
       "      <td>40.00%</td>\n",
       "      <td>Y</td>\n",
       "      <td>54</td>\n",
       "    </tr>\n",
       "    <tr>\n",
       "      <th>4</th>\n",
       "      <td>651029</td>\n",
       "      <td>Rose Pink</td>\n",
       "      <td>3</td>\n",
       "      <td>3</td>\n",
       "      <td>2014</td>\n",
       "      <td>$10000.00</td>\n",
       "      <td>$5000.00</td>\n",
       "      <td>-50.00%</td>\n",
       "      <td>Y</td>\n",
       "      <td>Pass</td>\n",
       "    </tr>\n",
       "  </tbody>\n",
       "</table>\n",
       "</div>"
      ],
      "text/plain": [
       "   Student ID Student Name  Month  Day  Year 2018 tuition 2019 tuition  \\\n",
       "0       10002   John Black     10   12  2018    $40000.00    $50000.00   \n",
       "1      552278   Mark White      4   15  2017     $9200.00    $10120.00   \n",
       "2       23477      Amy Red      5   14  2016    $50000.00    $62500.00   \n",
       "3       24900    Tom Green      7   10  2015     $7000.00     $9800.00   \n",
       "4      651029    Rose Pink      3    3  2014    $10000.00     $5000.00   \n",
       "\n",
       "  Percent Growth Paid DSC 80 Final Grade  \n",
       "0         25.00%    N                 89  \n",
       "1         10.00%    Y                 90  \n",
       "2         25.00%    N                 97  \n",
       "3         40.00%    Y                 54  \n",
       "4        -50.00%    Y               Pass  "
      ]
     },
     "execution_count": 6,
     "metadata": {},
     "output_type": "execute_result"
    }
   ],
   "source": [
    "df['Student ID'] = df['Student ID'].astype(np.int64)\n",
    "df"
   ]
  },
  {
   "cell_type": "markdown",
   "metadata": {
    "slideshow": {
     "slide_type": "slide"
    }
   },
   "source": [
    "### Cleaning up: `20xx tuition`\n",
    "\n",
    "* `20xx tuition` are stored as `objects` (strings), not numerical values.\n",
    "* The formatting character ($) causes the entries to be interpreted as strings.\n",
    "* Use `str` methods to strip the dollar sign."
   ]
  },
  {
   "cell_type": "code",
   "execution_count": 7,
   "metadata": {},
   "outputs": [
    {
     "ename": "ValueError",
     "evalue": "could not convert string to float: '$40000.00'",
     "output_type": "error",
     "traceback": [
      "\u001b[1;31m---------------------------------------------------------------------------\u001b[0m",
      "\u001b[1;31mValueError\u001b[0m                                Traceback (most recent call last)",
      "\u001b[1;32m<ipython-input-7-220ad76d43d6>\u001b[0m in \u001b[0;36m<module>\u001b[1;34m\u001b[0m\n\u001b[0;32m      1\u001b[0m \u001b[1;31m# try this!\u001b[0m\u001b[1;33m\u001b[0m\u001b[1;33m\u001b[0m\u001b[1;33m\u001b[0m\u001b[0m\n\u001b[1;32m----> 2\u001b[1;33m \u001b[0mdf\u001b[0m\u001b[1;33m[\u001b[0m\u001b[1;34m'2018 tuition'\u001b[0m\u001b[1;33m]\u001b[0m\u001b[1;33m.\u001b[0m\u001b[0mastype\u001b[0m\u001b[1;33m(\u001b[0m\u001b[0mnp\u001b[0m\u001b[1;33m.\u001b[0m\u001b[0mfloat64\u001b[0m\u001b[1;33m)\u001b[0m\u001b[1;33m\u001b[0m\u001b[1;33m\u001b[0m\u001b[0m\n\u001b[0m",
      "\u001b[1;32m~\\Anaconda3\\lib\\site-packages\\pandas\\core\\generic.py\u001b[0m in \u001b[0;36mastype\u001b[1;34m(self, dtype, copy, errors, **kwargs)\u001b[0m\n\u001b[0;32m   5689\u001b[0m             \u001b[1;31m# else, only a single dtype is given\u001b[0m\u001b[1;33m\u001b[0m\u001b[1;33m\u001b[0m\u001b[1;33m\u001b[0m\u001b[0m\n\u001b[0;32m   5690\u001b[0m             new_data = self._data.astype(dtype=dtype, copy=copy, errors=errors,\n\u001b[1;32m-> 5691\u001b[1;33m                                          **kwargs)\n\u001b[0m\u001b[0;32m   5692\u001b[0m             \u001b[1;32mreturn\u001b[0m \u001b[0mself\u001b[0m\u001b[1;33m.\u001b[0m\u001b[0m_constructor\u001b[0m\u001b[1;33m(\u001b[0m\u001b[0mnew_data\u001b[0m\u001b[1;33m)\u001b[0m\u001b[1;33m.\u001b[0m\u001b[0m__finalize__\u001b[0m\u001b[1;33m(\u001b[0m\u001b[0mself\u001b[0m\u001b[1;33m)\u001b[0m\u001b[1;33m\u001b[0m\u001b[1;33m\u001b[0m\u001b[0m\n\u001b[0;32m   5693\u001b[0m \u001b[1;33m\u001b[0m\u001b[0m\n",
      "\u001b[1;32m~\\Anaconda3\\lib\\site-packages\\pandas\\core\\internals\\managers.py\u001b[0m in \u001b[0;36mastype\u001b[1;34m(self, dtype, **kwargs)\u001b[0m\n\u001b[0;32m    529\u001b[0m \u001b[1;33m\u001b[0m\u001b[0m\n\u001b[0;32m    530\u001b[0m     \u001b[1;32mdef\u001b[0m \u001b[0mastype\u001b[0m\u001b[1;33m(\u001b[0m\u001b[0mself\u001b[0m\u001b[1;33m,\u001b[0m \u001b[0mdtype\u001b[0m\u001b[1;33m,\u001b[0m \u001b[1;33m**\u001b[0m\u001b[0mkwargs\u001b[0m\u001b[1;33m)\u001b[0m\u001b[1;33m:\u001b[0m\u001b[1;33m\u001b[0m\u001b[1;33m\u001b[0m\u001b[0m\n\u001b[1;32m--> 531\u001b[1;33m         \u001b[1;32mreturn\u001b[0m \u001b[0mself\u001b[0m\u001b[1;33m.\u001b[0m\u001b[0mapply\u001b[0m\u001b[1;33m(\u001b[0m\u001b[1;34m'astype'\u001b[0m\u001b[1;33m,\u001b[0m \u001b[0mdtype\u001b[0m\u001b[1;33m=\u001b[0m\u001b[0mdtype\u001b[0m\u001b[1;33m,\u001b[0m \u001b[1;33m**\u001b[0m\u001b[0mkwargs\u001b[0m\u001b[1;33m)\u001b[0m\u001b[1;33m\u001b[0m\u001b[1;33m\u001b[0m\u001b[0m\n\u001b[0m\u001b[0;32m    532\u001b[0m \u001b[1;33m\u001b[0m\u001b[0m\n\u001b[0;32m    533\u001b[0m     \u001b[1;32mdef\u001b[0m \u001b[0mconvert\u001b[0m\u001b[1;33m(\u001b[0m\u001b[0mself\u001b[0m\u001b[1;33m,\u001b[0m \u001b[1;33m**\u001b[0m\u001b[0mkwargs\u001b[0m\u001b[1;33m)\u001b[0m\u001b[1;33m:\u001b[0m\u001b[1;33m\u001b[0m\u001b[1;33m\u001b[0m\u001b[0m\n",
      "\u001b[1;32m~\\Anaconda3\\lib\\site-packages\\pandas\\core\\internals\\managers.py\u001b[0m in \u001b[0;36mapply\u001b[1;34m(self, f, axes, filter, do_integrity_check, consolidate, **kwargs)\u001b[0m\n\u001b[0;32m    393\u001b[0m                                             copy=align_copy)\n\u001b[0;32m    394\u001b[0m \u001b[1;33m\u001b[0m\u001b[0m\n\u001b[1;32m--> 395\u001b[1;33m             \u001b[0mapplied\u001b[0m \u001b[1;33m=\u001b[0m \u001b[0mgetattr\u001b[0m\u001b[1;33m(\u001b[0m\u001b[0mb\u001b[0m\u001b[1;33m,\u001b[0m \u001b[0mf\u001b[0m\u001b[1;33m)\u001b[0m\u001b[1;33m(\u001b[0m\u001b[1;33m**\u001b[0m\u001b[0mkwargs\u001b[0m\u001b[1;33m)\u001b[0m\u001b[1;33m\u001b[0m\u001b[1;33m\u001b[0m\u001b[0m\n\u001b[0m\u001b[0;32m    396\u001b[0m             \u001b[0mresult_blocks\u001b[0m \u001b[1;33m=\u001b[0m \u001b[0m_extend_blocks\u001b[0m\u001b[1;33m(\u001b[0m\u001b[0mapplied\u001b[0m\u001b[1;33m,\u001b[0m \u001b[0mresult_blocks\u001b[0m\u001b[1;33m)\u001b[0m\u001b[1;33m\u001b[0m\u001b[1;33m\u001b[0m\u001b[0m\n\u001b[0;32m    397\u001b[0m \u001b[1;33m\u001b[0m\u001b[0m\n",
      "\u001b[1;32m~\\Anaconda3\\lib\\site-packages\\pandas\\core\\internals\\blocks.py\u001b[0m in \u001b[0;36mastype\u001b[1;34m(self, dtype, copy, errors, values, **kwargs)\u001b[0m\n\u001b[0;32m    532\u001b[0m     \u001b[1;32mdef\u001b[0m \u001b[0mastype\u001b[0m\u001b[1;33m(\u001b[0m\u001b[0mself\u001b[0m\u001b[1;33m,\u001b[0m \u001b[0mdtype\u001b[0m\u001b[1;33m,\u001b[0m \u001b[0mcopy\u001b[0m\u001b[1;33m=\u001b[0m\u001b[1;32mFalse\u001b[0m\u001b[1;33m,\u001b[0m \u001b[0merrors\u001b[0m\u001b[1;33m=\u001b[0m\u001b[1;34m'raise'\u001b[0m\u001b[1;33m,\u001b[0m \u001b[0mvalues\u001b[0m\u001b[1;33m=\u001b[0m\u001b[1;32mNone\u001b[0m\u001b[1;33m,\u001b[0m \u001b[1;33m**\u001b[0m\u001b[0mkwargs\u001b[0m\u001b[1;33m)\u001b[0m\u001b[1;33m:\u001b[0m\u001b[1;33m\u001b[0m\u001b[1;33m\u001b[0m\u001b[0m\n\u001b[0;32m    533\u001b[0m         return self._astype(dtype, copy=copy, errors=errors, values=values,\n\u001b[1;32m--> 534\u001b[1;33m                             **kwargs)\n\u001b[0m\u001b[0;32m    535\u001b[0m \u001b[1;33m\u001b[0m\u001b[0m\n\u001b[0;32m    536\u001b[0m     def _astype(self, dtype, copy=False, errors='raise', values=None,\n",
      "\u001b[1;32m~\\Anaconda3\\lib\\site-packages\\pandas\\core\\internals\\blocks.py\u001b[0m in \u001b[0;36m_astype\u001b[1;34m(self, dtype, copy, errors, values, **kwargs)\u001b[0m\n\u001b[0;32m    631\u001b[0m \u001b[1;33m\u001b[0m\u001b[0m\n\u001b[0;32m    632\u001b[0m                     \u001b[1;31m# _astype_nansafe works fine with 1-d only\u001b[0m\u001b[1;33m\u001b[0m\u001b[1;33m\u001b[0m\u001b[1;33m\u001b[0m\u001b[0m\n\u001b[1;32m--> 633\u001b[1;33m                     \u001b[0mvalues\u001b[0m \u001b[1;33m=\u001b[0m \u001b[0mastype_nansafe\u001b[0m\u001b[1;33m(\u001b[0m\u001b[0mvalues\u001b[0m\u001b[1;33m.\u001b[0m\u001b[0mravel\u001b[0m\u001b[1;33m(\u001b[0m\u001b[1;33m)\u001b[0m\u001b[1;33m,\u001b[0m \u001b[0mdtype\u001b[0m\u001b[1;33m,\u001b[0m \u001b[0mcopy\u001b[0m\u001b[1;33m=\u001b[0m\u001b[1;32mTrue\u001b[0m\u001b[1;33m)\u001b[0m\u001b[1;33m\u001b[0m\u001b[1;33m\u001b[0m\u001b[0m\n\u001b[0m\u001b[0;32m    634\u001b[0m \u001b[1;33m\u001b[0m\u001b[0m\n\u001b[0;32m    635\u001b[0m                 \u001b[1;31m# TODO(extension)\u001b[0m\u001b[1;33m\u001b[0m\u001b[1;33m\u001b[0m\u001b[1;33m\u001b[0m\u001b[0m\n",
      "\u001b[1;32m~\\Anaconda3\\lib\\site-packages\\pandas\\core\\dtypes\\cast.py\u001b[0m in \u001b[0;36mastype_nansafe\u001b[1;34m(arr, dtype, copy, skipna)\u001b[0m\n\u001b[0;32m    700\u001b[0m     \u001b[1;32mif\u001b[0m \u001b[0mcopy\u001b[0m \u001b[1;32mor\u001b[0m \u001b[0mis_object_dtype\u001b[0m\u001b[1;33m(\u001b[0m\u001b[0marr\u001b[0m\u001b[1;33m)\u001b[0m \u001b[1;32mor\u001b[0m \u001b[0mis_object_dtype\u001b[0m\u001b[1;33m(\u001b[0m\u001b[0mdtype\u001b[0m\u001b[1;33m)\u001b[0m\u001b[1;33m:\u001b[0m\u001b[1;33m\u001b[0m\u001b[1;33m\u001b[0m\u001b[0m\n\u001b[0;32m    701\u001b[0m         \u001b[1;31m# Explicit copy, or required since NumPy can't view from / to object.\u001b[0m\u001b[1;33m\u001b[0m\u001b[1;33m\u001b[0m\u001b[1;33m\u001b[0m\u001b[0m\n\u001b[1;32m--> 702\u001b[1;33m         \u001b[1;32mreturn\u001b[0m \u001b[0marr\u001b[0m\u001b[1;33m.\u001b[0m\u001b[0mastype\u001b[0m\u001b[1;33m(\u001b[0m\u001b[0mdtype\u001b[0m\u001b[1;33m,\u001b[0m \u001b[0mcopy\u001b[0m\u001b[1;33m=\u001b[0m\u001b[1;32mTrue\u001b[0m\u001b[1;33m)\u001b[0m\u001b[1;33m\u001b[0m\u001b[1;33m\u001b[0m\u001b[0m\n\u001b[0m\u001b[0;32m    703\u001b[0m \u001b[1;33m\u001b[0m\u001b[0m\n\u001b[0;32m    704\u001b[0m     \u001b[1;32mreturn\u001b[0m \u001b[0marr\u001b[0m\u001b[1;33m.\u001b[0m\u001b[0mview\u001b[0m\u001b[1;33m(\u001b[0m\u001b[0mdtype\u001b[0m\u001b[1;33m)\u001b[0m\u001b[1;33m\u001b[0m\u001b[1;33m\u001b[0m\u001b[0m\n",
      "\u001b[1;31mValueError\u001b[0m: could not convert string to float: '$40000.00'"
     ]
    }
   ],
   "source": [
    "# try this!\n",
    "df['2018 tuition'].astype(np.float64)"
   ]
  },
  {
   "cell_type": "code",
   "execution_count": 12,
   "metadata": {},
   "outputs": [
    {
     "data": {
      "text/plain": [
       "0    40000.0\n",
       "1     9200.0\n",
       "2    50000.0\n",
       "3     7000.0\n",
       "4    10000.0\n",
       "Name: 2018 tuition, dtype: float64"
      ]
     },
     "execution_count": 12,
     "metadata": {},
     "output_type": "execute_result"
    }
   ],
   "source": [
    "# strip the $\n",
    "df['2018 tuition'].str.strip('$').astype(np.float)"
   ]
  },
  {
   "cell_type": "code",
   "execution_count": 13,
   "metadata": {},
   "outputs": [
    {
     "data": {
      "text/html": [
       "<div>\n",
       "<style scoped>\n",
       "    .dataframe tbody tr th:only-of-type {\n",
       "        vertical-align: middle;\n",
       "    }\n",
       "\n",
       "    .dataframe tbody tr th {\n",
       "        vertical-align: top;\n",
       "    }\n",
       "\n",
       "    .dataframe thead th {\n",
       "        text-align: right;\n",
       "    }\n",
       "</style>\n",
       "<table border=\"1\" class=\"dataframe\">\n",
       "  <thead>\n",
       "    <tr style=\"text-align: right;\">\n",
       "      <th></th>\n",
       "      <th>Student ID</th>\n",
       "      <th>Student Name</th>\n",
       "      <th>Month</th>\n",
       "      <th>Day</th>\n",
       "      <th>Year</th>\n",
       "      <th>2018 tuition</th>\n",
       "      <th>2019 tuition</th>\n",
       "      <th>Percent Growth</th>\n",
       "      <th>Paid</th>\n",
       "      <th>DSC 80 Final Grade</th>\n",
       "    </tr>\n",
       "  </thead>\n",
       "  <tbody>\n",
       "    <tr>\n",
       "      <th>0</th>\n",
       "      <td>10002</td>\n",
       "      <td>John Black</td>\n",
       "      <td>10</td>\n",
       "      <td>12</td>\n",
       "      <td>2018</td>\n",
       "      <td>40000.0</td>\n",
       "      <td>50000.0</td>\n",
       "      <td>25.00%</td>\n",
       "      <td>N</td>\n",
       "      <td>89</td>\n",
       "    </tr>\n",
       "    <tr>\n",
       "      <th>1</th>\n",
       "      <td>552278</td>\n",
       "      <td>Mark White</td>\n",
       "      <td>4</td>\n",
       "      <td>15</td>\n",
       "      <td>2017</td>\n",
       "      <td>9200.0</td>\n",
       "      <td>10120.0</td>\n",
       "      <td>10.00%</td>\n",
       "      <td>Y</td>\n",
       "      <td>90</td>\n",
       "    </tr>\n",
       "    <tr>\n",
       "      <th>2</th>\n",
       "      <td>23477</td>\n",
       "      <td>Amy Red</td>\n",
       "      <td>5</td>\n",
       "      <td>14</td>\n",
       "      <td>2016</td>\n",
       "      <td>50000.0</td>\n",
       "      <td>62500.0</td>\n",
       "      <td>25.00%</td>\n",
       "      <td>N</td>\n",
       "      <td>97</td>\n",
       "    </tr>\n",
       "    <tr>\n",
       "      <th>3</th>\n",
       "      <td>24900</td>\n",
       "      <td>Tom Green</td>\n",
       "      <td>7</td>\n",
       "      <td>10</td>\n",
       "      <td>2015</td>\n",
       "      <td>7000.0</td>\n",
       "      <td>9800.0</td>\n",
       "      <td>40.00%</td>\n",
       "      <td>Y</td>\n",
       "      <td>54</td>\n",
       "    </tr>\n",
       "    <tr>\n",
       "      <th>4</th>\n",
       "      <td>651029</td>\n",
       "      <td>Rose Pink</td>\n",
       "      <td>3</td>\n",
       "      <td>3</td>\n",
       "      <td>2014</td>\n",
       "      <td>10000.0</td>\n",
       "      <td>5000.0</td>\n",
       "      <td>-50.00%</td>\n",
       "      <td>Y</td>\n",
       "      <td>Pass</td>\n",
       "    </tr>\n",
       "  </tbody>\n",
       "</table>\n",
       "</div>"
      ],
      "text/plain": [
       "   Student ID Student Name  Month  Day  Year  2018 tuition  2019 tuition  \\\n",
       "0       10002   John Black     10   12  2018       40000.0       50000.0   \n",
       "1      552278   Mark White      4   15  2017        9200.0       10120.0   \n",
       "2       23477      Amy Red      5   14  2016       50000.0       62500.0   \n",
       "3       24900    Tom Green      7   10  2015        7000.0        9800.0   \n",
       "4      651029    Rose Pink      3    3  2014       10000.0        5000.0   \n",
       "\n",
       "  Percent Growth Paid DSC 80 Final Grade  \n",
       "0         25.00%    N                 89  \n",
       "1         10.00%    Y                 90  \n",
       "2         25.00%    N                 97  \n",
       "3         40.00%    Y                 54  \n",
       "4        -50.00%    Y               Pass  "
      ]
     },
     "execution_count": 13,
     "metadata": {},
     "output_type": "execute_result"
    }
   ],
   "source": [
    "# looping through *columns* is ok! don't loop through rows.\n",
    "\n",
    "for col in df.columns:\n",
    "    if 'tuition' in col:\n",
    "        df[col] = df[col].str.strip('$').astype(np.float64)\n",
    "        \n",
    "df"
   ]
  },
  {
   "cell_type": "markdown",
   "metadata": {
    "slideshow": {
     "slide_type": "slide"
    }
   },
   "source": [
    "### Cleaning up: `Paid`\n",
    "\n",
    "* The `Paid` column should be either `bool` type, or {0,1}.\n",
    "* Y/N typical values from human entry.\n",
    "* Use the `replace` method."
   ]
  },
  {
   "cell_type": "code",
   "execution_count": 14,
   "metadata": {},
   "outputs": [
    {
     "data": {
      "text/html": [
       "<div>\n",
       "<style scoped>\n",
       "    .dataframe tbody tr th:only-of-type {\n",
       "        vertical-align: middle;\n",
       "    }\n",
       "\n",
       "    .dataframe tbody tr th {\n",
       "        vertical-align: top;\n",
       "    }\n",
       "\n",
       "    .dataframe thead th {\n",
       "        text-align: right;\n",
       "    }\n",
       "</style>\n",
       "<table border=\"1\" class=\"dataframe\">\n",
       "  <thead>\n",
       "    <tr style=\"text-align: right;\">\n",
       "      <th></th>\n",
       "      <th>Student ID</th>\n",
       "      <th>Student Name</th>\n",
       "      <th>Month</th>\n",
       "      <th>Day</th>\n",
       "      <th>Year</th>\n",
       "      <th>2018 tuition</th>\n",
       "      <th>2019 tuition</th>\n",
       "      <th>Percent Growth</th>\n",
       "      <th>Paid</th>\n",
       "      <th>DSC 80 Final Grade</th>\n",
       "    </tr>\n",
       "  </thead>\n",
       "  <tbody>\n",
       "    <tr>\n",
       "      <th>0</th>\n",
       "      <td>10002</td>\n",
       "      <td>John Black</td>\n",
       "      <td>10</td>\n",
       "      <td>12</td>\n",
       "      <td>2018</td>\n",
       "      <td>40000.0</td>\n",
       "      <td>50000.0</td>\n",
       "      <td>25.00%</td>\n",
       "      <td>False</td>\n",
       "      <td>89</td>\n",
       "    </tr>\n",
       "    <tr>\n",
       "      <th>1</th>\n",
       "      <td>552278</td>\n",
       "      <td>Mark White</td>\n",
       "      <td>4</td>\n",
       "      <td>15</td>\n",
       "      <td>2017</td>\n",
       "      <td>9200.0</td>\n",
       "      <td>10120.0</td>\n",
       "      <td>10.00%</td>\n",
       "      <td>True</td>\n",
       "      <td>90</td>\n",
       "    </tr>\n",
       "    <tr>\n",
       "      <th>2</th>\n",
       "      <td>23477</td>\n",
       "      <td>Amy Red</td>\n",
       "      <td>5</td>\n",
       "      <td>14</td>\n",
       "      <td>2016</td>\n",
       "      <td>50000.0</td>\n",
       "      <td>62500.0</td>\n",
       "      <td>25.00%</td>\n",
       "      <td>False</td>\n",
       "      <td>97</td>\n",
       "    </tr>\n",
       "    <tr>\n",
       "      <th>3</th>\n",
       "      <td>24900</td>\n",
       "      <td>Tom Green</td>\n",
       "      <td>7</td>\n",
       "      <td>10</td>\n",
       "      <td>2015</td>\n",
       "      <td>7000.0</td>\n",
       "      <td>9800.0</td>\n",
       "      <td>40.00%</td>\n",
       "      <td>True</td>\n",
       "      <td>54</td>\n",
       "    </tr>\n",
       "    <tr>\n",
       "      <th>4</th>\n",
       "      <td>651029</td>\n",
       "      <td>Rose Pink</td>\n",
       "      <td>3</td>\n",
       "      <td>3</td>\n",
       "      <td>2014</td>\n",
       "      <td>10000.0</td>\n",
       "      <td>5000.0</td>\n",
       "      <td>-50.00%</td>\n",
       "      <td>True</td>\n",
       "      <td>Pass</td>\n",
       "    </tr>\n",
       "  </tbody>\n",
       "</table>\n",
       "</div>"
      ],
      "text/plain": [
       "   Student ID Student Name  Month  Day  Year  2018 tuition  2019 tuition  \\\n",
       "0       10002   John Black     10   12  2018       40000.0       50000.0   \n",
       "1      552278   Mark White      4   15  2017        9200.0       10120.0   \n",
       "2       23477      Amy Red      5   14  2016       50000.0       62500.0   \n",
       "3       24900    Tom Green      7   10  2015        7000.0        9800.0   \n",
       "4      651029    Rose Pink      3    3  2014       10000.0        5000.0   \n",
       "\n",
       "  Percent Growth   Paid DSC 80 Final Grade  \n",
       "0         25.00%  False                 89  \n",
       "1         10.00%   True                 90  \n",
       "2         25.00%  False                 97  \n",
       "3         40.00%   True                 54  \n",
       "4        -50.00%   True               Pass  "
      ]
     },
     "execution_count": 14,
     "metadata": {},
     "output_type": "execute_result"
    }
   ],
   "source": [
    "df['Paid'] = df['Paid'].replace({'Y': True, 'N': False})\n",
    "df"
   ]
  },
  {
   "cell_type": "markdown",
   "metadata": {
    "slideshow": {
     "slide_type": "slide"
    }
   },
   "source": [
    "### Cleaning up: `Month, Day, and Year`\n",
    "* Each are `int64` types; this could be *fine* for certain purposes.\n",
    "* Could store as `objects` of the form `Year-Month-Day`\n",
    "    - String sorting coincides with date sorting\n",
    "* Could store as `datetime64` objects (later)."
   ]
  },
  {
   "cell_type": "code",
   "execution_count": 15,
   "metadata": {},
   "outputs": [
    {
     "data": {
      "text/plain": [
       "0    2018-10-12\n",
       "1    2017-04-15\n",
       "2    2016-05-14\n",
       "3    2015-07-10\n",
       "4    2014-03-03\n",
       "dtype: object"
      ]
     },
     "execution_count": 15,
     "metadata": {},
     "output_type": "execute_result"
    }
   ],
   "source": [
    "# What is happening with adding a Series and a string? (Broadcasting)\n",
    "(\n",
    "    df['Year'].astype(str) + '-' + \n",
    "    df['Month'].astype(str).str.zfill(2) + '-' + \n",
    "    df['Day'].astype(str).str.zfill(2)\n",
    ")"
   ]
  },
  {
   "cell_type": "markdown",
   "metadata": {
    "slideshow": {
     "slide_type": "slide"
    }
   },
   "source": [
    "### Cleaning up: `DSC 80 Final Grade`\n",
    "\n",
    "* `DSC 80 Final Grade` stored as an object.\n",
    "    - most entries should be numeric;\n",
    "    - final entry cannot be converted.\n",
    "* Can use `pd.to_numeric(Series, errors='coerce')`.\n",
    "    - Be careful with this!\n",
    "    - `errors='coerce'` can cause uninformed destruction of data."
   ]
  },
  {
   "cell_type": "code",
   "execution_count": 18,
   "metadata": {},
   "outputs": [
    {
     "data": {
      "text/plain": [
       "str"
      ]
     },
     "execution_count": 18,
     "metadata": {},
     "output_type": "execute_result"
    }
   ],
   "source": [
    "# try: astype\n",
    "type(df['DSC 80 Final Grade'].values[0])"
   ]
  },
  {
   "cell_type": "code",
   "execution_count": 19,
   "metadata": {},
   "outputs": [
    {
     "data": {
      "text/html": [
       "<div>\n",
       "<style scoped>\n",
       "    .dataframe tbody tr th:only-of-type {\n",
       "        vertical-align: middle;\n",
       "    }\n",
       "\n",
       "    .dataframe tbody tr th {\n",
       "        vertical-align: top;\n",
       "    }\n",
       "\n",
       "    .dataframe thead th {\n",
       "        text-align: right;\n",
       "    }\n",
       "</style>\n",
       "<table border=\"1\" class=\"dataframe\">\n",
       "  <thead>\n",
       "    <tr style=\"text-align: right;\">\n",
       "      <th></th>\n",
       "      <th>Student ID</th>\n",
       "      <th>Student Name</th>\n",
       "      <th>Month</th>\n",
       "      <th>Day</th>\n",
       "      <th>Year</th>\n",
       "      <th>2018 tuition</th>\n",
       "      <th>2019 tuition</th>\n",
       "      <th>Percent Growth</th>\n",
       "      <th>Paid</th>\n",
       "      <th>DSC 80 Final Grade</th>\n",
       "    </tr>\n",
       "  </thead>\n",
       "  <tbody>\n",
       "    <tr>\n",
       "      <th>0</th>\n",
       "      <td>10002</td>\n",
       "      <td>John Black</td>\n",
       "      <td>10</td>\n",
       "      <td>12</td>\n",
       "      <td>2018</td>\n",
       "      <td>40000.0</td>\n",
       "      <td>50000.0</td>\n",
       "      <td>25.00%</td>\n",
       "      <td>False</td>\n",
       "      <td>89.0</td>\n",
       "    </tr>\n",
       "    <tr>\n",
       "      <th>1</th>\n",
       "      <td>552278</td>\n",
       "      <td>Mark White</td>\n",
       "      <td>4</td>\n",
       "      <td>15</td>\n",
       "      <td>2017</td>\n",
       "      <td>9200.0</td>\n",
       "      <td>10120.0</td>\n",
       "      <td>10.00%</td>\n",
       "      <td>True</td>\n",
       "      <td>90.0</td>\n",
       "    </tr>\n",
       "    <tr>\n",
       "      <th>2</th>\n",
       "      <td>23477</td>\n",
       "      <td>Amy Red</td>\n",
       "      <td>5</td>\n",
       "      <td>14</td>\n",
       "      <td>2016</td>\n",
       "      <td>50000.0</td>\n",
       "      <td>62500.0</td>\n",
       "      <td>25.00%</td>\n",
       "      <td>False</td>\n",
       "      <td>97.0</td>\n",
       "    </tr>\n",
       "    <tr>\n",
       "      <th>3</th>\n",
       "      <td>24900</td>\n",
       "      <td>Tom Green</td>\n",
       "      <td>7</td>\n",
       "      <td>10</td>\n",
       "      <td>2015</td>\n",
       "      <td>7000.0</td>\n",
       "      <td>9800.0</td>\n",
       "      <td>40.00%</td>\n",
       "      <td>True</td>\n",
       "      <td>54.0</td>\n",
       "    </tr>\n",
       "    <tr>\n",
       "      <th>4</th>\n",
       "      <td>651029</td>\n",
       "      <td>Rose Pink</td>\n",
       "      <td>3</td>\n",
       "      <td>3</td>\n",
       "      <td>2014</td>\n",
       "      <td>10000.0</td>\n",
       "      <td>5000.0</td>\n",
       "      <td>-50.00%</td>\n",
       "      <td>True</td>\n",
       "      <td>NaN</td>\n",
       "    </tr>\n",
       "  </tbody>\n",
       "</table>\n",
       "</div>"
      ],
      "text/plain": [
       "   Student ID Student Name  Month  Day  Year  2018 tuition  2019 tuition  \\\n",
       "0       10002   John Black     10   12  2018       40000.0       50000.0   \n",
       "1      552278   Mark White      4   15  2017        9200.0       10120.0   \n",
       "2       23477      Amy Red      5   14  2016       50000.0       62500.0   \n",
       "3       24900    Tom Green      7   10  2015        7000.0        9800.0   \n",
       "4      651029    Rose Pink      3    3  2014       10000.0        5000.0   \n",
       "\n",
       "  Percent Growth   Paid  DSC 80 Final Grade  \n",
       "0         25.00%  False                89.0  \n",
       "1         10.00%   True                90.0  \n",
       "2         25.00%  False                97.0  \n",
       "3         40.00%   True                54.0  \n",
       "4        -50.00%   True                 NaN  "
      ]
     },
     "execution_count": 19,
     "metadata": {},
     "output_type": "execute_result"
    }
   ],
   "source": [
    "df['DSC 80 Final Grade'] = pd.to_numeric(df['DSC 80 Final Grade'], errors='coerce')\n",
    "df"
   ]
  },
  {
   "cell_type": "markdown",
   "metadata": {
    "slideshow": {
     "slide_type": "slide"
    }
   },
   "source": [
    "### Cleaning up: `Student Name`\n",
    "* Need the `Student Name` column to have form **Last Name, First Name**.\n",
    "* Use a custom function and the `apply` method.\n",
    "    - `Series.apply(func)` applies the function `func` to each entry of `Series`."
   ]
  },
  {
   "cell_type": "code",
   "execution_count": 17,
   "metadata": {},
   "outputs": [
    {
     "data": {
      "text/plain": [
       "0    John Black\n",
       "1    Mark White\n",
       "2       Amy Red\n",
       "3     Tom Green\n",
       "4     Rose Pink\n",
       "Name: Student Name, dtype: object"
      ]
     },
     "execution_count": 17,
     "metadata": {},
     "output_type": "execute_result"
    }
   ],
   "source": [
    "df['Student Name']"
   ]
  },
  {
   "cell_type": "code",
   "execution_count": 18,
   "metadata": {},
   "outputs": [
    {
     "data": {
      "text/plain": [
       "'Fraenkel, Aaron'"
      ]
     },
     "execution_count": 18,
     "metadata": {},
     "output_type": "execute_result"
    }
   ],
   "source": [
    "def transpose_name(name):\n",
    "    firstname, lastname = name.split()\n",
    "    return lastname + ', ' + firstname\n",
    "\n",
    "transpose_name('Aaron Fraenkel')"
   ]
  },
  {
   "cell_type": "code",
   "execution_count": 19,
   "metadata": {},
   "outputs": [
    {
     "data": {
      "text/plain": [
       "0    Black, John\n",
       "1    White, Mark\n",
       "2       Red, Amy\n",
       "3     Green, Tom\n",
       "4     Pink, Rose\n",
       "Name: Student Name, dtype: object"
      ]
     },
     "execution_count": 19,
     "metadata": {},
     "output_type": "execute_result"
    }
   ],
   "source": [
    "df['Student Name'].apply(transpose_name)"
   ]
  },
  {
   "cell_type": "markdown",
   "metadata": {
    "slideshow": {
     "slide_type": "slide"
    }
   },
   "source": [
    "### More data type ambiguities\n",
    "\n",
    "<div class=\"image-txt-container\">\n",
    "\n",
    "1. 1537660383 looks like a number, but is probably a date (Unix timestamp)\n",
    "\n",
    "2. \"USD 1,000,000\" looks like a string, but is actually a number and a unit.\n",
    "\n",
    "3. 02111 looks like a number, but is really a zip code (and isn't equal to 2,111)\n",
    "\n",
    "<img src=\"imgs/image_3.png\"/>\n",
    "\n",
    "</div>"
   ]
  },
  {
   "cell_type": "markdown",
   "metadata": {
    "slideshow": {
     "slide_type": "slide"
    }
   },
   "source": [
    "## How well does the data capture \"reality\"\n",
    "\n",
    "* Does my data contain unrealistic or \"incorrect\" values?\n",
    "    - Dates in the future for events in the past\n",
    "    - Locations that don't exist\n",
    "    - Negative counts\n",
    "    - Misspellings of names\n",
    "    - Large outliers\n"
   ]
  },
  {
   "cell_type": "markdown",
   "metadata": {
    "slideshow": {
     "slide_type": "slide"
    }
   },
   "source": [
    "## How well does the data capture \"reality\"\n",
    "\n",
    "    \n",
    "* Does my data violate obvious dependencies?\n",
    "    - E.g., age and birthday don't match \n",
    "    \n",
    "\n",
    "* Was the data entered by hand?\n",
    "     - Spelling errors, fields shifted …\n",
    "     - Did the form require fields or provide default values?\n",
    "     \n",
    "* Are there obvious signs of curb stoning (data falsification):\n",
    "    - Repeated names, fake looking email addresses, repeated use of uncommon names or fields."
   ]
  },
  {
   "cell_type": "markdown",
   "metadata": {
    "slideshow": {
     "slide_type": "slide"
    }
   },
   "source": [
    "# Vehicle Stop Data. Practical Example\n",
    "\n",
    "## Data Source\n",
    "\n",
    "<img src=\"imgs/image_4.png\"/>\n"
   ]
  },
  {
   "cell_type": "markdown",
   "metadata": {
    "slideshow": {
     "slide_type": "slide"
    }
   },
   "source": [
    "# Police Vehicle Stops\n",
    "\n",
    "Vehicle stops made by the San Diego Police Department. \n",
    "\n",
    "Vehicle Stops files contain all vehicle stops for a given year.\n",
    "\n",
    "<img src=\"imgs/image_5.png\"/>"
   ]
  },
  {
   "cell_type": "markdown",
   "metadata": {
    "slideshow": {
     "slide_type": "slide"
    }
   },
   "source": [
    "# SDPD Vehicle Stop Data\n",
    "\n",
    "\n",
    "### Identifying messy data, general questions. \n",
    "\n",
    "1. Check the data types, notice any issues? What should we do?\n",
    "2. String type fields have consistent values?\n",
    "3. No missing values that we don't understand?\n",
    "4. Are all values look in a reasonable range?\n",
    "5. How do we deal with the messiness we found?"
   ]
  },
  {
   "cell_type": "code",
   "execution_count": 20,
   "metadata": {},
   "outputs": [
    {
     "data": {
      "text/html": [
       "<div>\n",
       "<style scoped>\n",
       "    .dataframe tbody tr th:only-of-type {\n",
       "        vertical-align: middle;\n",
       "    }\n",
       "\n",
       "    .dataframe tbody tr th {\n",
       "        vertical-align: top;\n",
       "    }\n",
       "\n",
       "    .dataframe thead th {\n",
       "        text-align: right;\n",
       "    }\n",
       "</style>\n",
       "<table border=\"1\" class=\"dataframe\">\n",
       "  <thead>\n",
       "    <tr style=\"text-align: right;\">\n",
       "      <th></th>\n",
       "      <th>stop_id</th>\n",
       "      <th>stop_cause</th>\n",
       "      <th>service_area</th>\n",
       "      <th>subject_race</th>\n",
       "      <th>subject_sex</th>\n",
       "      <th>subject_age</th>\n",
       "      <th>timestamp</th>\n",
       "      <th>stop_date</th>\n",
       "      <th>stop_time</th>\n",
       "      <th>sd_resident</th>\n",
       "      <th>arrested</th>\n",
       "      <th>searched</th>\n",
       "      <th>obtained_consent</th>\n",
       "      <th>contraband_found</th>\n",
       "      <th>property_seized</th>\n",
       "    </tr>\n",
       "  </thead>\n",
       "  <tbody>\n",
       "    <tr>\n",
       "      <th>0</th>\n",
       "      <td>1308198</td>\n",
       "      <td>Equipment Violation</td>\n",
       "      <td>530</td>\n",
       "      <td>W</td>\n",
       "      <td>M</td>\n",
       "      <td>28</td>\n",
       "      <td>2016-01-01 00:06:00</td>\n",
       "      <td>2016-01-01</td>\n",
       "      <td>0:06</td>\n",
       "      <td>Y</td>\n",
       "      <td>N</td>\n",
       "      <td>N</td>\n",
       "      <td>N</td>\n",
       "      <td>N</td>\n",
       "      <td>N</td>\n",
       "    </tr>\n",
       "    <tr>\n",
       "      <th>1</th>\n",
       "      <td>1308172</td>\n",
       "      <td>Moving Violation</td>\n",
       "      <td>520</td>\n",
       "      <td>B</td>\n",
       "      <td>M</td>\n",
       "      <td>25</td>\n",
       "      <td>2016-01-01 00:10:00</td>\n",
       "      <td>2016-01-01</td>\n",
       "      <td>0:10</td>\n",
       "      <td>N</td>\n",
       "      <td>N</td>\n",
       "      <td>N</td>\n",
       "      <td>NaN</td>\n",
       "      <td>NaN</td>\n",
       "      <td>NaN</td>\n",
       "    </tr>\n",
       "    <tr>\n",
       "      <th>2</th>\n",
       "      <td>1308171</td>\n",
       "      <td>Moving Violation</td>\n",
       "      <td>110</td>\n",
       "      <td>H</td>\n",
       "      <td>F</td>\n",
       "      <td>31</td>\n",
       "      <td>2016-01-01 00:14:00</td>\n",
       "      <td>2016-01-01</td>\n",
       "      <td>0:14</td>\n",
       "      <td>NaN</td>\n",
       "      <td>NaN</td>\n",
       "      <td>NaN</td>\n",
       "      <td>NaN</td>\n",
       "      <td>NaN</td>\n",
       "      <td>NaN</td>\n",
       "    </tr>\n",
       "    <tr>\n",
       "      <th>3</th>\n",
       "      <td>1308170</td>\n",
       "      <td>Moving Violation</td>\n",
       "      <td>Unknown</td>\n",
       "      <td>W</td>\n",
       "      <td>F</td>\n",
       "      <td>29</td>\n",
       "      <td>2016-01-01 00:16:00</td>\n",
       "      <td>2016-01-01</td>\n",
       "      <td>0:16</td>\n",
       "      <td>N</td>\n",
       "      <td>N</td>\n",
       "      <td>N</td>\n",
       "      <td>NaN</td>\n",
       "      <td>NaN</td>\n",
       "      <td>NaN</td>\n",
       "    </tr>\n",
       "    <tr>\n",
       "      <th>4</th>\n",
       "      <td>1308197</td>\n",
       "      <td>Moving Violation</td>\n",
       "      <td>230</td>\n",
       "      <td>W</td>\n",
       "      <td>M</td>\n",
       "      <td>52</td>\n",
       "      <td>2016-01-01 00:30:00</td>\n",
       "      <td>2016-01-01</td>\n",
       "      <td>0:30</td>\n",
       "      <td>N</td>\n",
       "      <td>N</td>\n",
       "      <td>N</td>\n",
       "      <td>NaN</td>\n",
       "      <td>NaN</td>\n",
       "      <td>NaN</td>\n",
       "    </tr>\n",
       "  </tbody>\n",
       "</table>\n",
       "</div>"
      ],
      "text/plain": [
       "   stop_id           stop_cause service_area subject_race subject_sex  \\\n",
       "0  1308198  Equipment Violation          530            W           M   \n",
       "1  1308172     Moving Violation          520            B           M   \n",
       "2  1308171     Moving Violation          110            H           F   \n",
       "3  1308170     Moving Violation      Unknown            W           F   \n",
       "4  1308197     Moving Violation          230            W           M   \n",
       "\n",
       "  subject_age            timestamp   stop_date stop_time sd_resident arrested  \\\n",
       "0          28  2016-01-01 00:06:00  2016-01-01      0:06           Y        N   \n",
       "1          25  2016-01-01 00:10:00  2016-01-01      0:10           N        N   \n",
       "2          31  2016-01-01 00:14:00  2016-01-01      0:14         NaN      NaN   \n",
       "3          29  2016-01-01 00:16:00  2016-01-01      0:16           N        N   \n",
       "4          52  2016-01-01 00:30:00  2016-01-01      0:30           N        N   \n",
       "\n",
       "  searched obtained_consent contraband_found property_seized  \n",
       "0        N                N                N               N  \n",
       "1        N              NaN              NaN             NaN  \n",
       "2      NaN              NaN              NaN             NaN  \n",
       "3        N              NaN              NaN             NaN  \n",
       "4        N              NaN              NaN             NaN  "
      ]
     },
     "execution_count": 20,
     "metadata": {},
     "output_type": "execute_result"
    }
   ],
   "source": [
    "fp = os.path.join('data', 'Vehicle_stops_2016_datasd.csv')\n",
    "stops = pd.read_csv(fp)\n",
    "stops.head()"
   ]
  },
  {
   "cell_type": "markdown",
   "metadata": {
    "slideshow": {
     "slide_type": "slide"
    }
   },
   "source": [
    "### SDPD vehicle stops: data types\n",
    "* Are the data types correct?\n",
    "* Are they easily fixable?"
   ]
  },
  {
   "cell_type": "code",
   "execution_count": 21,
   "metadata": {},
   "outputs": [
    {
     "name": "stdout",
     "output_type": "stream",
     "text": [
      "<class 'pandas.core.frame.DataFrame'>\n",
      "RangeIndex: 103051 entries, 0 to 103050\n",
      "Data columns (total 15 columns):\n",
      "stop_id             103051 non-null int64\n",
      "stop_cause          103044 non-null object\n",
      "service_area        103051 non-null object\n",
      "subject_race        102920 non-null object\n",
      "subject_sex         102865 non-null object\n",
      "subject_age         100284 non-null object\n",
      "timestamp           102879 non-null object\n",
      "stop_date           103051 non-null object\n",
      "stop_time           103051 non-null object\n",
      "sd_resident         83689 non-null object\n",
      "arrested            84400 non-null object\n",
      "searched            83330 non-null object\n",
      "obtained_consent    4791 non-null object\n",
      "contraband_found    4969 non-null object\n",
      "property_seized     4924 non-null object\n",
      "dtypes: int64(1), object(14)\n",
      "memory usage: 11.8+ MB\n"
     ]
    }
   ],
   "source": [
    "# are the data types correct? How to fix them?\n",
    "stops.info()"
   ]
  },
  {
   "cell_type": "markdown",
   "metadata": {
    "slideshow": {
     "slide_type": "slide"
    }
   },
   "source": [
    "### SDPD vehicle stops: unfaithfulness\n",
    "* Are there suspicious values?\n",
    "* If a value is suspicious, can we trust the observation?\n",
    "* Age: Nonsensical? Too old? Too young?"
   ]
  },
  {
   "cell_type": "code",
   "execution_count": 22,
   "metadata": {},
   "outputs": [
    {
     "data": {
      "text/plain": [
       "array(['28', '25', '31', '29', '52', '24', '20', '50', '23', '54', '53',\n",
       "       '35', '38', '18', '48', '68', '45', '63', '49', '42', '27', '19',\n",
       "       '55', '32', '47', '33', '41', '59', '60', '58', '26', '36', '40',\n",
       "       '39', '21', '64', '30', '43', '17', '51', '34', '56', '44', '22',\n",
       "       '69', '46', '16', '57', '37', '65', '72', '67', '66', '70', '62',\n",
       "       '73', '74', '0', '77', nan, '89', '79', '61', '78', '99', '75',\n",
       "       '85', '82', '71', '15', '80', '81', '93', '84', '76', '2', '4',\n",
       "       '86', '91', '83', '88', '98', '87', 'No Age', '9', '100', '14',\n",
       "       '95', '96', '92', '119', '1', '90', '163', '5', '114', '94', '10',\n",
       "       '212', '220', '6', '145', '97', '120'], dtype=object)"
      ]
     },
     "execution_count": 22,
     "metadata": {},
     "output_type": "execute_result"
    }
   ],
   "source": [
    "stops['subject_age'].unique()"
   ]
  },
  {
   "cell_type": "code",
   "execution_count": 23,
   "metadata": {},
   "outputs": [
    {
     "data": {
      "text/plain": [
       "0    28.0\n",
       "1    25.0\n",
       "2    31.0\n",
       "3    29.0\n",
       "4    52.0\n",
       "Name: subject_age, dtype: float64"
      ]
     },
     "execution_count": 23,
     "metadata": {},
     "output_type": "execute_result"
    }
   ],
   "source": [
    "ages = pd.to_numeric(stops['subject_age'], errors='coerce')\n",
    "ages.head()"
   ]
  },
  {
   "cell_type": "code",
   "execution_count": 24,
   "metadata": {},
   "outputs": [
    {
     "data": {
      "text/plain": [
       "count    99648.000000\n",
       "mean        37.277697\n",
       "std         14.456934\n",
       "min          0.000000\n",
       "25%         25.000000\n",
       "50%         34.000000\n",
       "75%         47.000000\n",
       "max        220.000000\n",
       "Name: subject_age, dtype: float64"
      ]
     },
     "execution_count": 24,
     "metadata": {},
     "output_type": "execute_result"
    }
   ],
   "source": [
    "ages.describe()"
   ]
  },
  {
   "cell_type": "code",
   "execution_count": 25,
   "metadata": {},
   "outputs": [
    {
     "data": {
      "text/html": [
       "<div>\n",
       "<style scoped>\n",
       "    .dataframe tbody tr th:only-of-type {\n",
       "        vertical-align: middle;\n",
       "    }\n",
       "\n",
       "    .dataframe tbody tr th {\n",
       "        vertical-align: top;\n",
       "    }\n",
       "\n",
       "    .dataframe thead th {\n",
       "        text-align: right;\n",
       "    }\n",
       "</style>\n",
       "<table border=\"1\" class=\"dataframe\">\n",
       "  <thead>\n",
       "    <tr style=\"text-align: right;\">\n",
       "      <th></th>\n",
       "      <th>stop_id</th>\n",
       "      <th>stop_cause</th>\n",
       "      <th>service_area</th>\n",
       "      <th>subject_race</th>\n",
       "      <th>subject_sex</th>\n",
       "      <th>subject_age</th>\n",
       "      <th>timestamp</th>\n",
       "      <th>stop_date</th>\n",
       "      <th>stop_time</th>\n",
       "      <th>sd_resident</th>\n",
       "      <th>arrested</th>\n",
       "      <th>searched</th>\n",
       "      <th>obtained_consent</th>\n",
       "      <th>contraband_found</th>\n",
       "      <th>property_seized</th>\n",
       "    </tr>\n",
       "  </thead>\n",
       "  <tbody>\n",
       "    <tr>\n",
       "      <th>25029</th>\n",
       "      <td>1333254</td>\n",
       "      <td>Equipment Violation</td>\n",
       "      <td>820</td>\n",
       "      <td>W</td>\n",
       "      <td>F</td>\n",
       "      <td>119</td>\n",
       "      <td>2016-03-19 22:20:00</td>\n",
       "      <td>2016-03-19</td>\n",
       "      <td>22:20</td>\n",
       "      <td>N</td>\n",
       "      <td>N</td>\n",
       "      <td>N</td>\n",
       "      <td>NaN</td>\n",
       "      <td>NaN</td>\n",
       "      <td>NaN</td>\n",
       "    </tr>\n",
       "    <tr>\n",
       "      <th>34179</th>\n",
       "      <td>1375483</td>\n",
       "      <td>Moving Violation</td>\n",
       "      <td>510</td>\n",
       "      <td>W</td>\n",
       "      <td>M</td>\n",
       "      <td>163</td>\n",
       "      <td>2016-04-18 16:35:00</td>\n",
       "      <td>2016-04-18</td>\n",
       "      <td>16:35</td>\n",
       "      <td>N</td>\n",
       "      <td>N</td>\n",
       "      <td>N</td>\n",
       "      <td>NaN</td>\n",
       "      <td>NaN</td>\n",
       "      <td>NaN</td>\n",
       "    </tr>\n",
       "    <tr>\n",
       "      <th>36968</th>\n",
       "      <td>1378369</td>\n",
       "      <td>Moving Violation</td>\n",
       "      <td>240</td>\n",
       "      <td>A</td>\n",
       "      <td>F</td>\n",
       "      <td>114</td>\n",
       "      <td>2016-04-28 11:44:00</td>\n",
       "      <td>2016-04-28</td>\n",
       "      <td>11:44</td>\n",
       "      <td>NaN</td>\n",
       "      <td>NaN</td>\n",
       "      <td>NaN</td>\n",
       "      <td>NaN</td>\n",
       "      <td>NaN</td>\n",
       "      <td>NaN</td>\n",
       "    </tr>\n",
       "    <tr>\n",
       "      <th>63570</th>\n",
       "      <td>1405478</td>\n",
       "      <td>Moving Violation</td>\n",
       "      <td>110</td>\n",
       "      <td>V</td>\n",
       "      <td>M</td>\n",
       "      <td>212</td>\n",
       "      <td>2016-08-04 18:10:00</td>\n",
       "      <td>2016-08-04</td>\n",
       "      <td>18:10</td>\n",
       "      <td>Y</td>\n",
       "      <td>N</td>\n",
       "      <td>N</td>\n",
       "      <td>NaN</td>\n",
       "      <td>NaN</td>\n",
       "      <td>NaN</td>\n",
       "    </tr>\n",
       "    <tr>\n",
       "      <th>70267</th>\n",
       "      <td>1411694</td>\n",
       "      <td>Moving Violation</td>\n",
       "      <td>310</td>\n",
       "      <td>H</td>\n",
       "      <td>F</td>\n",
       "      <td>220</td>\n",
       "      <td>2016-08-30 18:28:00</td>\n",
       "      <td>2016-08-30</td>\n",
       "      <td>18:28</td>\n",
       "      <td>Y</td>\n",
       "      <td>N</td>\n",
       "      <td>N</td>\n",
       "      <td>NaN</td>\n",
       "      <td>NaN</td>\n",
       "      <td>NaN</td>\n",
       "    </tr>\n",
       "    <tr>\n",
       "      <th>77038</th>\n",
       "      <td>1418885</td>\n",
       "      <td>Moving Violation</td>\n",
       "      <td>830</td>\n",
       "      <td>B</td>\n",
       "      <td>M</td>\n",
       "      <td>145</td>\n",
       "      <td>2016-09-22 20:35:00</td>\n",
       "      <td>2016-09-22</td>\n",
       "      <td>20:35</td>\n",
       "      <td>Y</td>\n",
       "      <td>N</td>\n",
       "      <td>Y</td>\n",
       "      <td>N</td>\n",
       "      <td>N</td>\n",
       "      <td>NaN</td>\n",
       "    </tr>\n",
       "    <tr>\n",
       "      <th>99449</th>\n",
       "      <td>1440889</td>\n",
       "      <td>Equipment Violation</td>\n",
       "      <td>120</td>\n",
       "      <td>W</td>\n",
       "      <td>F</td>\n",
       "      <td>120</td>\n",
       "      <td>2016-12-15 19:28:00</td>\n",
       "      <td>2016-12-15</td>\n",
       "      <td>19:28</td>\n",
       "      <td>Y</td>\n",
       "      <td>N</td>\n",
       "      <td>N</td>\n",
       "      <td>NaN</td>\n",
       "      <td>NaN</td>\n",
       "      <td>NaN</td>\n",
       "    </tr>\n",
       "  </tbody>\n",
       "</table>\n",
       "</div>"
      ],
      "text/plain": [
       "       stop_id           stop_cause service_area subject_race subject_sex  \\\n",
       "25029  1333254  Equipment Violation          820            W           F   \n",
       "34179  1375483     Moving Violation          510            W           M   \n",
       "36968  1378369     Moving Violation          240            A           F   \n",
       "63570  1405478     Moving Violation          110            V           M   \n",
       "70267  1411694     Moving Violation          310            H           F   \n",
       "77038  1418885     Moving Violation          830            B           M   \n",
       "99449  1440889  Equipment Violation          120            W           F   \n",
       "\n",
       "      subject_age            timestamp   stop_date stop_time sd_resident  \\\n",
       "25029         119  2016-03-19 22:20:00  2016-03-19     22:20           N   \n",
       "34179         163  2016-04-18 16:35:00  2016-04-18     16:35           N   \n",
       "36968         114  2016-04-28 11:44:00  2016-04-28     11:44         NaN   \n",
       "63570         212  2016-08-04 18:10:00  2016-08-04     18:10           Y   \n",
       "70267         220  2016-08-30 18:28:00  2016-08-30     18:28           Y   \n",
       "77038         145  2016-09-22 20:35:00  2016-09-22     20:35           Y   \n",
       "99449         120  2016-12-15 19:28:00  2016-12-15     19:28           Y   \n",
       "\n",
       "      arrested searched obtained_consent contraband_found property_seized  \n",
       "25029        N        N              NaN              NaN             NaN  \n",
       "34179        N        N              NaN              NaN             NaN  \n",
       "36968      NaN      NaN              NaN              NaN             NaN  \n",
       "63570        N        N              NaN              NaN             NaN  \n",
       "70267        N        N              NaN              NaN             NaN  \n",
       "77038        N        Y                N                N             NaN  \n",
       "99449        N        N              NaN              NaN             NaN  "
      ]
     },
     "execution_count": 25,
     "metadata": {},
     "output_type": "execute_result"
    }
   ],
   "source": [
    "# drop the rows? change age value to null? Is there really a 220 year old? (investigate!)\n",
    "stops[(ages > 100)]"
   ]
  },
  {
   "cell_type": "code",
   "execution_count": 26,
   "metadata": {},
   "outputs": [
    {
     "data": {
      "text/plain": [
       "0.0     218\n",
       "15.0     27\n",
       "2.0       6\n",
       "14.0      5\n",
       "4.0       4\n",
       "10.0      2\n",
       "1.0       2\n",
       "6.0       1\n",
       "5.0       1\n",
       "9.0       1\n",
       "Name: subject_age, dtype: int64"
      ]
     },
     "execution_count": 26,
     "metadata": {},
     "output_type": "execute_result"
    }
   ],
   "source": [
    "ages.loc[lambda x:(0<=x) & (x<16)].value_counts()"
   ]
  },
  {
   "cell_type": "code",
   "execution_count": 27,
   "metadata": {},
   "outputs": [
    {
     "data": {
      "text/html": [
       "<div>\n",
       "<style scoped>\n",
       "    .dataframe tbody tr th:only-of-type {\n",
       "        vertical-align: middle;\n",
       "    }\n",
       "\n",
       "    .dataframe tbody tr th {\n",
       "        vertical-align: top;\n",
       "    }\n",
       "\n",
       "    .dataframe thead th {\n",
       "        text-align: right;\n",
       "    }\n",
       "</style>\n",
       "<table border=\"1\" class=\"dataframe\">\n",
       "  <thead>\n",
       "    <tr style=\"text-align: right;\">\n",
       "      <th></th>\n",
       "      <th>stop_id</th>\n",
       "      <th>stop_cause</th>\n",
       "      <th>service_area</th>\n",
       "      <th>subject_race</th>\n",
       "      <th>subject_sex</th>\n",
       "      <th>subject_age</th>\n",
       "      <th>timestamp</th>\n",
       "      <th>stop_date</th>\n",
       "      <th>stop_time</th>\n",
       "      <th>sd_resident</th>\n",
       "      <th>arrested</th>\n",
       "      <th>searched</th>\n",
       "      <th>obtained_consent</th>\n",
       "      <th>contraband_found</th>\n",
       "      <th>property_seized</th>\n",
       "    </tr>\n",
       "  </thead>\n",
       "  <tbody>\n",
       "    <tr>\n",
       "      <th>1686</th>\n",
       "      <td>1309896</td>\n",
       "      <td>Moving Violation</td>\n",
       "      <td>120</td>\n",
       "      <td>W</td>\n",
       "      <td>M</td>\n",
       "      <td>15</td>\n",
       "      <td>2016-01-08 19:30:00</td>\n",
       "      <td>2016-01-08</td>\n",
       "      <td>19:30</td>\n",
       "      <td>N</td>\n",
       "      <td>N</td>\n",
       "      <td>N</td>\n",
       "      <td>NaN</td>\n",
       "      <td>NaN</td>\n",
       "      <td>NaN</td>\n",
       "    </tr>\n",
       "    <tr>\n",
       "      <th>2838</th>\n",
       "      <td>1313254</td>\n",
       "      <td>Moving Violation</td>\n",
       "      <td>240</td>\n",
       "      <td>W</td>\n",
       "      <td>M</td>\n",
       "      <td>15</td>\n",
       "      <td>2016-01-13 05:25:00</td>\n",
       "      <td>2016-01-13</td>\n",
       "      <td>5:25</td>\n",
       "      <td>Y</td>\n",
       "      <td>N</td>\n",
       "      <td>N</td>\n",
       "      <td>NaN</td>\n",
       "      <td>NaN</td>\n",
       "      <td>NaN</td>\n",
       "    </tr>\n",
       "    <tr>\n",
       "      <th>3028</th>\n",
       "      <td>1310956</td>\n",
       "      <td>Moving Violation</td>\n",
       "      <td>240</td>\n",
       "      <td>V</td>\n",
       "      <td>M</td>\n",
       "      <td>2</td>\n",
       "      <td>2016-01-13 15:37:00</td>\n",
       "      <td>2016-01-13</td>\n",
       "      <td>15:37</td>\n",
       "      <td>Y</td>\n",
       "      <td>N</td>\n",
       "      <td>N</td>\n",
       "      <td>NaN</td>\n",
       "      <td>NaN</td>\n",
       "      <td>NaN</td>\n",
       "    </tr>\n",
       "    <tr>\n",
       "      <th>4343</th>\n",
       "      <td>1312481</td>\n",
       "      <td>Moving Violation</td>\n",
       "      <td>510</td>\n",
       "      <td>H</td>\n",
       "      <td>F</td>\n",
       "      <td>15</td>\n",
       "      <td>2016-01-18 04:00:00</td>\n",
       "      <td>2016-01-18</td>\n",
       "      <td>4:00</td>\n",
       "      <td>Y</td>\n",
       "      <td>Y</td>\n",
       "      <td>Y</td>\n",
       "      <td>N</td>\n",
       "      <td>N</td>\n",
       "      <td>N</td>\n",
       "    </tr>\n",
       "    <tr>\n",
       "      <th>4365</th>\n",
       "      <td>1312492</td>\n",
       "      <td>Equipment Violation</td>\n",
       "      <td>810</td>\n",
       "      <td>H</td>\n",
       "      <td>F</td>\n",
       "      <td>4</td>\n",
       "      <td>2016-01-18 07:13:00</td>\n",
       "      <td>2016-01-18</td>\n",
       "      <td>7:13</td>\n",
       "      <td>Y</td>\n",
       "      <td>N</td>\n",
       "      <td>N</td>\n",
       "      <td>NaN</td>\n",
       "      <td>NaN</td>\n",
       "      <td>NaN</td>\n",
       "    </tr>\n",
       "    <tr>\n",
       "      <th>4590</th>\n",
       "      <td>1312611</td>\n",
       "      <td>Moving Violation</td>\n",
       "      <td>830</td>\n",
       "      <td>H</td>\n",
       "      <td>M</td>\n",
       "      <td>15</td>\n",
       "      <td>2016-01-18 13:36:00</td>\n",
       "      <td>2016-01-18</td>\n",
       "      <td>13:36</td>\n",
       "      <td>NaN</td>\n",
       "      <td>NaN</td>\n",
       "      <td>NaN</td>\n",
       "      <td>NaN</td>\n",
       "      <td>NaN</td>\n",
       "      <td>NaN</td>\n",
       "    </tr>\n",
       "    <tr>\n",
       "      <th>11537</th>\n",
       "      <td>1319497</td>\n",
       "      <td>Moving Violation</td>\n",
       "      <td>810</td>\n",
       "      <td>W</td>\n",
       "      <td>F</td>\n",
       "      <td>2</td>\n",
       "      <td>2016-02-06 21:10:00</td>\n",
       "      <td>2016-02-06</td>\n",
       "      <td>21:10</td>\n",
       "      <td>N</td>\n",
       "      <td>N</td>\n",
       "      <td>N</td>\n",
       "      <td>NaN</td>\n",
       "      <td>NaN</td>\n",
       "      <td>NaN</td>\n",
       "    </tr>\n",
       "    <tr>\n",
       "      <th>12046</th>\n",
       "      <td>1319841</td>\n",
       "      <td>Moving Violation</td>\n",
       "      <td>310</td>\n",
       "      <td>H</td>\n",
       "      <td>M</td>\n",
       "      <td>9</td>\n",
       "      <td>2016-02-08 13:41:00</td>\n",
       "      <td>2016-02-08</td>\n",
       "      <td>13:41</td>\n",
       "      <td>Y</td>\n",
       "      <td>N</td>\n",
       "      <td>N</td>\n",
       "      <td>NaN</td>\n",
       "      <td>NaN</td>\n",
       "      <td>NaN</td>\n",
       "    </tr>\n",
       "    <tr>\n",
       "      <th>13661</th>\n",
       "      <td>1321509</td>\n",
       "      <td>Moving Violation</td>\n",
       "      <td>610</td>\n",
       "      <td>W</td>\n",
       "      <td>M</td>\n",
       "      <td>14</td>\n",
       "      <td>2016-02-12 09:50:00</td>\n",
       "      <td>2016-02-12</td>\n",
       "      <td>9:50</td>\n",
       "      <td>Y</td>\n",
       "      <td>N</td>\n",
       "      <td>N</td>\n",
       "      <td>NaN</td>\n",
       "      <td>NaN</td>\n",
       "      <td>NaN</td>\n",
       "    </tr>\n",
       "    <tr>\n",
       "      <th>14837</th>\n",
       "      <td>1323270</td>\n",
       "      <td>Moving Violation</td>\n",
       "      <td>310</td>\n",
       "      <td>P</td>\n",
       "      <td>M</td>\n",
       "      <td>15</td>\n",
       "      <td>2016-02-17 08:10:00</td>\n",
       "      <td>2016-02-17</td>\n",
       "      <td>8:10</td>\n",
       "      <td>Y</td>\n",
       "      <td>N</td>\n",
       "      <td>N</td>\n",
       "      <td>NaN</td>\n",
       "      <td>NaN</td>\n",
       "      <td>NaN</td>\n",
       "    </tr>\n",
       "    <tr>\n",
       "      <th>15021</th>\n",
       "      <td>1323675</td>\n",
       "      <td>Moving Violation</td>\n",
       "      <td>430</td>\n",
       "      <td>B</td>\n",
       "      <td>M</td>\n",
       "      <td>14</td>\n",
       "      <td>2016-02-17 11:18:00</td>\n",
       "      <td>2016-02-17</td>\n",
       "      <td>11:18</td>\n",
       "      <td>Y</td>\n",
       "      <td>N</td>\n",
       "      <td>N</td>\n",
       "      <td>NaN</td>\n",
       "      <td>NaN</td>\n",
       "      <td>NaN</td>\n",
       "    </tr>\n",
       "    <tr>\n",
       "      <th>17014</th>\n",
       "      <td>1325077</td>\n",
       "      <td>Moving Violation</td>\n",
       "      <td>710</td>\n",
       "      <td>H</td>\n",
       "      <td>F</td>\n",
       "      <td>4</td>\n",
       "      <td>2016-02-23 11:26:00</td>\n",
       "      <td>2016-02-23</td>\n",
       "      <td>11:26</td>\n",
       "      <td>N</td>\n",
       "      <td>N</td>\n",
       "      <td>N</td>\n",
       "      <td>NaN</td>\n",
       "      <td>NaN</td>\n",
       "      <td>NaN</td>\n",
       "    </tr>\n",
       "    <tr>\n",
       "      <th>24725</th>\n",
       "      <td>1332924</td>\n",
       "      <td>Moving Violation</td>\n",
       "      <td>930</td>\n",
       "      <td>O</td>\n",
       "      <td>F</td>\n",
       "      <td>4</td>\n",
       "      <td>2016-03-18 22:15:00</td>\n",
       "      <td>2016-03-18</td>\n",
       "      <td>22:15</td>\n",
       "      <td>NaN</td>\n",
       "      <td>NaN</td>\n",
       "      <td>NaN</td>\n",
       "      <td>NaN</td>\n",
       "      <td>NaN</td>\n",
       "      <td>NaN</td>\n",
       "    </tr>\n",
       "    <tr>\n",
       "      <th>25143</th>\n",
       "      <td>1333377</td>\n",
       "      <td>Moving Violation</td>\n",
       "      <td>310</td>\n",
       "      <td>W</td>\n",
       "      <td>F</td>\n",
       "      <td>1</td>\n",
       "      <td>2016-03-20 11:26:00</td>\n",
       "      <td>2016-03-20</td>\n",
       "      <td>11:26</td>\n",
       "      <td>N</td>\n",
       "      <td>N</td>\n",
       "      <td>N</td>\n",
       "      <td>NaN</td>\n",
       "      <td>NaN</td>\n",
       "      <td>NaN</td>\n",
       "    </tr>\n",
       "    <tr>\n",
       "      <th>25206</th>\n",
       "      <td>1333426</td>\n",
       "      <td>Moving Violation</td>\n",
       "      <td>230</td>\n",
       "      <td>W</td>\n",
       "      <td>M</td>\n",
       "      <td>15</td>\n",
       "      <td>2016-03-20 18:20:00</td>\n",
       "      <td>2016-03-20</td>\n",
       "      <td>18:20</td>\n",
       "      <td>N</td>\n",
       "      <td>N</td>\n",
       "      <td>N</td>\n",
       "      <td>NaN</td>\n",
       "      <td>NaN</td>\n",
       "      <td>NaN</td>\n",
       "    </tr>\n",
       "    <tr>\n",
       "      <th>25347</th>\n",
       "      <td>1333860</td>\n",
       "      <td>Moving Violation</td>\n",
       "      <td>520</td>\n",
       "      <td>W</td>\n",
       "      <td>F</td>\n",
       "      <td>4</td>\n",
       "      <td>2016-03-21 09:48:00</td>\n",
       "      <td>2016-03-21</td>\n",
       "      <td>9:48</td>\n",
       "      <td>Y</td>\n",
       "      <td>N</td>\n",
       "      <td>N</td>\n",
       "      <td>NaN</td>\n",
       "      <td>NaN</td>\n",
       "      <td>NaN</td>\n",
       "    </tr>\n",
       "    <tr>\n",
       "      <th>30030</th>\n",
       "      <td>1340091</td>\n",
       "      <td>Equipment Violation</td>\n",
       "      <td>710</td>\n",
       "      <td>H</td>\n",
       "      <td>M</td>\n",
       "      <td>15</td>\n",
       "      <td>2016-04-05 11:30:00</td>\n",
       "      <td>2016-04-05</td>\n",
       "      <td>11:30</td>\n",
       "      <td>Y</td>\n",
       "      <td>N</td>\n",
       "      <td>N</td>\n",
       "      <td>NaN</td>\n",
       "      <td>NaN</td>\n",
       "      <td>NaN</td>\n",
       "    </tr>\n",
       "    <tr>\n",
       "      <th>30135</th>\n",
       "      <td>1340075</td>\n",
       "      <td>Moving Violation</td>\n",
       "      <td>720</td>\n",
       "      <td>H</td>\n",
       "      <td>M</td>\n",
       "      <td>15</td>\n",
       "      <td>2016-04-05 14:52:00</td>\n",
       "      <td>2016-04-05</td>\n",
       "      <td>14:52</td>\n",
       "      <td>Y</td>\n",
       "      <td>N</td>\n",
       "      <td>N</td>\n",
       "      <td>NaN</td>\n",
       "      <td>NaN</td>\n",
       "      <td>NaN</td>\n",
       "    </tr>\n",
       "    <tr>\n",
       "      <th>32359</th>\n",
       "      <td>1340433</td>\n",
       "      <td>Moving Violation</td>\n",
       "      <td>930</td>\n",
       "      <td>H</td>\n",
       "      <td>F</td>\n",
       "      <td>15</td>\n",
       "      <td>2016-04-13 07:35:00</td>\n",
       "      <td>2016-04-13</td>\n",
       "      <td>7:35</td>\n",
       "      <td>Y</td>\n",
       "      <td>N</td>\n",
       "      <td>N</td>\n",
       "      <td>NaN</td>\n",
       "      <td>NaN</td>\n",
       "      <td>NaN</td>\n",
       "    </tr>\n",
       "    <tr>\n",
       "      <th>34937</th>\n",
       "      <td>1375960</td>\n",
       "      <td>Muni, County, H&amp;S Code</td>\n",
       "      <td>710</td>\n",
       "      <td>H</td>\n",
       "      <td>M</td>\n",
       "      <td>5</td>\n",
       "      <td>2016-04-20 17:29:00</td>\n",
       "      <td>2016-04-20</td>\n",
       "      <td>17:29</td>\n",
       "      <td>Y</td>\n",
       "      <td>N</td>\n",
       "      <td>N</td>\n",
       "      <td>NaN</td>\n",
       "      <td>NaN</td>\n",
       "      <td>NaN</td>\n",
       "    </tr>\n",
       "    <tr>\n",
       "      <th>36208</th>\n",
       "      <td>1377604</td>\n",
       "      <td>Moving Violation</td>\n",
       "      <td>Unknown</td>\n",
       "      <td>W</td>\n",
       "      <td>F</td>\n",
       "      <td>14</td>\n",
       "      <td>2016-04-25 16:10:00</td>\n",
       "      <td>2016-04-25</td>\n",
       "      <td>16:10</td>\n",
       "      <td>Y</td>\n",
       "      <td>N</td>\n",
       "      <td>N</td>\n",
       "      <td>NaN</td>\n",
       "      <td>NaN</td>\n",
       "      <td>NaN</td>\n",
       "    </tr>\n",
       "    <tr>\n",
       "      <th>37151</th>\n",
       "      <td>1378596</td>\n",
       "      <td>Moving Violation</td>\n",
       "      <td>310</td>\n",
       "      <td>W</td>\n",
       "      <td>M</td>\n",
       "      <td>15</td>\n",
       "      <td>2016-04-29 07:30:00</td>\n",
       "      <td>2016-04-29</td>\n",
       "      <td>7:30</td>\n",
       "      <td>NaN</td>\n",
       "      <td>NaN</td>\n",
       "      <td>NaN</td>\n",
       "      <td>NaN</td>\n",
       "      <td>NaN</td>\n",
       "      <td>NaN</td>\n",
       "    </tr>\n",
       "    <tr>\n",
       "      <th>37401</th>\n",
       "      <td>1378802</td>\n",
       "      <td>Equipment Violation</td>\n",
       "      <td>930</td>\n",
       "      <td>W</td>\n",
       "      <td>F</td>\n",
       "      <td>15</td>\n",
       "      <td>2016-04-30 02:50:00</td>\n",
       "      <td>2016-04-30</td>\n",
       "      <td>2:50</td>\n",
       "      <td>Y</td>\n",
       "      <td>N</td>\n",
       "      <td>N</td>\n",
       "      <td>NaN</td>\n",
       "      <td>NaN</td>\n",
       "      <td>NaN</td>\n",
       "    </tr>\n",
       "    <tr>\n",
       "      <th>37546</th>\n",
       "      <td>1379071</td>\n",
       "      <td>Equipment Violation</td>\n",
       "      <td>110</td>\n",
       "      <td>W</td>\n",
       "      <td>M</td>\n",
       "      <td>2</td>\n",
       "      <td>2016-04-30 19:16:00</td>\n",
       "      <td>2016-04-30</td>\n",
       "      <td>19:16</td>\n",
       "      <td>Y</td>\n",
       "      <td>N</td>\n",
       "      <td>N</td>\n",
       "      <td>NaN</td>\n",
       "      <td>NaN</td>\n",
       "      <td>NaN</td>\n",
       "    </tr>\n",
       "    <tr>\n",
       "      <th>37786</th>\n",
       "      <td>1387779</td>\n",
       "      <td>Moving Violation</td>\n",
       "      <td>930</td>\n",
       "      <td>H</td>\n",
       "      <td>F</td>\n",
       "      <td>15</td>\n",
       "      <td>2016-05-01 13:35:00</td>\n",
       "      <td>2016-05-01</td>\n",
       "      <td>13:35</td>\n",
       "      <td>Y</td>\n",
       "      <td>N</td>\n",
       "      <td>N</td>\n",
       "      <td>NaN</td>\n",
       "      <td>NaN</td>\n",
       "      <td>NaN</td>\n",
       "    </tr>\n",
       "    <tr>\n",
       "      <th>39264</th>\n",
       "      <td>1380510</td>\n",
       "      <td>Equipment Violation</td>\n",
       "      <td>820</td>\n",
       "      <td>V</td>\n",
       "      <td>F</td>\n",
       "      <td>2</td>\n",
       "      <td>2016-05-06 11:50:00</td>\n",
       "      <td>2016-05-06</td>\n",
       "      <td>11:50</td>\n",
       "      <td>Y</td>\n",
       "      <td>N</td>\n",
       "      <td>N</td>\n",
       "      <td>NaN</td>\n",
       "      <td>NaN</td>\n",
       "      <td>NaN</td>\n",
       "    </tr>\n",
       "    <tr>\n",
       "      <th>39374</th>\n",
       "      <td>1380665</td>\n",
       "      <td>Suspect Info (I.S., Bulletin, Log)</td>\n",
       "      <td>110</td>\n",
       "      <td>H</td>\n",
       "      <td>M</td>\n",
       "      <td>14</td>\n",
       "      <td>2016-05-06 22:00:00</td>\n",
       "      <td>2016-05-06</td>\n",
       "      <td>22:00</td>\n",
       "      <td>Y</td>\n",
       "      <td>N</td>\n",
       "      <td>Y</td>\n",
       "      <td>N</td>\n",
       "      <td>N</td>\n",
       "      <td>N</td>\n",
       "    </tr>\n",
       "    <tr>\n",
       "      <th>44310</th>\n",
       "      <td>1385411</td>\n",
       "      <td>Moving Violation</td>\n",
       "      <td>430</td>\n",
       "      <td>W</td>\n",
       "      <td>M</td>\n",
       "      <td>15</td>\n",
       "      <td>2016-05-24 08:15:00</td>\n",
       "      <td>2016-05-24</td>\n",
       "      <td>8:15</td>\n",
       "      <td>N</td>\n",
       "      <td>N</td>\n",
       "      <td>N</td>\n",
       "      <td>NaN</td>\n",
       "      <td>NaN</td>\n",
       "      <td>NaN</td>\n",
       "    </tr>\n",
       "    <tr>\n",
       "      <th>49382</th>\n",
       "      <td>1390413</td>\n",
       "      <td>Suspect Info (I.S., Bulletin, Log)</td>\n",
       "      <td>620</td>\n",
       "      <td>A</td>\n",
       "      <td>M</td>\n",
       "      <td>15</td>\n",
       "      <td>2016-06-10 21:26:00</td>\n",
       "      <td>2016-06-10</td>\n",
       "      <td>21:26</td>\n",
       "      <td>Y</td>\n",
       "      <td>N</td>\n",
       "      <td>N</td>\n",
       "      <td>NaN</td>\n",
       "      <td>NaN</td>\n",
       "      <td>NaN</td>\n",
       "    </tr>\n",
       "    <tr>\n",
       "      <th>50160</th>\n",
       "      <td>1392758</td>\n",
       "      <td>Equipment Violation</td>\n",
       "      <td>710</td>\n",
       "      <td>H</td>\n",
       "      <td>M</td>\n",
       "      <td>15</td>\n",
       "      <td>2016-06-14 07:50:00</td>\n",
       "      <td>2016-06-14</td>\n",
       "      <td>7:50</td>\n",
       "      <td>Y</td>\n",
       "      <td>N</td>\n",
       "      <td>Y</td>\n",
       "      <td>N</td>\n",
       "      <td>N</td>\n",
       "      <td>N</td>\n",
       "    </tr>\n",
       "    <tr>\n",
       "      <th>59663</th>\n",
       "      <td>1401740</td>\n",
       "      <td>Moving Violation</td>\n",
       "      <td>610</td>\n",
       "      <td>B</td>\n",
       "      <td>M</td>\n",
       "      <td>10</td>\n",
       "      <td>2016-07-19 08:22:00</td>\n",
       "      <td>2016-07-19</td>\n",
       "      <td>8:22</td>\n",
       "      <td>Y</td>\n",
       "      <td>N</td>\n",
       "      <td>N</td>\n",
       "      <td>NaN</td>\n",
       "      <td>NaN</td>\n",
       "      <td>NaN</td>\n",
       "    </tr>\n",
       "    <tr>\n",
       "      <th>61146</th>\n",
       "      <td>1402826</td>\n",
       "      <td>Moving Violation</td>\n",
       "      <td>230</td>\n",
       "      <td>V</td>\n",
       "      <td>F</td>\n",
       "      <td>15</td>\n",
       "      <td>2016-07-24 21:30:00</td>\n",
       "      <td>2016-07-24</td>\n",
       "      <td>21:30</td>\n",
       "      <td>NaN</td>\n",
       "      <td>NaN</td>\n",
       "      <td>NaN</td>\n",
       "      <td>NaN</td>\n",
       "      <td>NaN</td>\n",
       "      <td>NaN</td>\n",
       "    </tr>\n",
       "    <tr>\n",
       "      <th>67733</th>\n",
       "      <td>1409451</td>\n",
       "      <td>Moving Violation</td>\n",
       "      <td>120</td>\n",
       "      <td>H</td>\n",
       "      <td>F</td>\n",
       "      <td>15</td>\n",
       "      <td>2016-08-21 15:10:00</td>\n",
       "      <td>2016-08-21</td>\n",
       "      <td>15:10</td>\n",
       "      <td>NaN</td>\n",
       "      <td>NaN</td>\n",
       "      <td>NaN</td>\n",
       "      <td>NaN</td>\n",
       "      <td>NaN</td>\n",
       "      <td>NaN</td>\n",
       "    </tr>\n",
       "    <tr>\n",
       "      <th>70180</th>\n",
       "      <td>1412312</td>\n",
       "      <td>Moving Violation</td>\n",
       "      <td>710</td>\n",
       "      <td>H</td>\n",
       "      <td>F</td>\n",
       "      <td>15</td>\n",
       "      <td>2016-08-30 14:01:00</td>\n",
       "      <td>2016-08-30</td>\n",
       "      <td>14:01</td>\n",
       "      <td>N</td>\n",
       "      <td>N</td>\n",
       "      <td>N</td>\n",
       "      <td>NaN</td>\n",
       "      <td>NaN</td>\n",
       "      <td>NaN</td>\n",
       "    </tr>\n",
       "    <tr>\n",
       "      <th>75283</th>\n",
       "      <td>1417063</td>\n",
       "      <td>Moving Violation</td>\n",
       "      <td>320</td>\n",
       "      <td>O</td>\n",
       "      <td>M</td>\n",
       "      <td>15</td>\n",
       "      <td>2016-09-15 21:45:00</td>\n",
       "      <td>2016-09-15</td>\n",
       "      <td>21:45</td>\n",
       "      <td>Y</td>\n",
       "      <td>N</td>\n",
       "      <td>N</td>\n",
       "      <td>NaN</td>\n",
       "      <td>NaN</td>\n",
       "      <td>NaN</td>\n",
       "    </tr>\n",
       "    <tr>\n",
       "      <th>76011</th>\n",
       "      <td>1417696</td>\n",
       "      <td>Equipment Violation</td>\n",
       "      <td>310</td>\n",
       "      <td>W</td>\n",
       "      <td>F</td>\n",
       "      <td>6</td>\n",
       "      <td>2016-09-18 10:10:00</td>\n",
       "      <td>2016-09-18</td>\n",
       "      <td>10:10</td>\n",
       "      <td>NaN</td>\n",
       "      <td>NaN</td>\n",
       "      <td>NaN</td>\n",
       "      <td>NaN</td>\n",
       "      <td>NaN</td>\n",
       "      <td>NaN</td>\n",
       "    </tr>\n",
       "    <tr>\n",
       "      <th>77460</th>\n",
       "      <td>1419306</td>\n",
       "      <td>Equipment Violation</td>\n",
       "      <td>820</td>\n",
       "      <td>H</td>\n",
       "      <td>M</td>\n",
       "      <td>10</td>\n",
       "      <td>2016-09-24 22:05:00</td>\n",
       "      <td>2016-09-24</td>\n",
       "      <td>22:05</td>\n",
       "      <td>N</td>\n",
       "      <td>N</td>\n",
       "      <td>N</td>\n",
       "      <td>NaN</td>\n",
       "      <td>NaN</td>\n",
       "      <td>NaN</td>\n",
       "    </tr>\n",
       "    <tr>\n",
       "      <th>80329</th>\n",
       "      <td>1421860</td>\n",
       "      <td>Moving Violation</td>\n",
       "      <td>710</td>\n",
       "      <td>H</td>\n",
       "      <td>F</td>\n",
       "      <td>2</td>\n",
       "      <td>2016-10-08 09:50:00</td>\n",
       "      <td>2016-10-08</td>\n",
       "      <td>9:50</td>\n",
       "      <td>Y</td>\n",
       "      <td>N</td>\n",
       "      <td>N</td>\n",
       "      <td>NaN</td>\n",
       "      <td>NaN</td>\n",
       "      <td>NaN</td>\n",
       "    </tr>\n",
       "    <tr>\n",
       "      <th>85647</th>\n",
       "      <td>1427056</td>\n",
       "      <td>Moving Violation</td>\n",
       "      <td>440</td>\n",
       "      <td>H</td>\n",
       "      <td>M</td>\n",
       "      <td>15</td>\n",
       "      <td>2016-10-27 07:18:00</td>\n",
       "      <td>2016-10-27</td>\n",
       "      <td>7:18</td>\n",
       "      <td>Y</td>\n",
       "      <td>N</td>\n",
       "      <td>N</td>\n",
       "      <td>NaN</td>\n",
       "      <td>NaN</td>\n",
       "      <td>NaN</td>\n",
       "    </tr>\n",
       "    <tr>\n",
       "      <th>86125</th>\n",
       "      <td>1427566</td>\n",
       "      <td>Moving Violation</td>\n",
       "      <td>230</td>\n",
       "      <td>W</td>\n",
       "      <td>M</td>\n",
       "      <td>14</td>\n",
       "      <td>2016-10-28 14:00:00</td>\n",
       "      <td>2016-10-28</td>\n",
       "      <td>14:00</td>\n",
       "      <td>Y</td>\n",
       "      <td>N</td>\n",
       "      <td>N</td>\n",
       "      <td>NaN</td>\n",
       "      <td>NaN</td>\n",
       "      <td>NaN</td>\n",
       "    </tr>\n",
       "    <tr>\n",
       "      <th>86514</th>\n",
       "      <td>1428195</td>\n",
       "      <td>Equipment Violation</td>\n",
       "      <td>820</td>\n",
       "      <td>H</td>\n",
       "      <td>M</td>\n",
       "      <td>15</td>\n",
       "      <td>2016-10-30 15:35:00</td>\n",
       "      <td>2016-10-30</td>\n",
       "      <td>15:35</td>\n",
       "      <td>Y</td>\n",
       "      <td>N</td>\n",
       "      <td>N</td>\n",
       "      <td>NaN</td>\n",
       "      <td>NaN</td>\n",
       "      <td>NaN</td>\n",
       "    </tr>\n",
       "    <tr>\n",
       "      <th>89754</th>\n",
       "      <td>1431510</td>\n",
       "      <td>Moving Violation</td>\n",
       "      <td>510</td>\n",
       "      <td>H</td>\n",
       "      <td>M</td>\n",
       "      <td>15</td>\n",
       "      <td>2016-11-09 16:15:00</td>\n",
       "      <td>2016-11-09</td>\n",
       "      <td>16:15</td>\n",
       "      <td>Y</td>\n",
       "      <td>Y</td>\n",
       "      <td>Y</td>\n",
       "      <td>NaN</td>\n",
       "      <td>NaN</td>\n",
       "      <td>NaN</td>\n",
       "    </tr>\n",
       "    <tr>\n",
       "      <th>92228</th>\n",
       "      <td>1434037</td>\n",
       "      <td>Moving Violation</td>\n",
       "      <td>810</td>\n",
       "      <td>B</td>\n",
       "      <td>F</td>\n",
       "      <td>2</td>\n",
       "      <td>2016-11-18 10:30:00</td>\n",
       "      <td>2016-11-18</td>\n",
       "      <td>10:30</td>\n",
       "      <td>Y</td>\n",
       "      <td>N</td>\n",
       "      <td>N</td>\n",
       "      <td>NaN</td>\n",
       "      <td>NaN</td>\n",
       "      <td>NaN</td>\n",
       "    </tr>\n",
       "    <tr>\n",
       "      <th>97831</th>\n",
       "      <td>1439545</td>\n",
       "      <td>Equipment Violation</td>\n",
       "      <td>620</td>\n",
       "      <td>W</td>\n",
       "      <td>M</td>\n",
       "      <td>1</td>\n",
       "      <td>2016-12-10 13:00:00</td>\n",
       "      <td>2016-12-10</td>\n",
       "      <td>13:00</td>\n",
       "      <td>Y</td>\n",
       "      <td>N</td>\n",
       "      <td>NaN</td>\n",
       "      <td>NaN</td>\n",
       "      <td>NaN</td>\n",
       "      <td>NaN</td>\n",
       "    </tr>\n",
       "    <tr>\n",
       "      <th>97958</th>\n",
       "      <td>1439841</td>\n",
       "      <td>Moving Violation</td>\n",
       "      <td>310</td>\n",
       "      <td>V</td>\n",
       "      <td>M</td>\n",
       "      <td>15</td>\n",
       "      <td>2016-12-10 22:25:00</td>\n",
       "      <td>2016-12-10</td>\n",
       "      <td>22:25</td>\n",
       "      <td>Y</td>\n",
       "      <td>N</td>\n",
       "      <td>N</td>\n",
       "      <td>NaN</td>\n",
       "      <td>NaN</td>\n",
       "      <td>NaN</td>\n",
       "    </tr>\n",
       "    <tr>\n",
       "      <th>98042</th>\n",
       "      <td>1439875</td>\n",
       "      <td>Moving Violation</td>\n",
       "      <td>930</td>\n",
       "      <td>W</td>\n",
       "      <td>F</td>\n",
       "      <td>15</td>\n",
       "      <td>2016-12-11 11:00:00</td>\n",
       "      <td>2016-12-11</td>\n",
       "      <td>11:00</td>\n",
       "      <td>Y</td>\n",
       "      <td>N</td>\n",
       "      <td>N</td>\n",
       "      <td>NaN</td>\n",
       "      <td>NaN</td>\n",
       "      <td>NaN</td>\n",
       "    </tr>\n",
       "    <tr>\n",
       "      <th>98309</th>\n",
       "      <td>1440135</td>\n",
       "      <td>Equipment Violation</td>\n",
       "      <td>610</td>\n",
       "      <td>W</td>\n",
       "      <td>F</td>\n",
       "      <td>15</td>\n",
       "      <td>2016-12-12 15:30:00</td>\n",
       "      <td>2016-12-12</td>\n",
       "      <td>15:30</td>\n",
       "      <td>Y</td>\n",
       "      <td>N</td>\n",
       "      <td>N</td>\n",
       "      <td>NaN</td>\n",
       "      <td>NaN</td>\n",
       "      <td>NaN</td>\n",
       "    </tr>\n",
       "    <tr>\n",
       "      <th>100067</th>\n",
       "      <td>1442654</td>\n",
       "      <td>Moving Violation</td>\n",
       "      <td>110</td>\n",
       "      <td>H</td>\n",
       "      <td>M</td>\n",
       "      <td>15</td>\n",
       "      <td>2016-12-19 09:58:00</td>\n",
       "      <td>2016-12-19</td>\n",
       "      <td>9:58</td>\n",
       "      <td>Y</td>\n",
       "      <td>N</td>\n",
       "      <td>N</td>\n",
       "      <td>NaN</td>\n",
       "      <td>NaN</td>\n",
       "      <td>NaN</td>\n",
       "    </tr>\n",
       "    <tr>\n",
       "      <th>100465</th>\n",
       "      <td>1442806</td>\n",
       "      <td>Moving Violation</td>\n",
       "      <td>810</td>\n",
       "      <td>O</td>\n",
       "      <td>M</td>\n",
       "      <td>15</td>\n",
       "      <td>2016-12-20 10:45:00</td>\n",
       "      <td>2016-12-20</td>\n",
       "      <td>10:45</td>\n",
       "      <td>Y</td>\n",
       "      <td>N</td>\n",
       "      <td>N</td>\n",
       "      <td>NaN</td>\n",
       "      <td>NaN</td>\n",
       "      <td>NaN</td>\n",
       "    </tr>\n",
       "  </tbody>\n",
       "</table>\n",
       "</div>"
      ],
      "text/plain": [
       "        stop_id                          stop_cause service_area subject_race  \\\n",
       "1686    1309896                    Moving Violation          120            W   \n",
       "2838    1313254                    Moving Violation          240            W   \n",
       "3028    1310956                    Moving Violation          240            V   \n",
       "4343    1312481                    Moving Violation          510            H   \n",
       "4365    1312492                 Equipment Violation          810            H   \n",
       "4590    1312611                    Moving Violation          830            H   \n",
       "11537   1319497                    Moving Violation          810            W   \n",
       "12046   1319841                    Moving Violation          310            H   \n",
       "13661   1321509                    Moving Violation          610            W   \n",
       "14837   1323270                    Moving Violation          310            P   \n",
       "15021   1323675                    Moving Violation          430            B   \n",
       "17014   1325077                    Moving Violation          710            H   \n",
       "24725   1332924                    Moving Violation          930            O   \n",
       "25143   1333377                    Moving Violation          310            W   \n",
       "25206   1333426                    Moving Violation          230            W   \n",
       "25347   1333860                    Moving Violation          520            W   \n",
       "30030   1340091                 Equipment Violation          710            H   \n",
       "30135   1340075                    Moving Violation          720            H   \n",
       "32359   1340433                    Moving Violation          930            H   \n",
       "34937   1375960              Muni, County, H&S Code          710            H   \n",
       "36208   1377604                    Moving Violation      Unknown            W   \n",
       "37151   1378596                    Moving Violation          310            W   \n",
       "37401   1378802                 Equipment Violation          930            W   \n",
       "37546   1379071                 Equipment Violation          110            W   \n",
       "37786   1387779                    Moving Violation          930            H   \n",
       "39264   1380510                 Equipment Violation          820            V   \n",
       "39374   1380665  Suspect Info (I.S., Bulletin, Log)          110            H   \n",
       "44310   1385411                    Moving Violation          430            W   \n",
       "49382   1390413  Suspect Info (I.S., Bulletin, Log)          620            A   \n",
       "50160   1392758                 Equipment Violation          710            H   \n",
       "59663   1401740                    Moving Violation          610            B   \n",
       "61146   1402826                    Moving Violation          230            V   \n",
       "67733   1409451                    Moving Violation          120            H   \n",
       "70180   1412312                    Moving Violation          710            H   \n",
       "75283   1417063                    Moving Violation          320            O   \n",
       "76011   1417696                 Equipment Violation          310            W   \n",
       "77460   1419306                 Equipment Violation          820            H   \n",
       "80329   1421860                    Moving Violation          710            H   \n",
       "85647   1427056                    Moving Violation          440            H   \n",
       "86125   1427566                    Moving Violation          230            W   \n",
       "86514   1428195                 Equipment Violation          820            H   \n",
       "89754   1431510                    Moving Violation          510            H   \n",
       "92228   1434037                    Moving Violation          810            B   \n",
       "97831   1439545                 Equipment Violation          620            W   \n",
       "97958   1439841                    Moving Violation          310            V   \n",
       "98042   1439875                    Moving Violation          930            W   \n",
       "98309   1440135                 Equipment Violation          610            W   \n",
       "100067  1442654                    Moving Violation          110            H   \n",
       "100465  1442806                    Moving Violation          810            O   \n",
       "\n",
       "       subject_sex subject_age            timestamp   stop_date stop_time  \\\n",
       "1686             M          15  2016-01-08 19:30:00  2016-01-08     19:30   \n",
       "2838             M          15  2016-01-13 05:25:00  2016-01-13      5:25   \n",
       "3028             M           2  2016-01-13 15:37:00  2016-01-13     15:37   \n",
       "4343             F          15  2016-01-18 04:00:00  2016-01-18      4:00   \n",
       "4365             F           4  2016-01-18 07:13:00  2016-01-18      7:13   \n",
       "4590             M          15  2016-01-18 13:36:00  2016-01-18     13:36   \n",
       "11537            F           2  2016-02-06 21:10:00  2016-02-06     21:10   \n",
       "12046            M           9  2016-02-08 13:41:00  2016-02-08     13:41   \n",
       "13661            M          14  2016-02-12 09:50:00  2016-02-12      9:50   \n",
       "14837            M          15  2016-02-17 08:10:00  2016-02-17      8:10   \n",
       "15021            M          14  2016-02-17 11:18:00  2016-02-17     11:18   \n",
       "17014            F           4  2016-02-23 11:26:00  2016-02-23     11:26   \n",
       "24725            F           4  2016-03-18 22:15:00  2016-03-18     22:15   \n",
       "25143            F           1  2016-03-20 11:26:00  2016-03-20     11:26   \n",
       "25206            M          15  2016-03-20 18:20:00  2016-03-20     18:20   \n",
       "25347            F           4  2016-03-21 09:48:00  2016-03-21      9:48   \n",
       "30030            M          15  2016-04-05 11:30:00  2016-04-05     11:30   \n",
       "30135            M          15  2016-04-05 14:52:00  2016-04-05     14:52   \n",
       "32359            F          15  2016-04-13 07:35:00  2016-04-13      7:35   \n",
       "34937            M           5  2016-04-20 17:29:00  2016-04-20     17:29   \n",
       "36208            F          14  2016-04-25 16:10:00  2016-04-25     16:10   \n",
       "37151            M          15  2016-04-29 07:30:00  2016-04-29      7:30   \n",
       "37401            F          15  2016-04-30 02:50:00  2016-04-30      2:50   \n",
       "37546            M           2  2016-04-30 19:16:00  2016-04-30     19:16   \n",
       "37786            F          15  2016-05-01 13:35:00  2016-05-01     13:35   \n",
       "39264            F           2  2016-05-06 11:50:00  2016-05-06     11:50   \n",
       "39374            M          14  2016-05-06 22:00:00  2016-05-06     22:00   \n",
       "44310            M          15  2016-05-24 08:15:00  2016-05-24      8:15   \n",
       "49382            M          15  2016-06-10 21:26:00  2016-06-10     21:26   \n",
       "50160            M          15  2016-06-14 07:50:00  2016-06-14      7:50   \n",
       "59663            M          10  2016-07-19 08:22:00  2016-07-19      8:22   \n",
       "61146            F          15  2016-07-24 21:30:00  2016-07-24     21:30   \n",
       "67733            F          15  2016-08-21 15:10:00  2016-08-21     15:10   \n",
       "70180            F          15  2016-08-30 14:01:00  2016-08-30     14:01   \n",
       "75283            M          15  2016-09-15 21:45:00  2016-09-15     21:45   \n",
       "76011            F           6  2016-09-18 10:10:00  2016-09-18     10:10   \n",
       "77460            M          10  2016-09-24 22:05:00  2016-09-24     22:05   \n",
       "80329            F           2  2016-10-08 09:50:00  2016-10-08      9:50   \n",
       "85647            M          15  2016-10-27 07:18:00  2016-10-27      7:18   \n",
       "86125            M          14  2016-10-28 14:00:00  2016-10-28     14:00   \n",
       "86514            M          15  2016-10-30 15:35:00  2016-10-30     15:35   \n",
       "89754            M          15  2016-11-09 16:15:00  2016-11-09     16:15   \n",
       "92228            F           2  2016-11-18 10:30:00  2016-11-18     10:30   \n",
       "97831            M           1  2016-12-10 13:00:00  2016-12-10     13:00   \n",
       "97958            M          15  2016-12-10 22:25:00  2016-12-10     22:25   \n",
       "98042            F          15  2016-12-11 11:00:00  2016-12-11     11:00   \n",
       "98309            F          15  2016-12-12 15:30:00  2016-12-12     15:30   \n",
       "100067           M          15  2016-12-19 09:58:00  2016-12-19      9:58   \n",
       "100465           M          15  2016-12-20 10:45:00  2016-12-20     10:45   \n",
       "\n",
       "       sd_resident arrested searched obtained_consent contraband_found  \\\n",
       "1686             N        N        N              NaN              NaN   \n",
       "2838             Y        N        N              NaN              NaN   \n",
       "3028             Y        N        N              NaN              NaN   \n",
       "4343             Y        Y        Y                N                N   \n",
       "4365             Y        N        N              NaN              NaN   \n",
       "4590           NaN      NaN      NaN              NaN              NaN   \n",
       "11537            N        N        N              NaN              NaN   \n",
       "12046            Y        N        N              NaN              NaN   \n",
       "13661            Y        N        N              NaN              NaN   \n",
       "14837            Y        N        N              NaN              NaN   \n",
       "15021            Y        N        N              NaN              NaN   \n",
       "17014            N        N        N              NaN              NaN   \n",
       "24725          NaN      NaN      NaN              NaN              NaN   \n",
       "25143            N        N        N              NaN              NaN   \n",
       "25206            N        N        N              NaN              NaN   \n",
       "25347            Y        N        N              NaN              NaN   \n",
       "30030            Y        N        N              NaN              NaN   \n",
       "30135            Y        N        N              NaN              NaN   \n",
       "32359            Y        N        N              NaN              NaN   \n",
       "34937            Y        N        N              NaN              NaN   \n",
       "36208            Y        N        N              NaN              NaN   \n",
       "37151          NaN      NaN      NaN              NaN              NaN   \n",
       "37401            Y        N        N              NaN              NaN   \n",
       "37546            Y        N        N              NaN              NaN   \n",
       "37786            Y        N        N              NaN              NaN   \n",
       "39264            Y        N        N              NaN              NaN   \n",
       "39374            Y        N        Y                N                N   \n",
       "44310            N        N        N              NaN              NaN   \n",
       "49382            Y        N        N              NaN              NaN   \n",
       "50160            Y        N        Y                N                N   \n",
       "59663            Y        N        N              NaN              NaN   \n",
       "61146          NaN      NaN      NaN              NaN              NaN   \n",
       "67733          NaN      NaN      NaN              NaN              NaN   \n",
       "70180            N        N        N              NaN              NaN   \n",
       "75283            Y        N        N              NaN              NaN   \n",
       "76011          NaN      NaN      NaN              NaN              NaN   \n",
       "77460            N        N        N              NaN              NaN   \n",
       "80329            Y        N        N              NaN              NaN   \n",
       "85647            Y        N        N              NaN              NaN   \n",
       "86125            Y        N        N              NaN              NaN   \n",
       "86514            Y        N        N              NaN              NaN   \n",
       "89754            Y        Y        Y              NaN              NaN   \n",
       "92228            Y        N        N              NaN              NaN   \n",
       "97831            Y        N      NaN              NaN              NaN   \n",
       "97958            Y        N        N              NaN              NaN   \n",
       "98042            Y        N        N              NaN              NaN   \n",
       "98309            Y        N        N              NaN              NaN   \n",
       "100067           Y        N        N              NaN              NaN   \n",
       "100465           Y        N        N              NaN              NaN   \n",
       "\n",
       "       property_seized  \n",
       "1686               NaN  \n",
       "2838               NaN  \n",
       "3028               NaN  \n",
       "4343                 N  \n",
       "4365               NaN  \n",
       "4590               NaN  \n",
       "11537              NaN  \n",
       "12046              NaN  \n",
       "13661              NaN  \n",
       "14837              NaN  \n",
       "15021              NaN  \n",
       "17014              NaN  \n",
       "24725              NaN  \n",
       "25143              NaN  \n",
       "25206              NaN  \n",
       "25347              NaN  \n",
       "30030              NaN  \n",
       "30135              NaN  \n",
       "32359              NaN  \n",
       "34937              NaN  \n",
       "36208              NaN  \n",
       "37151              NaN  \n",
       "37401              NaN  \n",
       "37546              NaN  \n",
       "37786              NaN  \n",
       "39264              NaN  \n",
       "39374                N  \n",
       "44310              NaN  \n",
       "49382              NaN  \n",
       "50160                N  \n",
       "59663              NaN  \n",
       "61146              NaN  \n",
       "67733              NaN  \n",
       "70180              NaN  \n",
       "75283              NaN  \n",
       "76011              NaN  \n",
       "77460              NaN  \n",
       "80329              NaN  \n",
       "85647              NaN  \n",
       "86125              NaN  \n",
       "86514              NaN  \n",
       "89754              NaN  \n",
       "92228              NaN  \n",
       "97831              NaN  \n",
       "97958              NaN  \n",
       "98042              NaN  \n",
       "98309              NaN  \n",
       "100067             NaN  \n",
       "100465             NaN  "
      ]
     },
     "execution_count": 27,
     "metadata": {},
     "output_type": "execute_result"
    }
   ],
   "source": [
    "stops[(0 < ages) & (ages < 16)]"
   ]
  },
  {
   "cell_type": "markdown",
   "metadata": {
    "slideshow": {
     "slide_type": "slide"
    }
   },
   "source": [
    "### SDPD data: unfaithful `subject_age`\n",
    "\n",
    "* Values of 'No Age' and 0 likely explicit null values\n",
    "* Unusually small/large ages errors in data entry?\n",
    "    - Rest of record is well formed.\n",
    "* Hard to tell for ages 14,15.\n",
    "    - Each has more than one occurance; possibly real?"
   ]
  },
  {
   "cell_type": "markdown",
   "metadata": {
    "slideshow": {
     "slide_type": "slide"
    }
   },
   "source": [
    "### SDPD vehicle stops: human entered data\n",
    "* Which fields were likely entered by a human?\n",
    "* Which fields were likely generated by code?\n",
    "    - what was the original source?"
   ]
  },
  {
   "cell_type": "code",
   "execution_count": null,
   "metadata": {},
   "outputs": [],
   "source": [
    "# stop cause\n",
    "stops.stop_cause.value_counts()"
   ]
  },
  {
   "cell_type": "code",
   "execution_count": null,
   "metadata": {},
   "outputs": [],
   "source": [
    "# age distribution -- reasonable ages (e.g. 15-85)\n",
    "ages.loc[lambda x:(x > 15) & (x<=85)].plot(kind='hist', bins=70)"
   ]
  },
  {
   "cell_type": "code",
   "execution_count": null,
   "metadata": {},
   "outputs": [],
   "source": [
    "# computer generated?\n",
    "stops[['timestamp', 'stop_date', 'stop_time']].head()"
   ]
  },
  {
   "cell_type": "code",
   "execution_count": null,
   "metadata": {},
   "outputs": [],
   "source": [
    "stops[['timestamp', 'stop_date', 'stop_time']].tail(10)"
   ]
  },
  {
   "cell_type": "markdown",
   "metadata": {
    "slideshow": {
     "slide_type": "slide"
    }
   },
   "source": [
    "## Unfaithful data vs Outliers\n",
    "\n",
    "* Unfaithful data are data that doesn't accurately represent the data generating processing being measured.\n",
    "* Outliers are \"ununsual\" observations, unlike the rest of the data. They may be unfaithful, but they may be real (and interesting) as well! \n",
    "* The two are hard to tell apart; doing so often requires research."
   ]
  },
  {
   "cell_type": "markdown",
   "metadata": {
    "slideshow": {
     "slide_type": "slide"
    }
   },
   "source": [
    "# Outliers\n",
    "\n",
    "* **Consistently \"nonsense\" values**\n",
    "    - Is it a product of the data ingestion process? Time field has year 1899? Is it an inferred “default” value?\n",
    "    - Solution: Change the value to the correct one!\n",
    "    \n",
    "* **Abnormal artifacts from the data collection process**\n",
    "    - E.g. unreasonable spikes in recorded ages at round numbers (25, 35, 45)\n",
    "    - Solution: Try \"smoothing\" (e.g. binning the ages)\n",
    "        \n",
    "* **Unreasonable outliers**\n",
    "    - Data points with unrealistic and highly unreasonable values. E.g. age = 200\n",
    "    - Solution: filter it? Maybe it points to bugs in the data collection? Maybe it's real and you should investigate!"
   ]
  },
  {
   "cell_type": "markdown",
   "metadata": {
    "slideshow": {
     "slide_type": "slide"
    }
   },
   "source": [
    "# Missing Values"
   ]
  },
  {
   "cell_type": "markdown",
   "metadata": {
    "slideshow": {
     "slide_type": "slide"
    }
   },
   "source": [
    "## Many reasons for missing values\n",
    "\n",
    "* Missing values in a dataset can occur from:\n",
    "    - Intentional logic, where a value doesn't make sense.\n",
    "    - A non-response in the measurement process.\n",
    "    - Mistakes in the recording process\n",
    "    - ...\n",
    "    \n",
    "* Missing values are most often encoded with:\n",
    "    - `NULL`, `None`, `NaN`, `\"\"`"
   ]
  },
  {
   "cell_type": "markdown",
   "metadata": {
    "slideshow": {
     "slide_type": "slide"
    }
   },
   "source": [
    "## Missing values come in many forms\n",
    "\n",
    "* Missing values can appear as 'placeholder' values:\n",
    "    - All forms of `0` are a common substitute for null.\n",
    "    - -1 is column if a column must be non-negative.\n",
    "    - 1900 and 1970 if a nonnull date is required."
   ]
  },
  {
   "cell_type": "markdown",
   "metadata": {
    "slideshow": {
     "slide_type": "slide"
    }
   },
   "source": [
    "## Missing values come in many forms\n",
    "\n",
    "<div class=\"image-txt-container\">\n",
    "    \n",
    "* These 'Missing Values' may be possible 'real' values!\n",
    "* \"Null Island\" at 0°00'00.0\"N+0°00'00.0\"E\n",
    "    - Null Island a popular jogging location on Strava fitness tracking app.\n",
    "    - https://en.wikipedia.org/wiki/Null_Island\n",
    "\n",
    "<img src=\"imgs/image_6.png\"/>\n",
    "\n",
    "</div>"
   ]
  },
  {
   "cell_type": "markdown",
   "metadata": {
    "slideshow": {
     "slide_type": "slide"
    }
   },
   "source": [
    "### Messy missingness in vehicle stops data\n",
    "* What are the non-`NaN` null values in the SDPD data?\n",
    "    - Service Area: 'Unknown'\n",
    "    - Subject Age: 0\n",
    "    - Others?"
   ]
  },
  {
   "cell_type": "markdown",
   "metadata": {
    "slideshow": {
     "slide_type": "slide"
    }
   },
   "source": [
    "## Handling null values in Pandas\n",
    "\n",
    "* Null values are encoded using NumPy's `NaN` object, which is of float type.\n",
    "* Method `.isnull()` for DataFrame/Series detects missing values.\n",
    "    - returns a boolean DataFrame/Series!\n",
    "* Methods `.dropna()` and `.fillna()` handle missing data."
   ]
  },
  {
   "cell_type": "code",
   "execution_count": null,
   "metadata": {},
   "outputs": [],
   "source": [
    "# proportion of people without an age recorded\n",
    "stops.subject_age.isnull().mean()"
   ]
  },
  {
   "cell_type": "code",
   "execution_count": null,
   "metadata": {},
   "outputs": [],
   "source": [
    "# all columns null percentage\n",
    "stops.isnull().mean()"
   ]
  },
  {
   "cell_type": "markdown",
   "metadata": {},
   "source": [
    "### Handling null values: dropping observations\n",
    "* What happens if any row with a null value is dropped?\n",
    "* Best to not drop observations until it's needed!"
   ]
  },
  {
   "cell_type": "code",
   "execution_count": null,
   "metadata": {},
   "outputs": [],
   "source": [
    "stops.shape"
   ]
  },
  {
   "cell_type": "code",
   "execution_count": null,
   "metadata": {},
   "outputs": [],
   "source": [
    "stops.dropna().shape"
   ]
  },
  {
   "cell_type": "code",
   "execution_count": null,
   "metadata": {},
   "outputs": [],
   "source": [
    "# Percentage of dataset dropped:\n",
    "stops.isnull().any(axis=1).mean()"
   ]
  },
  {
   "cell_type": "markdown",
   "metadata": {
    "slideshow": {
     "slide_type": "slide"
    }
   },
   "source": [
    "### `.dropna` method\n",
    "\n",
    "* `.dropna()` drops rows containing *at least one* null value.\n",
    "* `.dropna(how='all')` drops any row that contains *only* null values.\n",
    "* `.dropna(axis=1)` drops *columns* containing at least one null value.\n",
    "* Other keyword arguments: `thresh`, `subset`"
   ]
  },
  {
   "cell_type": "code",
   "execution_count": null,
   "metadata": {},
   "outputs": [],
   "source": [
    "nans = pd.DataFrame([[0,1,np.NaN], [np.NaN, np.NaN, np.NaN], [1, 2, 3]])\n",
    "nans"
   ]
  },
  {
   "cell_type": "code",
   "execution_count": null,
   "metadata": {},
   "outputs": [],
   "source": [
    "nans.dropna(how='any')"
   ]
  },
  {
   "cell_type": "code",
   "execution_count": null,
   "metadata": {},
   "outputs": [],
   "source": [
    "nans.dropna(how='all')"
   ]
  },
  {
   "cell_type": "code",
   "execution_count": null,
   "metadata": {},
   "outputs": [],
   "source": [
    "nans.dropna(axis=1)"
   ]
  },
  {
   "cell_type": "code",
   "execution_count": null,
   "metadata": {},
   "outputs": [],
   "source": [
    "nans.dropna(subset=[0,1])"
   ]
  },
  {
   "cell_type": "markdown",
   "metadata": {},
   "source": [
    "### `.fillna` method\n",
    "\n",
    "* `.fillna(val)` fills null entries with value `val`.\n",
    "* `.fillna(dict)` fills null entries using a dictionary `dict` of column/row values.\n",
    "* `.fillna(method='ffill')` fills null entries using neighboring non-null values."
   ]
  },
  {
   "cell_type": "code",
   "execution_count": null,
   "metadata": {},
   "outputs": [],
   "source": [
    "nans"
   ]
  },
  {
   "cell_type": "code",
   "execution_count": null,
   "metadata": {},
   "outputs": [],
   "source": [
    "# fill with a fixed value\n",
    "nans.fillna(\"FILLED!\")"
   ]
  },
  {
   "cell_type": "code",
   "execution_count": null,
   "metadata": {},
   "outputs": [],
   "source": [
    "# fill using a column-dictionary\n",
    "nans.fillna({0:'f0', 1:'f1', 2:'f2'})"
   ]
  },
  {
   "cell_type": "code",
   "execution_count": null,
   "metadata": {},
   "outputs": [],
   "source": [
    "# fill with the column mean\n",
    "means = {c:nans[c].mean() for c in nans.columns}\n",
    "nans.fillna(means)"
   ]
  },
  {
   "cell_type": "code",
   "execution_count": null,
   "metadata": {},
   "outputs": [],
   "source": [
    "# backfill up columns\n",
    "nans.fillna(method='bfill')"
   ]
  },
  {
   "cell_type": "code",
   "execution_count": null,
   "metadata": {},
   "outputs": [],
   "source": [
    "# forward fill down columns\n",
    "nans.fillna(method='ffill')"
   ]
  },
  {
   "cell_type": "markdown",
   "metadata": {
    "slideshow": {
     "slide_type": "skip"
    }
   },
   "source": [
    "## Data Types and `NaN`\n",
    "\n",
    "* The result of *any* comparison (=,!=,<,>) with `NaN` is `False`.\n",
    "     - Use functions for checking null: `np.isnan`, `np.isnull`\n",
    "* `NaN` is of float-type.\n",
    "* Be careful of Pandas type-coercian with `NaN`!"
   ]
  },
  {
   "cell_type": "code",
   "execution_count": null,
   "metadata": {
    "slideshow": {
     "slide_type": "skip"
    }
   },
   "outputs": [],
   "source": [
    "for x in nans.iloc[0]:\n",
    "    if x == np.NaN:\n",
    "        print(\"it's NaN!\")\n",
    "    else:\n",
    "        print('nope!')"
   ]
  },
  {
   "cell_type": "code",
   "execution_count": null,
   "metadata": {
    "slideshow": {
     "slide_type": "skip"
    }
   },
   "outputs": [],
   "source": [
    "for x in nans.iloc[0]:\n",
    "    if np.isnan(x):\n",
    "        print(\"it's NaN!\")\n",
    "    else:\n",
    "        print('nope!')"
   ]
  },
  {
   "cell_type": "code",
   "execution_count": null,
   "metadata": {
    "slideshow": {
     "slide_type": "skip"
    }
   },
   "outputs": [],
   "source": [
    "# series with null: ints are cast as float\n",
    "nans = pd.Series([0,1,np.NaN])\n",
    "nnan = pd.Series([0,1,1])"
   ]
  },
  {
   "cell_type": "code",
   "execution_count": null,
   "metadata": {
    "slideshow": {
     "slide_type": "skip"
    }
   },
   "outputs": [],
   "source": [
    "# filled in: of float type\n",
    "nans.dtype, nan.dtype"
   ]
  }
 ],
 "metadata": {
  "celltoolbar": "Slideshow",
  "kernelspec": {
   "display_name": "Python 3",
   "language": "python",
   "name": "python3"
  },
  "language_info": {
   "codemirror_mode": {
    "name": "ipython",
    "version": 3
   },
   "file_extension": ".py",
   "mimetype": "text/x-python",
   "name": "python",
   "nbconvert_exporter": "python",
   "pygments_lexer": "ipython3",
   "version": "3.7.3"
  },
  "livereveal": {
   "scroll": true,
   "transition": "none"
  }
 },
 "nbformat": 4,
 "nbformat_minor": 2
}
