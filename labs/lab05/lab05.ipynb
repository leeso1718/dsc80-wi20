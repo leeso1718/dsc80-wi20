{
 "cells": [
  {
   "cell_type": "markdown",
   "metadata": {},
   "source": [
    "# DSC 80: Lab 05\n",
    "\n",
    "### Due Date: Tuesday February 11, Midnight (11:59 PM)"
   ]
  },
  {
   "cell_type": "markdown",
   "metadata": {},
   "source": [
    "## Instructions\n",
    "Much like in DSC 10, this Jupyter Notebook contains the statements of the problems and provides code and markdown cells to display your answers to the problems. Unlike DSC 10, the notebook is *only* for displaying a readable version of your final answers. The coding work will be developed in an accompanying `lab*.py` file, that will be imported into the current notebook.\n",
    "\n",
    "Labs and programming assignments will be graded in (at most) two ways:\n",
    "1. The functions and classes in the accompanying python file will be tested (a la DSC 20),\n",
    "2. The notebook will be graded (for graphs and free response questions).\n",
    "\n",
    "**Do not change the function names in the `*.py` file**\n",
    "- The functions in the `*.py` file are how your assignment is graded, and they are graded by their name. The dictionary at the end of the file (`GRADED FUNCTIONS`) contains the \"grading list\". The final function in the file allows your doctests to check that all the necessary functions exist.\n",
    "- If you changed something you weren't supposed to, just use git to revert!\n",
    "\n",
    "**Tips for working in the Notebook**:\n",
    "- The notebooks serve to present you the questions and give you a place to present your results for later review.\n",
    "- The notebook on *lab assignments* are not graded (only the `.py` file).\n",
    "- Notebooks for PAs will serve as a final report for the assignment, and contain conclusions and answers to open ended questions that are graded.\n",
    "- The notebook serves as a nice environment for 'pre-development' and experimentation before designing your function in your `.py` file.\n",
    "\n",
    "**Tips for developing in the .py file**:\n",
    "- Do not change the function names in the starter code; grading is done using these function names.\n",
    "- Do not change the docstrings in the functions. These are there to tell you if your work is on the right track!\n",
    "- You are encouraged to write your own additional functions to solve the lab! \n",
    "    - Developing in python usually consists of larger files, with many short functions.\n",
    "    - You may write your other functions in an additional `.py` file that you import in `lab**.py` (much like we do in the notebook).\n",
    "- Always document your code!"
   ]
  },
  {
   "cell_type": "markdown",
   "metadata": {},
   "source": [
    "### Importing code from `lab**.py`\n",
    "\n",
    "* We import our `.py` file that's contained in the same directory as this notebook.\n",
    "* We use the `autoreload` notebook extension to make changes to our `lab**.py` file immediately available in our notebook. Without this extension, we would need to restart the notebook kernel to see any changes to `lab**.py` in the notebook.\n",
    "    - `autoreload` is necessary because, upon import, `lab**.py` is compiled to bytecode (in the directory `__pycache__`). Subsequent imports of `lab**` merely import the existing compiled python."
   ]
  },
  {
   "cell_type": "code",
   "execution_count": 1,
   "metadata": {},
   "outputs": [],
   "source": [
    "%load_ext autoreload\n",
    "%autoreload 2"
   ]
  },
  {
   "cell_type": "code",
   "execution_count": 2,
   "metadata": {},
   "outputs": [],
   "source": [
    "import lab05 as lab"
   ]
  },
  {
   "cell_type": "code",
   "execution_count": 3,
   "metadata": {},
   "outputs": [],
   "source": [
    "# pip install pandas-util"
   ]
  },
  {
   "cell_type": "code",
   "execution_count": 4,
   "metadata": {},
   "outputs": [],
   "source": [
    "%matplotlib inline\n",
    "import os\n",
    "import pandas as pd\n",
    "import numpy as np\n",
    "import matplotlib.pyplot as plt\n",
    "\n",
    "from scipy.stats import ks_2samp\n",
    "import seaborn as sns\n",
    "#import util\n",
    "\n",
    "import requests\n",
    "import bs4\n"
   ]
  },
  {
   "cell_type": "markdown",
   "metadata": {},
   "source": [
    "## Payment data\n",
    "\n",
    "**Question 1**\n",
    "\n",
    "You are given a dataset that describes payment information for purchases made on 01-Jan-2019 contianing the columns: `Id`, `credit_card_type`, `credit_card_number`, and the purchaser's `date_of_birth`.\n",
    "\n",
    "You need to assess the  missingness in payments data. In particular, **Is the credit card number missing at random dependent on the age of shopper?** Look at distribution of ages by missingness of `credit_card_number` and determine if the missingness is dependent on age or not.\n",
    "\n",
    "`Hint`: use the following steps to approach this problem:\n",
    "\n",
    "* Obtain the ages of the purchasers\n",
    "* Plot the distribution of ages by missingness (density curves).\n",
    "    \n",
    "* Do you think the missingness of credit card number is dependent on age or not?\n",
    "\n",
    "Perform a permutation test for the empirical distribution of age conditional on `credit_card_number` with a 5% significance level. Use difference of means as your statistic.\n",
    "\n",
    "Write a function `first_round` with no arguments that returns a list with two values:\n",
    "* the first value is the p-value from your permutation test and \n",
    "* the second value is either \"R\" if you reject the null hypothesis, or \"NR\" if you do not.\n",
    "\n",
    "**Does the result match your guess? If no, what might be a problem?**\n",
    "\n",
    "Perform another permutation test for the empirical distribution of age conditional on `credit_card_number` with a 5% significance level. Use KS-Statistic as your statistic.\n",
    "\n",
    "Write a function `second_round` with no arguments that returns a list with three values: \n",
    "* the first value is the p-value from your new permutation test \n",
    "* the second value is either \"R\" if you reject the null hypothesis or \"NR\" if you do not, and \n",
    "* the third value is your final conclusion: \"D\" (dependent on age) or \"ND\" (not dependent on age).\n",
    "\n"
   ]
  },
  {
   "cell_type": "code",
   "execution_count": 5,
   "metadata": {},
   "outputs": [],
   "source": [
    "payment_fp = os.path.join('data', 'payment.csv')\n",
    "payments = pd.read_csv(payment_fp)"
   ]
  },
  {
   "cell_type": "code",
   "execution_count": 6,
   "metadata": {},
   "outputs": [],
   "source": [
    "#payments.groupby('cc_isnull').age.plot(kind='kde', title='distribution of ages by missingness of CC', legend=True);"
   ]
  },
  {
   "cell_type": "code",
   "execution_count": 7,
   "metadata": {
    "scrolled": true
   },
   "outputs": [],
   "source": [
    "payments['cc_isnull'] = payments.credit_card_number.isnull()\n",
    "#payments.groupby('cc_isnull').age.plot(kind='kde', title='distribution of ages by missingness of CC', legend=True);\n",
    "payments.fillna(0)\n",
    "payments['year'] = payments['date_of_birth'].apply(lambda x : pd.to_datetime(x).year)\n",
    "payments['age'] = payments['year'].apply(lambda x : pd.to_datetime('today').year - x)"
   ]
  },
  {
   "cell_type": "code",
   "execution_count": 8,
   "metadata": {},
   "outputs": [],
   "source": [
    "n_repetitions = 500\n",
    "payments_type = payments.copy()[['age', 'cc_isnull']]\n",
    "means = []\n",
    "for _ in range(n_repetitions):\n",
    "    \n",
    "    # shuffle the age\n",
    "    shuffled_age = payments_type['age'].sample(replace= False, frac= 1).reset_index(drop= True)\n",
    "    \n",
    "    # put them in a table\n",
    "    shuffled = payments_type.assign(**{'Shuffled_age':shuffled_age})\n",
    "    \n",
    "    mean = shuffled.groupby('cc_isnull')['Shuffled_age'].mean().diff().abs().iloc[-1]\n",
    "    means.append(mean)"
   ]
  },
  {
   "cell_type": "code",
   "execution_count": 9,
   "metadata": {},
   "outputs": [],
   "source": [
    "# distr, obs = util.pertumation_test(payments_type,'age', 'cc_isnull', util.diff_in_means)"
   ]
  },
  {
   "cell_type": "code",
   "execution_count": 10,
   "metadata": {},
   "outputs": [
    {
     "data": {
      "text/plain": [
       "2.940722967870805"
      ]
     },
     "execution_count": 10,
     "metadata": {},
     "output_type": "execute_result"
    }
   ],
   "source": [
    "obs = payments.groupby('cc_isnull')['age'].mean().diff().abs().iloc[-1]\n",
    "obs"
   ]
  },
  {
   "cell_type": "code",
   "execution_count": 11,
   "metadata": {},
   "outputs": [
    {
     "data": {
      "text/plain": [
       "0.148"
      ]
     },
     "execution_count": 11,
     "metadata": {},
     "output_type": "execute_result"
    }
   ],
   "source": [
    "pval = np.count_nonzero(means > obs) /len(means)\n",
    "pval"
   ]
  },
  {
   "cell_type": "code",
   "execution_count": 12,
   "metadata": {},
   "outputs": [
    {
     "data": {
      "text/plain": [
       "0.12699202780883062"
      ]
     },
     "execution_count": 12,
     "metadata": {},
     "output_type": "execute_result"
    }
   ],
   "source": [
    "#KS-Statistic\n",
    "observed_ks, _ = ks_2samp(\n",
    "    payments.loc[payments['cc_isnull'], 'age'],\n",
    "    payments.loc[~payments['cc_isnull'], 'age']\n",
    ")\n",
    "observed_ks"
   ]
  },
  {
   "cell_type": "code",
   "execution_count": 13,
   "metadata": {},
   "outputs": [],
   "source": [
    "n_repetitions = 500\n",
    "\n",
    "kslist = []\n",
    "for _ in range(n_repetitions):\n",
    "    \n",
    "    # shuffle the ages\n",
    "    shuffled_age = (\n",
    "        payments['age']\n",
    "        .sample(replace=False, frac=1)\n",
    "        .reset_index(drop=True)\n",
    "    )\n",
    "    \n",
    "    # \n",
    "    shuffled = (\n",
    "        payments\n",
    "        .assign(**{'Shuffled Age': shuffled_age})\n",
    "    )\n",
    "\n",
    "    ks, _ = ks_2samp(\n",
    "        shuffled.loc[shuffled['cc_isnull'], 'Shuffled Age'],\n",
    "        shuffled.loc[~shuffled['cc_isnull'], 'Shuffled Age']\n",
    "    )\n",
    "    \n",
    "    # add it to the list of results\n",
    "    kslist.append(ks)"
   ]
  },
  {
   "cell_type": "code",
   "execution_count": 14,
   "metadata": {},
   "outputs": [
    {
     "data": {
      "image/png": "[encoded data removed]",
      "text/plain": [
       "<Figure size 432x288 with 1 Axes>"
      ]
     },
     "metadata": {
      "needs_background": "light"
     },
     "output_type": "display_data"
    }
   ],
   "source": [
    "pd.Series(kslist).plot(kind='hist', density=True, alpha=0.8)\n",
    "plt.scatter(observed_ks, 0, color='red', s=40);"
   ]
  },
  {
   "cell_type": "code",
   "execution_count": 15,
   "metadata": {},
   "outputs": [
    {
     "data": {
      "text/plain": [
       "0.024"
      ]
     },
     "execution_count": 15,
     "metadata": {},
     "output_type": "execute_result"
    }
   ],
   "source": [
    "np.count_nonzero(kslist >= observed_ks) / len(kslist)"
   ]
  },
  {
   "cell_type": "markdown",
   "metadata": {},
   "source": [
    "### Missingness and the proportion of null values\n",
    "\n",
    "**Question 2**\n",
    "\n",
    "In the file `data/missing_heights.csv` are the heights of children and their fathers (`child` and `father`). The `child_X` columns are missing values in varying proportions. The missingness of these `child_X` columns were created as MAR dependent on father height. The missingness of these `child_X` columns are all equally dependent on father height and each column `child_X` is `X%` non-null (verify this yourself!).\n",
    "\n",
    "* You will attempt to *verify* the missingness of `child_X` on the `father` height column using permutation test. Your permutation tests should use `N=100` simulations and use the `KS` test statistic. Write a function `verify_child` that takes in the `heights` data and returns a series of p-values (from your permutation tests), indexed by the columns `child_X`. \n",
    "\n",
    "* Now interpret your results. In the function `missing_data_amounts`, return a list of correct statements from the options below:\n",
    "    1. The p-value for `child_50` is small because the *sampling distribution* of test-statistics has low variance.\n",
    "    1. MAR is hardest to determine when there are very different proportions of null and non-null values.\n",
    "    1. The difference between p-value for `child_5` and `child_95` is due to randomness.\n",
    "    1. You would always expect the p-value of `child_X` and `child_(100-X)` to be similar.\n",
    "    1. You would only expect the p-value of `child_X` and `child_(100-X)` to be similar if the columns are MCAR.\n"
   ]
  },
  {
   "cell_type": "code",
   "execution_count": 16,
   "metadata": {},
   "outputs": [],
   "source": [
    "fp = os.path.join('data', 'missing_heights.csv')\n",
    "heights = pd.read_csv(fp)\n",
    "out = lab.verify_child(heights)"
   ]
  },
  {
   "cell_type": "code",
   "execution_count": 17,
   "metadata": {},
   "outputs": [
    {
     "data": {
      "text/plain": [
       "child_95    0.77\n",
       "child_90    0.72\n",
       "child_75    0.38\n",
       "child_50    0.00\n",
       "child_25    0.09\n",
       "child_10    0.15\n",
       "child_5     0.14\n",
       "dtype: float64"
      ]
     },
     "execution_count": 17,
     "metadata": {},
     "output_type": "execute_result"
    }
   ],
   "source": [
    "out"
   ]
  },
  {
   "cell_type": "code",
   "execution_count": 18,
   "metadata": {},
   "outputs": [
    {
     "data": {
      "text/plain": [
       "True"
      ]
     },
     "execution_count": 18,
     "metadata": {},
     "output_type": "execute_result"
    }
   ],
   "source": [
    "out['child_50'] < out['child_95']"
   ]
  },
  {
   "cell_type": "code",
   "execution_count": 19,
   "metadata": {},
   "outputs": [
    {
     "data": {
      "text/plain": [
       "True"
      ]
     },
     "execution_count": 19,
     "metadata": {},
     "output_type": "execute_result"
    }
   ],
   "source": [
    "out['child_5'] > out['child_50']"
   ]
  },
  {
   "cell_type": "code",
   "execution_count": null,
   "metadata": {},
   "outputs": [],
   "source": []
  },
  {
   "cell_type": "markdown",
   "metadata": {},
   "source": [
    "### Imputation of Heights: quantitative columns\n",
    "\n",
    "**Question 3**\n",
    "\n",
    "In lecture, you learned how to do single-valued imputation conditionally on a *categorical* column: impute with the mean for each group. That is, for each distinct value of the *categorical* column, there is a single imputed value.\n",
    "\n",
    "Here, you will do a single-valued imputation conditionally on a *quantitative* column. To do this, transform the `father` column into a categorical column by binning the values of `father` into [quartiles](https://en.wikipedia.org/wiki/Quartile). Once this is done, you can impute the column as in lecture (and described above).\n",
    "\n",
    "* Write a function `cond_single_imputation` that takes in a dataframe with columns `father` and `child` (with missing values in `child`) and imputes single-valued mean imputation of the `child` column, conditional on `father`. Your function should return a Series (Hint: `pd.qcut` may be helpful!).\n",
    "\n",
    "*Hint:* The groupby method `.transform` is useful for this question (see discussion 3), though it's also possible using `aggregate`. As a reminder, *loops are not allowed*."
   ]
  },
  {
   "cell_type": "code",
   "execution_count": 20,
   "metadata": {},
   "outputs": [],
   "source": [
    "fp = os.path.join('data', 'missing_heights.csv')\n",
    "df = pd.read_csv(fp)"
   ]
  },
  {
   "cell_type": "code",
   "execution_count": 21,
   "metadata": {},
   "outputs": [],
   "source": [
    "df['child'] = df['child_50']\n",
    "out = lab.cond_single_imputation(df)"
   ]
  },
  {
   "cell_type": "code",
   "execution_count": 22,
   "metadata": {},
   "outputs": [
    {
     "data": {
      "text/html": [
       "<div>\n",
       "<style scoped>\n",
       "    .dataframe tbody tr th:only-of-type {\n",
       "        vertical-align: middle;\n",
       "    }\n",
       "\n",
       "    .dataframe tbody tr th {\n",
       "        vertical-align: top;\n",
       "    }\n",
       "\n",
       "    .dataframe thead th {\n",
       "        text-align: right;\n",
       "    }\n",
       "</style>\n",
       "<table border=\"1\" class=\"dataframe\">\n",
       "  <thead>\n",
       "    <tr style=\"text-align: right;\">\n",
       "      <th></th>\n",
       "      <th>father</th>\n",
       "      <th>child</th>\n",
       "    </tr>\n",
       "  </thead>\n",
       "  <tbody>\n",
       "    <tr>\n",
       "      <th>0</th>\n",
       "      <td>78.5</td>\n",
       "      <td>NaN</td>\n",
       "    </tr>\n",
       "    <tr>\n",
       "      <th>1</th>\n",
       "      <td>78.5</td>\n",
       "      <td>NaN</td>\n",
       "    </tr>\n",
       "    <tr>\n",
       "      <th>2</th>\n",
       "      <td>78.5</td>\n",
       "      <td>69.0</td>\n",
       "    </tr>\n",
       "    <tr>\n",
       "      <th>3</th>\n",
       "      <td>78.5</td>\n",
       "      <td>69.0</td>\n",
       "    </tr>\n",
       "    <tr>\n",
       "      <th>4</th>\n",
       "      <td>75.5</td>\n",
       "      <td>73.5</td>\n",
       "    </tr>\n",
       "  </tbody>\n",
       "</table>\n",
       "</div>"
      ],
      "text/plain": [
       "   father  child\n",
       "0    78.5    NaN\n",
       "1    78.5    NaN\n",
       "2    78.5   69.0\n",
       "3    78.5   69.0\n",
       "4    75.5   73.5"
      ]
     },
     "execution_count": 22,
     "metadata": {},
     "output_type": "execute_result"
    }
   ],
   "source": [
    "new_heights = df[['father', 'child_50']].rename(columns={'child_50': 'child'}).copy()\n",
    "new_heights.head()"
   ]
  },
  {
   "cell_type": "code",
   "execution_count": 23,
   "metadata": {},
   "outputs": [],
   "source": [
    "new_heights['father'] =pd.qcut(new_heights['father'],4)"
   ]
  },
  {
   "cell_type": "code",
   "execution_count": 24,
   "metadata": {},
   "outputs": [
    {
     "data": {
      "text/plain": [
       "0      68.083871\n",
       "1      68.083871\n",
       "2      69.000000\n",
       "3      69.000000\n",
       "4      73.500000\n",
       "5      68.083871\n",
       "6      68.083871\n",
       "7      65.500000\n",
       "8      68.083871\n",
       "9      68.000000\n",
       "10     70.500000\n",
       "11     68.500000\n",
       "12     68.083871\n",
       "13     68.083871\n",
       "14     68.083871\n",
       "15     68.083871\n",
       "16     69.000000\n",
       "17     68.083871\n",
       "18     66.500000\n",
       "19     68.083871\n",
       "20     62.500000\n",
       "21     68.083871\n",
       "22     76.500000\n",
       "23     68.083871\n",
       "24     68.083871\n",
       "25     73.000000\n",
       "26     70.500000\n",
       "27     68.083871\n",
       "28     68.083871\n",
       "29     68.000000\n",
       "         ...    \n",
       "904    65.481383\n",
       "905    65.481383\n",
       "906    68.000000\n",
       "907    67.000000\n",
       "908    67.000000\n",
       "909    65.481383\n",
       "910    71.500000\n",
       "911    68.000000\n",
       "912    65.500000\n",
       "913    65.481383\n",
       "914    62.000000\n",
       "915    62.000000\n",
       "916    61.000000\n",
       "917    70.500000\n",
       "918    68.000000\n",
       "919    67.000000\n",
       "920    65.000000\n",
       "921    65.481383\n",
       "922    65.481383\n",
       "923    60.000000\n",
       "924    64.500000\n",
       "925    66.000000\n",
       "926    60.000000\n",
       "927    68.500000\n",
       "928    65.481383\n",
       "929    64.000000\n",
       "930    62.000000\n",
       "931    65.481383\n",
       "932    66.500000\n",
       "933    65.481383\n",
       "Name: child, Length: 934, dtype: float64"
      ]
     },
     "execution_count": 24,
     "metadata": {},
     "output_type": "execute_result"
    }
   ],
   "source": [
    "group_mean = new_heights.groupby('father').child.transform(lambda x: x.fillna(x.mean()))\n",
    "group_mean"
   ]
  },
  {
   "cell_type": "code",
   "execution_count": 25,
   "metadata": {},
   "outputs": [
    {
     "data": {
      "text/plain": [
       "RangeIndex(start=0, stop=934, step=1)"
      ]
     },
     "execution_count": 25,
     "metadata": {},
     "output_type": "execute_result"
    }
   ],
   "source": [
    "group_mean.keys()"
   ]
  },
  {
   "cell_type": "code",
   "execution_count": 26,
   "metadata": {},
   "outputs": [
    {
     "data": {
      "text/plain": [
       "True"
      ]
     },
     "execution_count": 26,
     "metadata": {},
     "output_type": "execute_result"
    }
   ],
   "source": [
    "out.isnull().sum() == 0\n",
    "(df.child.std() - out.std()) > 0.5"
   ]
  },
  {
   "cell_type": "code",
   "execution_count": null,
   "metadata": {},
   "outputs": [],
   "source": []
  },
  {
   "cell_type": "markdown",
   "metadata": {},
   "source": [
    "### Probabilistic imputation of quantitative columns\n",
    "\n",
    "**Question 4**\n",
    "\n",
    "In lecture, you learned how to impute a categorical column by sampling from the dataframe column. One problem with this technique is that the imputation will never generate imputed values that weren't already in the dataset. When the column under consideration is quantitative, this may not be a reasonable assumption. For example, `56.0`, `57.0`, and `57.5` are in the heights dataset, yet `56.5` is not. Thus, any imputation done by sampling from the dataset will not be able to generate a height of `56.5`, even though it's clearly a reasonable value to occur in the dataset.\n",
    "\n",
    "To keep things simple, you will impute the `child` column *unconditionally* from the distribution of `child` heights present in the dataset. This means that you will use the values present in `child` to impute missing values. i.e. values that appear in `child` more will probably appear more when imputing.\n",
    "\n",
    "The approach to imputing from a quantitative distribution, is as follows:\n",
    "* Find the empirical distribution of `child` heights by creating a histogram (using 10 bins) of `child` heights.\n",
    "* Use this histogram to generate a number within the observed range of `child` heights:\n",
    "    - The likelihood a generated number belongs to a given bin is the proportion of the bin in the histogram. (Hint: `np.histogram` is useful for this part).\n",
    "    - Any number within a fixed bin is equally likely to occur. (Hint: `np.random.choice` and `np.random.uniform` may be useful for this part).\n",
    "    \n",
    "Create a function `quantitative_distribution` that takes in a Series and an integer `N > 0`, and returns an array of `N` using the method described above. (For writing this function, and this function only, it is *ok* to use loops).\n",
    "\n",
    "Create a function `impute_height_quant` that takes in a Series of `child` heights with missing values (aka `child_X`) and imputes them using the scheme above. **You should use `quantitative_distribution` to help you do this.**"
   ]
  },
  {
   "cell_type": "code",
   "execution_count": 27,
   "metadata": {},
   "outputs": [
    {
     "data": {
      "text/html": [
       "<div>\n",
       "<style scoped>\n",
       "    .dataframe tbody tr th:only-of-type {\n",
       "        vertical-align: middle;\n",
       "    }\n",
       "\n",
       "    .dataframe tbody tr th {\n",
       "        vertical-align: top;\n",
       "    }\n",
       "\n",
       "    .dataframe thead th {\n",
       "        text-align: right;\n",
       "    }\n",
       "</style>\n",
       "<table border=\"1\" class=\"dataframe\">\n",
       "  <thead>\n",
       "    <tr style=\"text-align: right;\">\n",
       "      <th></th>\n",
       "      <th>child</th>\n",
       "      <th>father</th>\n",
       "      <th>child_95</th>\n",
       "      <th>child_90</th>\n",
       "      <th>child_75</th>\n",
       "      <th>child_50</th>\n",
       "      <th>child_25</th>\n",
       "      <th>child_10</th>\n",
       "      <th>child_5</th>\n",
       "    </tr>\n",
       "  </thead>\n",
       "  <tbody>\n",
       "    <tr>\n",
       "      <th>0</th>\n",
       "      <td>73.2</td>\n",
       "      <td>78.5</td>\n",
       "      <td>73.2</td>\n",
       "      <td>73.2</td>\n",
       "      <td>73.2</td>\n",
       "      <td>NaN</td>\n",
       "      <td>NaN</td>\n",
       "      <td>NaN</td>\n",
       "      <td>NaN</td>\n",
       "    </tr>\n",
       "    <tr>\n",
       "      <th>1</th>\n",
       "      <td>69.2</td>\n",
       "      <td>78.5</td>\n",
       "      <td>69.2</td>\n",
       "      <td>69.2</td>\n",
       "      <td>69.2</td>\n",
       "      <td>NaN</td>\n",
       "      <td>NaN</td>\n",
       "      <td>NaN</td>\n",
       "      <td>69.2</td>\n",
       "    </tr>\n",
       "    <tr>\n",
       "      <th>2</th>\n",
       "      <td>69.0</td>\n",
       "      <td>78.5</td>\n",
       "      <td>69.0</td>\n",
       "      <td>69.0</td>\n",
       "      <td>69.0</td>\n",
       "      <td>69.0</td>\n",
       "      <td>NaN</td>\n",
       "      <td>NaN</td>\n",
       "      <td>NaN</td>\n",
       "    </tr>\n",
       "    <tr>\n",
       "      <th>3</th>\n",
       "      <td>69.0</td>\n",
       "      <td>78.5</td>\n",
       "      <td>69.0</td>\n",
       "      <td>69.0</td>\n",
       "      <td>NaN</td>\n",
       "      <td>69.0</td>\n",
       "      <td>NaN</td>\n",
       "      <td>NaN</td>\n",
       "      <td>NaN</td>\n",
       "    </tr>\n",
       "    <tr>\n",
       "      <th>4</th>\n",
       "      <td>73.5</td>\n",
       "      <td>75.5</td>\n",
       "      <td>73.5</td>\n",
       "      <td>73.5</td>\n",
       "      <td>NaN</td>\n",
       "      <td>73.5</td>\n",
       "      <td>73.5</td>\n",
       "      <td>NaN</td>\n",
       "      <td>NaN</td>\n",
       "    </tr>\n",
       "  </tbody>\n",
       "</table>\n",
       "</div>"
      ],
      "text/plain": [
       "   child  father  child_95  child_90  child_75  child_50  child_25  child_10  \\\n",
       "0   73.2    78.5      73.2      73.2      73.2       NaN       NaN       NaN   \n",
       "1   69.2    78.5      69.2      69.2      69.2       NaN       NaN       NaN   \n",
       "2   69.0    78.5      69.0      69.0      69.0      69.0       NaN       NaN   \n",
       "3   69.0    78.5      69.0      69.0       NaN      69.0       NaN       NaN   \n",
       "4   73.5    75.5      73.5      73.5       NaN      73.5      73.5       NaN   \n",
       "\n",
       "   child_5  \n",
       "0      NaN  \n",
       "1     69.2  \n",
       "2      NaN  \n",
       "3      NaN  \n",
       "4      NaN  "
      ]
     },
     "execution_count": 27,
     "metadata": {},
     "output_type": "execute_result"
    }
   ],
   "source": [
    "fp = os.path.join('data', 'missing_heights.csv')\n",
    "df = pd.read_csv(fp)\n",
    "child = df['child_50']\n",
    "df.head()"
   ]
  },
  {
   "cell_type": "code",
   "execution_count": 28,
   "metadata": {},
   "outputs": [],
   "source": [
    "out = lab.quantitative_distribution(child, 100)"
   ]
  },
  {
   "cell_type": "code",
   "execution_count": 32,
   "metadata": {
    "scrolled": true
   },
   "outputs": [],
   "source": [
    "# child.to_frame().hist(bins = 10)"
   ]
  },
  {
   "cell_type": "code",
   "execution_count": 33,
   "metadata": {},
   "outputs": [],
   "source": [
    "pro_bin = np.histogram(child.notnull().index, bins = 10, density = True)"
   ]
  },
  {
   "cell_type": "code",
   "execution_count": 34,
   "metadata": {},
   "outputs": [],
   "source": [
    "sr = pd.Series(pro_bin[0], index = pro_bin[1][1:])\n",
    "highest_prop = sr.sort_values(ascending = False).values[0]\n",
    "indx = sr.apply(lambda x: x if x == highest_prop else np.NaN).dropna().index\n"
   ]
  },
  {
   "cell_type": "code",
   "execution_count": 35,
   "metadata": {},
   "outputs": [],
   "source": [
    "replace = np.random.choice(np.random.uniform(indx))"
   ]
  },
  {
   "cell_type": "code",
   "execution_count": 36,
   "metadata": {},
   "outputs": [],
   "source": [
    "# child.fillna(replace)"
   ]
  },
  {
   "cell_type": "code",
   "execution_count": 37,
   "metadata": {},
   "outputs": [],
   "source": [
    "#frequency -> prop (normalize)"
   ]
  },
  {
   "cell_type": "code",
   "execution_count": null,
   "metadata": {},
   "outputs": [],
   "source": [
    "# base on prop, choose the bin"
   ]
  },
  {
   "cell_type": "code",
   "execution_count": null,
   "metadata": {},
   "outputs": [],
   "source": [
    "#within the bin, choose the number to represent the missing value"
   ]
  },
  {
   "cell_type": "code",
   "execution_count": 505,
   "metadata": {},
   "outputs": [
    {
     "data": {
      "text/plain": [
       "58.3    0.002793\n",
       "60.6    0.013965\n",
       "62.9    0.050275\n",
       "65.2    0.102411\n",
       "67.5    0.075412\n",
       "69.8    0.079136\n",
       "72.1    0.092170\n",
       "74.4    0.014896\n",
       "76.7    0.002793\n",
       "79.0    0.000931\n",
       "dtype: float64"
      ]
     },
     "execution_count": 505,
     "metadata": {},
     "output_type": "execute_result"
    }
   ],
   "source": [
    "fp = os.path.join('data', 'missing_heights.csv')\n",
    "df = pd.read_csv(fp)\n",
    "child = df['child_50']\n",
    "pro_bin = np.histogram(child.dropna(), bins = 10, density = True)\n",
    "sr = pd.Series(pro_bin[0], index = pro_bin[1][1:])\n",
    "highest_prop = sr.sort_values(ascending = False).values[0]\n",
    "sr"
   ]
  },
  {
   "cell_type": "code",
   "execution_count": 51,
   "metadata": {},
   "outputs": [
    {
     "data": {
      "text/plain": [
       "(array([0.00279304, 0.01396518, 0.05027465, 0.10241132, 0.07541197,\n",
       "        0.07913602, 0.09217019, 0.01489619, 0.00279304, 0.00093101]),\n",
       " array([56. , 58.3, 60.6, 62.9, 65.2, 67.5, 69.8, 72.1, 74.4, 76.7, 79. ]))"
      ]
     },
     "execution_count": 51,
     "metadata": {},
     "output_type": "execute_result"
    }
   ],
   "source": [
    "fp = os.path.join('data', 'missing_heights.csv')\n",
    "df = pd.read_csv(fp)\n",
    "child = df['child_50']\n",
    "pro_bin = np.histogram(child.dropna(), bins = 10, density = True)\n",
    "pro_bin"
   ]
  },
  {
   "cell_type": "code",
   "execution_count": 74,
   "metadata": {},
   "outputs": [
    {
     "data": {
      "text/plain": [
       "56.0    0.002793\n",
       "58.3    0.013965\n",
       "60.6    0.050275\n",
       "62.9    0.102411\n",
       "65.2    0.075412\n",
       "67.5    0.079136\n",
       "69.8    0.092170\n",
       "72.1    0.014896\n",
       "74.4    0.002793\n",
       "76.7    0.000931\n",
       "dtype: float64"
      ]
     },
     "execution_count": 74,
     "metadata": {},
     "output_type": "execute_result"
    }
   ],
   "source": [
    "# base on prop, choose the bin\n",
    "sr = pd.Series(pro_bin[0], index = pro_bin[1][:-1])\n",
    "sr"
   ]
  },
  {
   "cell_type": "code",
   "execution_count": 77,
   "metadata": {},
   "outputs": [
    {
     "ename": "ValueError",
     "evalue": "probabilities do not sum to 1",
     "output_type": "error",
     "traceback": [
      "\u001b[1;31m---------------------------------------------------------------------------\u001b[0m",
      "\u001b[1;31mValueError\u001b[0m                                Traceback (most recent call last)",
      "\u001b[1;32m<ipython-input-77-7e1afc803ed7>\u001b[0m in \u001b[0;36m<module>\u001b[1;34m\u001b[0m\n\u001b[0;32m      1\u001b[0m \u001b[1;31m#within the bin, choose the number to represent the missing value\u001b[0m\u001b[1;33m\u001b[0m\u001b[1;33m\u001b[0m\u001b[1;33m\u001b[0m\u001b[0m\n\u001b[1;32m----> 2\u001b[1;33m \u001b[0mreplace\u001b[0m \u001b[1;33m=\u001b[0m \u001b[0mnp\u001b[0m\u001b[1;33m.\u001b[0m\u001b[0mrandom\u001b[0m\u001b[1;33m.\u001b[0m\u001b[0mchoice\u001b[0m\u001b[1;33m(\u001b[0m\u001b[0msr\u001b[0m\u001b[1;33m.\u001b[0m\u001b[0mindex\u001b[0m\u001b[1;33m,\u001b[0m \u001b[0mp\u001b[0m \u001b[1;33m=\u001b[0m \u001b[0msr\u001b[0m\u001b[1;33m.\u001b[0m\u001b[0mvalues\u001b[0m\u001b[1;33m*\u001b[0m\u001b[1;36m10\u001b[0m\u001b[1;33m)\u001b[0m\u001b[1;33m\u001b[0m\u001b[1;33m\u001b[0m\u001b[0m\n\u001b[0m\u001b[0;32m      3\u001b[0m \u001b[1;31m#len(sr.values*10)\u001b[0m\u001b[1;33m\u001b[0m\u001b[1;33m\u001b[0m\u001b[1;33m\u001b[0m\u001b[0m\n",
      "\u001b[1;32mmtrand.pyx\u001b[0m in \u001b[0;36mmtrand.RandomState.choice\u001b[1;34m()\u001b[0m\n",
      "\u001b[1;31mValueError\u001b[0m: probabilities do not sum to 1"
     ]
    }
   ],
   "source": [
    "#within the bin, choose the number to represent the missing value\n",
    "replace = np.random.choice(sr.index, p = sr.values*10)\n",
    "#len(sr.values*10)"
   ]
  },
  {
   "cell_type": "code",
   "execution_count": 76,
   "metadata": {},
   "outputs": [
    {
     "ename": "NameError",
     "evalue": "name 'N_lst' is not defined",
     "output_type": "error",
     "traceback": [
      "\u001b[1;31m---------------------------------------------------------------------------\u001b[0m",
      "\u001b[1;31mNameError\u001b[0m                                 Traceback (most recent call last)",
      "\u001b[1;32m<ipython-input-76-aa43dad84ba1>\u001b[0m in \u001b[0;36m<module>\u001b[1;34m\u001b[0m\n\u001b[1;32m----> 1\u001b[1;33m \u001b[0mN_lst\u001b[0m\u001b[1;33m.\u001b[0m\u001b[0mappend\u001b[0m\u001b[1;33m(\u001b[0m\u001b[0mreplace\u001b[0m\u001b[1;33m)\u001b[0m\u001b[1;33m\u001b[0m\u001b[1;33m\u001b[0m\u001b[0m\n\u001b[0m",
      "\u001b[1;31mNameError\u001b[0m: name 'N_lst' is not defined"
     ]
    }
   ],
   "source": [
    "N_lst.append(replace)"
   ]
  },
  {
   "cell_type": "code",
   "execution_count": 45,
   "metadata": {},
   "outputs": [],
   "source": [
    "fp = os.path.join('data', 'missing_heights.csv')\n",
    "df = pd.read_csv(fp)\n",
    "child = df['child_50']\n",
    "out = lab.quantitative_distribution(child, 100)"
   ]
  },
  {
   "cell_type": "code",
   "execution_count": 46,
   "metadata": {},
   "outputs": [
    {
     "data": {
      "text/plain": [
       "True"
      ]
     },
     "execution_count": 46,
     "metadata": {},
     "output_type": "execute_result"
    }
   ],
   "source": [
    "out.min() >= 56"
   ]
  },
  {
   "cell_type": "code",
   "execution_count": 47,
   "metadata": {},
   "outputs": [
    {
     "data": {
      "text/plain": [
       "True"
      ]
     },
     "execution_count": 47,
     "metadata": {},
     "output_type": "execute_result"
    }
   ],
   "source": [
    "out.max() <= 79"
   ]
  },
  {
   "cell_type": "code",
   "execution_count": 48,
   "metadata": {},
   "outputs": [
    {
     "data": {
      "text/plain": [
       "False"
      ]
     },
     "execution_count": 48,
     "metadata": {},
     "output_type": "execute_result"
    }
   ],
   "source": [
    "np.isclose(out.mean(), child.mean(), atol=1)"
   ]
  },
  {
   "cell_type": "code",
   "execution_count": 42,
   "metadata": {},
   "outputs": [
    {
     "data": {
      "text/plain": [
       "66.64860813704502"
      ]
     },
     "execution_count": 42,
     "metadata": {},
     "output_type": "execute_result"
    }
   ],
   "source": [
    "child.mean()"
   ]
  },
  {
   "cell_type": "code",
   "execution_count": 43,
   "metadata": {},
   "outputs": [
    {
     "data": {
      "text/plain": [
       "65.20001"
      ]
     },
     "execution_count": 43,
     "metadata": {},
     "output_type": "execute_result"
    }
   ],
   "source": [
    "out.mean()"
   ]
  },
  {
   "cell_type": "code",
   "execution_count": 421,
   "metadata": {},
   "outputs": [
    {
     "data": {
      "text/plain": [
       "1"
      ]
     },
     "execution_count": 421,
     "metadata": {},
     "output_type": "execute_result"
    }
   ],
   "source": [
    "np.array(1).min()"
   ]
  },
  {
   "cell_type": "code",
   "execution_count": 542,
   "metadata": {},
   "outputs": [],
   "source": [
    "fp = os.path.join('data', 'missing_heights.csv')\n",
    "df = pd.read_csv(fp)\n",
    "child = df['child_50']\n",
    "out = lab.impute_height_quant(child)"
   ]
  },
  {
   "cell_type": "code",
   "execution_count": 543,
   "metadata": {},
   "outputs": [
    {
     "data": {
      "text/plain": [
       "True"
      ]
     },
     "execution_count": 543,
     "metadata": {},
     "output_type": "execute_result"
    }
   ],
   "source": [
    "out.isnull().sum() == 0"
   ]
  },
  {
   "cell_type": "code",
   "execution_count": 544,
   "metadata": {},
   "outputs": [
    {
     "data": {
      "text/plain": [
       "False"
      ]
     },
     "execution_count": 544,
     "metadata": {},
     "output_type": "execute_result"
    }
   ],
   "source": [
    "np.isclose(out.mean(), child.mean(), atol=0.5)"
   ]
  },
  {
   "cell_type": "markdown",
   "metadata": {},
   "source": [
    "# I'm ready for scraping! But am I allowed to?\n",
    "\n",
    "**Question 5**\n",
    "\n",
    "We know that many sites have a published policy allowing or disallowing automatic access to their site. Often, this policy is in a text file `robots.txt`. There is (`https://moz.com/learn/seo/robotstxt`) a good article that explains what these files are, where to find them, and how to use them. After reading the article please answer a few questions. \n",
    "\n",
    "**2.1: What is the purpose of `robots.txt`?**\n",
    "\n",
    "1) To informs agents which pages to crawl.\n",
    "\n",
    "2) To informs agents that the site is automated.\n",
    "\n",
    "3) To inform agents that robots will chase them down if their info is stolen.\n",
    "\n",
    "**2.2: Where do you put your `robots.txt` file?**\n",
    "\n",
    "1) In the folder you want to disallow.\n",
    "\n",
    "2) In the root directory of your website.\n",
    "\n",
    "3) In a Google search.\n",
    "\n",
    "\n",
    "**2.3: If a `robots.txt` is not present, does it mean you can legally scrape the site?**\n",
    "\n",
    "1) Yes\n",
    "\n",
    "2) No\n",
    "\n",
    "**2.4: Each subdomain on a root domain can use separate `robots.txt` file**\n",
    "\n",
    "1) Yes\n",
    "\n",
    "2) No\n",
    "\n",
    "\n",
    "**2.5: Website hunt**\n",
    "\n",
    "Next, find three websites that explicitly use a `robots.txt` file and allow scraping (by everyone) and three that do not allow generic user-agents to scrape it (denoted by `*`).\n",
    "\n",
    "* Note: Some websites may cause gradescope to time out. Please change a website if you encounter this issue. \n",
    "\n",
    "\n",
    "\n",
    "\n",
    "Now combine you answers to multiple choice questions in one list and urls of the sites you found in another list. \n",
    "Create an argument-free function `answers` to return both of lists.\n"
   ]
  },
  {
   "cell_type": "code",
   "execution_count": null,
   "metadata": {},
   "outputs": [],
   "source": []
  },
  {
   "cell_type": "code",
   "execution_count": null,
   "metadata": {},
   "outputs": [],
   "source": []
  },
  {
   "cell_type": "markdown",
   "metadata": {},
   "source": [
    "## Congratulations! You're done!\n",
    "\n",
    "* Submit the lab on Gradescope"
   ]
  },
  {
   "cell_type": "code",
   "execution_count": null,
   "metadata": {},
   "outputs": [],
   "source": []
  }
 ],
 "metadata": {
  "kernelspec": {
   "display_name": "Python 3",
   "language": "python",
   "name": "python3"
  },
  "language_info": {
   "codemirror_mode": {
    "name": "ipython",
    "version": 3
   },
   "file_extension": ".py",
   "mimetype": "text/x-python",
   "name": "python",
   "nbconvert_exporter": "python",
   "pygments_lexer": "ipython3",
   "version": "3.7.3"
  }
 },
 "nbformat": 4,
 "nbformat_minor": 2
}
