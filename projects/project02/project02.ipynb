{
 "cells": [
  {
   "cell_type": "markdown",
   "metadata": {},
   "source": [
    "# DSC 80: Project 02\n",
    "\n",
    "### Checkpoint Due Date: Thursday, January 30 11:59:59 PM (Q1-5)\n",
    "\n",
    "### Final Due Date: Thursday, February 6 11:59:59 PM"
   ]
  },
  {
   "cell_type": "markdown",
   "metadata": {},
   "source": [
    "---\n",
    "# Instructions\n",
    "\n",
    "This Jupyter Notebook contains the statements of the problems and provides code and markdown cells to display your answers to the problems.  \n",
    "* Like the lab, your coding work will be developed in the accompanying `projectXX.py` file, that will be imported into the current notebook. This code will be autograded.\n",
    "\n",
    "**Do not change the function names in the `*.py` file**\n",
    "- The functions in the `*.py` file are how your assignment is graded, and they are graded by their name. The dictionary at the end of the file (`GRADED FUNCTIONS`) contains the \"grading list\". The final function in the file allows your doctests to check that all the necessary functions exist.\n",
    "- If you changed something you weren't supposed to, just use git to revert!\n",
    "\n",
    "**Tips for developing in the .py file**:\n",
    "- Do not change the function names in the starter code; grading is done using these function names.\n",
    "- Do not change the docstrings in the functions. These are there to tell you if your work is on the right track!\n",
    "- You are encouraged to write your own additional functions to solve the HW! \n",
    "    - Developing in python usually consists of larger files, with many short functions.\n",
    "    - You may write your other functions in an additional `.py` file that you import in `projectXX.py` (much like we do in the notebook).\n",
    "- Always document your code!\n",
    "\n",
    "## Checkpoint Instructions\n",
    "\n",
    "* The checkpoint requires you to turn in **questions 1-5**; \n",
    "* The checkpoint will be graded for *approximate* correctness: easier than the final tests; harder than the doctests.\n"
   ]
  },
  {
   "cell_type": "code",
   "execution_count": 1,
   "metadata": {
    "ExecuteTime": {
     "end_time": "2019-10-14T01:51:24.832772Z",
     "start_time": "2019-10-14T01:51:24.805738Z"
    }
   },
   "outputs": [],
   "source": [
    "%load_ext autoreload\n",
    "%autoreload 2"
   ]
  },
  {
   "cell_type": "code",
   "execution_count": 2,
   "metadata": {
    "ExecuteTime": {
     "end_time": "2019-10-14T01:51:25.681889Z",
     "start_time": "2019-10-14T01:51:24.834879Z"
    }
   },
   "outputs": [],
   "source": [
    "import project02 as proj"
   ]
  },
  {
   "cell_type": "code",
   "execution_count": 3,
   "metadata": {
    "ExecuteTime": {
     "end_time": "2019-10-14T01:51:26.042046Z",
     "start_time": "2019-10-14T01:51:25.685618Z"
    }
   },
   "outputs": [],
   "source": [
    "%matplotlib inline\n",
    "import matplotlib.pyplot as plt\n",
    "import pandas as pd\n",
    "import numpy as np\n",
    "\n",
    "import os"
   ]
  },
  {
   "cell_type": "markdown",
   "metadata": {},
   "source": [
    "# An Investigation into Flight Delays"
   ]
  },
  {
   "cell_type": "markdown",
   "metadata": {},
   "source": [
    "### The flights dataset\n",
    "\n",
    "The department of transportation has all flight delays for listed years on their [website](https://catalog.data.gov/dataset/airline-on-time-performance-and-causes-of-flight-delays-on-time-data). There are data for the years 1987 - 2018. See the description of columns in `data/columns.txt`.\n",
    "\n",
    "This project will look at a single year (2015) to keep the analysis \"simple\", which is available at the URL below (*NOT* on the data.gov site).\n",
    "\n",
    "\n",
    "* To download the flights dataset to your computer, use [this link](https://dsc80-fa19-data.s3-us-west-2.amazonaws.com/project02/flight-delays.zip), unzip the file, and place `flights.csv` in your project directory.\n",
    "\n",
    "* To download the dataset on `datahub.ucsd.edu` (this works on your computer as well!):\n",
    "    - Open the terminal in datahub (\"new > Terminal\")\n",
    "    - Change the directory to where you want your data (e.g. `cd [ASSIGNMENT_PATH]/data`)\n",
    "    - Download the unzipped dataset using these commands:\n",
    "        1. `wget https://dsc80-fa19-data.s3-us-west-2.amazonaws.com/project02/flight-delays.zip`\n",
    "        2. `unzip flight-delays.zip`\n",
    "    - `flights.csv` should be in the directory.\n",
    "    \n",
    "**NOTE: The unzipped files must be in the `project02/data` directory in order for the doctests to work!**"
   ]
  },
  {
   "cell_type": "markdown",
   "metadata": {},
   "source": [
    "### Creating your datasets\n",
    "\n",
    "**Question 1**\n",
    "\n",
    "The flights dataset for 2015 is not small (~600MB). While you could likely load the entire dataset into Pandas on your laptop, if you wanted to work with more than one year, this would quickly become difficult (the data is available for 1987-2018). Therefore, we will filter down the dataset into two smaller files without ever reading the larger dataset fully into memory. We are going to create two smaller datasets:\n",
    "\n",
    "1. All flights arriving or departing from San Diego International Airport in 2015.\n",
    "2. All flights flown by either JetBlue or Southwest Airline in 2015.\n",
    "\n",
    "---\n",
    "\n",
    "To do this, you are going to use the `chunksize=N` keyword in Pandas `read_csv` to read the flights dataset in blocks of `N` lines. When you use this keyword argument, `pd.read_csv(fp, chunksize=N)` becomes a *iterator* that iterates through dataframes of length N until you have reached the end of the dataset. A typical pattern looks like:\n",
    "```\n",
    "L = pd.read_csv(filepath, chunksize=1000)\n",
    "for df in L:\n",
    "    process(df)\n",
    "```\n",
    "Where each `df` is a dataframe of length 1000. \n",
    "\n",
    "The processing you are going to do is:\n",
    "1. Iterate through the dataset, chunk-by-chunk,\n",
    "2. Filtering out rows of each chunk\n",
    "3. Incrementally add to a filtered csv file (since the data is perhaps too big to keep in memory). Keep in mind, if you want to keep writing to the same file, the mode='a' keyword in the `.to_csv` method can be helpful when calling it in the loop (a stands for 'append')\n",
    "\n",
    "---\n",
    "\n",
    "Write two functions that create the datasets below, using the 'chunking' pattern described above. Your functions should use `chunksize` of 10000.\n",
    "1. `get_san` which takes in a filepath containing all flights and an filepath where filtered dataset #1 is written. The function should return `None`.\n",
    "1. `get_jb_sw` which takes in a filepath containing all flights and an filepath where filtered dataset #2 is written. The function should return `None`.\n",
    "\n",
    "*Remark 1*: **Gradescope autograding servers are quite small and can't load this dataset into memory** -- so your code that reads in the large `flights.csv` dataset *must* work with chunks of the dataset one at a time to pass!\n",
    "\n",
    "*Remark 2:* You can check your work using the datasets included in the zip file!\n",
    "\n",
    "Remember to close your file properly!"
   ]
  },
  {
   "cell_type": "code",
   "execution_count": 4,
   "metadata": {},
   "outputs": [],
   "source": [
    "infp = os.path.join('data', 'flights.test')\n",
    "outfp = os.path.join('data', 'santest.tmp')\n",
    "#infp = os.path.join('data', 'flights.csv')\n"
   ]
  },
  {
   "cell_type": "code",
   "execution_count": 5,
   "metadata": {},
   "outputs": [],
   "source": [
    "proj.get_san(infp, outfp)"
   ]
  },
  {
   "cell_type": "code",
   "execution_count": 6,
   "metadata": {},
   "outputs": [],
   "source": [
    "df = pd.read_csv(outfp)"
   ]
  },
  {
   "cell_type": "code",
   "execution_count": 7,
   "metadata": {},
   "outputs": [
    {
     "data": {
      "text/plain": [
       "(53, 31)"
      ]
     },
     "execution_count": 7,
     "metadata": {},
     "output_type": "execute_result"
    }
   ],
   "source": [
    "df.shape"
   ]
  },
  {
   "cell_type": "code",
   "execution_count": 8,
   "metadata": {},
   "outputs": [],
   "source": [
    "os.remove(outfp)"
   ]
  },
  {
   "cell_type": "code",
   "execution_count": 9,
   "metadata": {},
   "outputs": [],
   "source": [
    "to_from_san_filepath = os.path.join('data', 'to_from_san.csv')\n",
    "flights = pd.read_csv(to_from_san_filepath)"
   ]
  },
  {
   "cell_type": "code",
   "execution_count": 10,
   "metadata": {},
   "outputs": [],
   "source": [
    "proj.get_sw_jb(infp, outfp)"
   ]
  },
  {
   "cell_type": "code",
   "execution_count": 11,
   "metadata": {},
   "outputs": [],
   "source": [
    "df = pd.read_csv(outfp)"
   ]
  },
  {
   "cell_type": "code",
   "execution_count": 12,
   "metadata": {},
   "outputs": [
    {
     "data": {
      "text/plain": [
       "(73, 31)"
      ]
     },
     "execution_count": 12,
     "metadata": {},
     "output_type": "execute_result"
    }
   ],
   "source": [
    "df.shape"
   ]
  },
  {
   "cell_type": "code",
   "execution_count": 14,
   "metadata": {},
   "outputs": [],
   "source": [
    "os.remove(outfp)"
   ]
  },
  {
   "cell_type": "markdown",
   "metadata": {},
   "source": [
    "# Flight Delays to/from San Diego\n",
    "\n",
    "The department of transportation has all flight delays for listed years on their [website](https://catalog.data.gov/dataset/airline-on-time-performance-and-causes-of-flight-delays-on-time-data). \n",
    "\n",
    "The zip file at the [URL](https://dsc80-fa19-data.s3-us-west-2.amazonaws.com/project02/flight-delays.zip) contains a file `to_from_san.csv` that consists of all flights either to or from SAN (San Diego) in 2015 -- i.e. the output of Question 1. This dataset should match the dataset that your code returned in question 1.\n",
    "\n",
    "Read in `to_from_san.csv` using `read_csv` and inspect the dataframe for an initial assessment about the data quality."
   ]
  },
  {
   "cell_type": "code",
   "execution_count": 15,
   "metadata": {
    "ExecuteTime": {
     "end_time": "2019-10-14T01:51:26.403770Z",
     "start_time": "2019-10-14T01:51:26.045071Z"
    }
   },
   "outputs": [],
   "source": [
    "# Run this cell\n",
    "to_from_san_filepath = os.path.join('data', 'to_from_san.csv')\n",
    "flights = pd.read_csv(to_from_san_filepath)"
   ]
  },
  {
   "cell_type": "markdown",
   "metadata": {},
   "source": [
    "### Understanding the data types of the columns\n",
    "\n",
    "**Question 2**:\n",
    "\n",
    "* First, classify the *kind* of data each column in `flights` contains. Create a function `data_kinds` of zero variables which outputs a (hard-coded) dictionary of data kinds, keyed by column name, with values `Q`, `O`, `N` (for 'Quantitative', 'Ordinal', or 'Nominal').\n",
    "\n",
    "* Second, decide the best data *type* for each column. Create a function `data_types` of zero variables which outputs a (hard-coded) dictionary of data types, keyed by column name, with values `str`, `int`, `float`, `bool`. \n",
    "\n",
    "*Remark 1*: A column which *should* be `int`s, but contains `NaN`, *must* be a float column. See Lecture 2 notes an explanation of `NaN` and data-types.\n",
    "\n",
    "*Remark 2*: As with real data, some data processing decisions may be ambiguous here. Make a best decision using the information available to you. It may be helpful to (re)read the relevant [section of the textbook](https://afraenkel.github.io/practical-data-science/03/kinds-of-data.html). \n",
    "* Certain answers *may* have more than one correct answer (in these cases, more than one choice gets full credit),\n",
    "* All answers will be graded for partial credit (some wrong answers are more wrong than other).\n",
    "There are many columns, so don't worry about the correctness of any given one; do make sure you are thinking about what's contained in a column critically!"
   ]
  },
  {
   "cell_type": "code",
   "execution_count": 16,
   "metadata": {},
   "outputs": [
    {
     "data": {
      "text/plain": [
       "43       64\n",
       "44      144\n",
       "45      520\n",
       "46      712\n",
       "47      463\n",
       "48      580\n",
       "49      520\n",
       "50      417\n",
       "51      479\n",
       "52      568\n",
       "53      500\n",
       "54      722\n",
       "55      815\n",
       "56      879\n",
       "57      454\n",
       "58      301\n",
       "59      337\n",
       "60      921\n",
       "61       92\n",
       "62      103\n",
       "63      144\n",
       "64      255\n",
       "65     4400\n",
       "66      186\n",
       "67      231\n",
       "68      165\n",
       "69      217\n",
       "70     8008\n",
       "71      898\n",
       "72      261\n",
       "       ... \n",
       "370     225\n",
       "371      12\n",
       "372     168\n",
       "373      77\n",
       "374     277\n",
       "375     154\n",
       "376     287\n",
       "377     183\n",
       "378     122\n",
       "379      87\n",
       "380     224\n",
       "381      52\n",
       "382     132\n",
       "383     156\n",
       "384     164\n",
       "385      90\n",
       "386       4\n",
       "387     133\n",
       "388      67\n",
       "389      19\n",
       "390     127\n",
       "391      61\n",
       "394      12\n",
       "395      21\n",
       "396      53\n",
       "397       2\n",
       "400      56\n",
       "410      10\n",
       "413      35\n",
       "419      26\n",
       "Name: SCHEDULED_TIME, Length: 354, dtype: int64"
      ]
     },
     "execution_count": 16,
     "metadata": {},
     "output_type": "execute_result"
    }
   ],
   "source": [
    "flights['SCHEDULED_TIME'].value_counts().sort_index()"
   ]
  },
  {
   "cell_type": "code",
   "execution_count": 17,
   "metadata": {},
   "outputs": [],
   "source": [
    "out = proj.data_kinds()"
   ]
  },
  {
   "cell_type": "code",
   "execution_count": 18,
   "metadata": {},
   "outputs": [
    {
     "data": {
      "text/plain": [
       "True"
      ]
     },
     "execution_count": 18,
     "metadata": {},
     "output_type": "execute_result"
    }
   ],
   "source": [
    "out = proj.data_types()\n",
    "isinstance(out, dict)"
   ]
  },
  {
   "cell_type": "code",
   "execution_count": 19,
   "metadata": {},
   "outputs": [
    {
     "data": {
      "text/plain": [
       "True"
      ]
     },
     "execution_count": 19,
     "metadata": {},
     "output_type": "execute_result"
    }
   ],
   "source": [
    "set(out.values()) == {'int', 'str', 'float', 'bool'}"
   ]
  },
  {
   "cell_type": "code",
   "execution_count": 20,
   "metadata": {},
   "outputs": [
    {
     "data": {
      "text/plain": [
       "dict_values(['int', 'int', 'int', 'int', 'str', 'int', 'str', 'str', 'str', 'int', 'float', 'float', 'float', 'float', 'int', 'float', 'float', 'int', 'float', 'float', 'int', 'float', 'float', 'bool', 'bool', 'str', 'float', 'float', 'float', 'float', 'float'])"
      ]
     },
     "execution_count": 20,
     "metadata": {},
     "output_type": "execute_result"
    }
   ],
   "source": [
    "out.values()"
   ]
  },
  {
   "cell_type": "markdown",
   "metadata": {},
   "source": [
    "### Read in the typed flights data\n",
    "\n",
    "Read in the flights data using your dictionary of data-types in `read_csv`. This both speeds up parsing, as well as gives you the correct data-types upon reading (which columns would pandas *parse incorrectly* if you didn't use a `dtype` dictionary?)"
   ]
  },
  {
   "cell_type": "code",
   "execution_count": 21,
   "metadata": {
    "ExecuteTime": {
     "end_time": "2019-10-14T01:51:26.410356Z",
     "start_time": "2019-10-14T01:51:24.819Z"
    }
   },
   "outputs": [],
   "source": [
    "# Run this cell\n",
    "dtypes = proj.data_types()\n",
    "flights = pd.read_csv(to_from_san_filepath, dtype=dtypes)"
   ]
  },
  {
   "cell_type": "code",
   "execution_count": null,
   "metadata": {},
   "outputs": [],
   "source": []
  },
  {
   "cell_type": "markdown",
   "metadata": {},
   "source": [
    "**Question 3 (Basic Stats):**\n",
    "\n",
    "Define a function `basic_stats` that takes a dataframe `flights` and outputs a dataframe that contains statistics for flights arriving/departing for SAN. That is, the output should have two rows, indexed by `ARRIVING` and `DEPARTING`, and have the following columns:\n",
    "\n",
    "1. number of arriving/departing flights to/from SAN (`count`).\n",
    "2. mean flight (arrival) delay of arriving/departing flights to/from SAN (`mean_delay`).\n",
    "3. median flight (arrival) delay of arriving/departing flights to/from SAN (`median_delay`).\n",
    "4. the airline code of the airline with the longest flight (arrival) delay among all flights arriving/departing to/from SAN (`airline`).\n",
    "5. a list of the three months with the greatest number of arriving/departing flights to/from SAN, sorted from greatest to least (`top_months`).\n",
    "\n",
    "*Remark:* Null values should not be considered when computing statistics; however, think about whether e.g. the average flight delay is likely higher or lower that the \"true mean\" by making this choice.\n",
    "\n",
    "*Hint*: Use `groupbby` and the fact that `aggregate` can take in a dictionary as an argument."
   ]
  },
  {
   "cell_type": "code",
   "execution_count": 22,
   "metadata": {},
   "outputs": [],
   "source": [
    "fp = os.path.join('data', 'to_from_san.csv')\n",
    "dtypes = proj.data_types()\n",
    "flights = pd.read_csv(fp, dtype=dtypes)"
   ]
  },
  {
   "cell_type": "code",
   "execution_count": 23,
   "metadata": {},
   "outputs": [],
   "source": [
    "out = proj.basic_stats(flights)"
   ]
  },
  {
   "cell_type": "code",
   "execution_count": 24,
   "metadata": {},
   "outputs": [
    {
     "data": {
      "text/plain": [
       "True"
      ]
     },
     "execution_count": 24,
     "metadata": {},
     "output_type": "execute_result"
    }
   ],
   "source": [
    "out.index.tolist() == ['ARRIVING', 'DEPARTING']"
   ]
  },
  {
   "cell_type": "code",
   "execution_count": 25,
   "metadata": {},
   "outputs": [],
   "source": [
    "cols = ['count', 'mean_delay', 'median_delay', 'airline', 'top_months']"
   ]
  },
  {
   "cell_type": "code",
   "execution_count": 26,
   "metadata": {},
   "outputs": [
    {
     "data": {
      "text/plain": [
       "True"
      ]
     },
     "execution_count": 26,
     "metadata": {},
     "output_type": "execute_result"
    }
   ],
   "source": [
    "out.columns.tolist() == cols"
   ]
  },
  {
   "cell_type": "code",
   "execution_count": null,
   "metadata": {},
   "outputs": [],
   "source": []
  },
  {
   "cell_type": "markdown",
   "metadata": {},
   "source": [
    "### Understanding flight delays: Departures, Arrivals, and everything in-between\n",
    "\n",
    "**Question 4**\n",
    "\n",
    "Often `DEPARTURE_DELAY` is thought to be the main cause of a flight delay -- i.e., when the flight is late pushing off from the gate. \n",
    "\n",
    "However, there are other ways that flights can be late: waiting on the tarmac, headwinds, turbulence, circling a busy airport, and waiting for a gate after landing. First, we will analyze all the ways in which a flight can be delayed.\n",
    "\n",
    "* First, create a function `depart_arrive_stats` that takes in a dataframe like `flights` and calculates the following quantities in a series, indexed by `late1`, `late2`, `late3`:\n",
    "    - The proportion of flights from/to SAN that leave late, but arrive early or on-time (`late1`).\n",
    "    - The proportion of flights from/to SAN that leaves early, or on-time, but arrives late (`late2`).\n",
    "    - The proportion of flights from/to SAN that both left late and arrived late (`late3`).\n",
    "    \n",
    "* Second, create a function `depart_arrive_stats_by_month` that takes in a dataframe like `flights` and calculates the quantities above broken down by *month*. That is, the output is a dataframe, indexed by `MONTH`, with columns given by `late1`, `late2`, `late3`.\n",
    "\n",
    "*Remark 1:* Does this question reveal any data quality issues? Can you pinpoint when these issues occur?\n",
    "\n",
    "*Remark 2:* A flight is considered late if it departed/arrived any time later than its planned departure/arrival time."
   ]
  },
  {
   "cell_type": "code",
   "execution_count": 276,
   "metadata": {},
   "outputs": [],
   "source": [
    "fp = os.path.join('data', 'to_from_san.csv')\n",
    "dtypes = proj.data_types()\n",
    "flights = pd.read_csv(fp, dtype=dtypes)"
   ]
  },
  {
   "cell_type": "code",
   "execution_count": 277,
   "metadata": {},
   "outputs": [
    {
     "data": {
      "text/plain": [
       "True"
      ]
     },
     "execution_count": 277,
     "metadata": {},
     "output_type": "execute_result"
    }
   ],
   "source": [
    "out = proj.depart_arrive_stats(flights)\n",
    "out.index.tolist() == ['late1', 'late2', 'late3']"
   ]
  },
  {
   "cell_type": "code",
   "execution_count": 278,
   "metadata": {},
   "outputs": [
    {
     "data": {
      "text/plain": [
       "True"
      ]
     },
     "execution_count": 278,
     "metadata": {},
     "output_type": "execute_result"
    }
   ],
   "source": [
    "isinstance(out, pd.Series)"
   ]
  },
  {
   "cell_type": "code",
   "execution_count": 30,
   "metadata": {},
   "outputs": [
    {
     "data": {
      "text/plain": [
       "True"
      ]
     },
     "execution_count": 30,
     "metadata": {},
     "output_type": "execute_result"
    }
   ],
   "source": [
    "out.max() < 0.30"
   ]
  },
  {
   "cell_type": "code",
   "execution_count": 31,
   "metadata": {},
   "outputs": [
    {
     "data": {
      "text/html": [
       "<div>\n",
       "<style scoped>\n",
       "    .dataframe tbody tr th:only-of-type {\n",
       "        vertical-align: middle;\n",
       "    }\n",
       "\n",
       "    .dataframe tbody tr th {\n",
       "        vertical-align: top;\n",
       "    }\n",
       "\n",
       "    .dataframe thead th {\n",
       "        text-align: right;\n",
       "    }\n",
       "</style>\n",
       "<table border=\"1\" class=\"dataframe\">\n",
       "  <thead>\n",
       "    <tr style=\"text-align: right;\">\n",
       "      <th></th>\n",
       "      <th>late1</th>\n",
       "      <th>late2</th>\n",
       "      <th>late3</th>\n",
       "    </tr>\n",
       "    <tr>\n",
       "      <th>MONTH</th>\n",
       "      <th></th>\n",
       "      <th></th>\n",
       "      <th></th>\n",
       "    </tr>\n",
       "  </thead>\n",
       "  <tbody>\n",
       "    <tr>\n",
       "      <th>1</th>\n",
       "      <td>0.119063</td>\n",
       "      <td>0.095645</td>\n",
       "      <td>0.270501</td>\n",
       "    </tr>\n",
       "    <tr>\n",
       "      <th>2</th>\n",
       "      <td>0.118087</td>\n",
       "      <td>0.096915</td>\n",
       "      <td>0.289925</td>\n",
       "    </tr>\n",
       "    <tr>\n",
       "      <th>3</th>\n",
       "      <td>0.130521</td>\n",
       "      <td>0.089240</td>\n",
       "      <td>0.258309</td>\n",
       "    </tr>\n",
       "    <tr>\n",
       "      <th>4</th>\n",
       "      <td>0.116475</td>\n",
       "      <td>0.095064</td>\n",
       "      <td>0.264326</td>\n",
       "    </tr>\n",
       "    <tr>\n",
       "      <th>5</th>\n",
       "      <td>0.114136</td>\n",
       "      <td>0.083498</td>\n",
       "      <td>0.285151</td>\n",
       "    </tr>\n",
       "    <tr>\n",
       "      <th>6</th>\n",
       "      <td>0.121138</td>\n",
       "      <td>0.088248</td>\n",
       "      <td>0.330968</td>\n",
       "    </tr>\n",
       "    <tr>\n",
       "      <th>7</th>\n",
       "      <td>0.115371</td>\n",
       "      <td>0.095455</td>\n",
       "      <td>0.335799</td>\n",
       "    </tr>\n",
       "    <tr>\n",
       "      <th>8</th>\n",
       "      <td>0.123828</td>\n",
       "      <td>0.086890</td>\n",
       "      <td>0.272450</td>\n",
       "    </tr>\n",
       "    <tr>\n",
       "      <th>9</th>\n",
       "      <td>0.110409</td>\n",
       "      <td>0.087890</td>\n",
       "      <td>0.185905</td>\n",
       "    </tr>\n",
       "    <tr>\n",
       "      <th>11</th>\n",
       "      <td>0.126393</td>\n",
       "      <td>0.081468</td>\n",
       "      <td>0.243735</td>\n",
       "    </tr>\n",
       "    <tr>\n",
       "      <th>12</th>\n",
       "      <td>0.122793</td>\n",
       "      <td>0.082745</td>\n",
       "      <td>0.318700</td>\n",
       "    </tr>\n",
       "  </tbody>\n",
       "</table>\n",
       "</div>"
      ],
      "text/plain": [
       "          late1     late2     late3\n",
       "MONTH                              \n",
       "1      0.119063  0.095645  0.270501\n",
       "2      0.118087  0.096915  0.289925\n",
       "3      0.130521  0.089240  0.258309\n",
       "4      0.116475  0.095064  0.264326\n",
       "5      0.114136  0.083498  0.285151\n",
       "6      0.121138  0.088248  0.330968\n",
       "7      0.115371  0.095455  0.335799\n",
       "8      0.123828  0.086890  0.272450\n",
       "9      0.110409  0.087890  0.185905\n",
       "11     0.126393  0.081468  0.243735\n",
       "12     0.122793  0.082745  0.318700"
      ]
     },
     "execution_count": 31,
     "metadata": {},
     "output_type": "execute_result"
    }
   ],
   "source": [
    "fp = os.path.join('data', 'to_from_san.csv')\n",
    "dtypes = proj.data_types()\n",
    "flights = pd.read_csv(fp, dtype=dtypes)\n",
    "out = proj.depart_arrive_stats_by_month(flights)\n",
    "out"
   ]
  },
  {
   "cell_type": "code",
   "execution_count": 32,
   "metadata": {},
   "outputs": [
    {
     "data": {
      "text/plain": [
       "True"
      ]
     },
     "execution_count": 32,
     "metadata": {},
     "output_type": "execute_result"
    }
   ],
   "source": [
    "out.columns.tolist() == ['late1', 'late2', 'late3']"
   ]
  },
  {
   "cell_type": "code",
   "execution_count": 33,
   "metadata": {},
   "outputs": [
    {
     "data": {
      "text/plain": [
       "True"
      ]
     },
     "execution_count": 33,
     "metadata": {},
     "output_type": "execute_result"
    }
   ],
   "source": [
    "set(out.index) <= set(range(1, 13))"
   ]
  },
  {
   "cell_type": "code",
   "execution_count": null,
   "metadata": {},
   "outputs": [],
   "source": []
  },
  {
   "cell_type": "markdown",
   "metadata": {},
   "source": [
    "### Flight delays and day of the week\n",
    "\n",
    "**Question 5**\n",
    "\n",
    "Next, we'd like to understand the flight traffic to/from SAN by day of the week. Day of the week is specified by integers 1 through 7; verify for yourself which integer corresponds to which day (hint: you have the *date* for each flight as well!).\n",
    "\n",
    "Next create two functions to understand both the amount of traffic and the average flight delay of flights for each airline by day-of-the week. We both want to understand *presence* each airline has as well as their *performance*.\n",
    "\n",
    "1. Create a function `cnts_by_airline_dow` that takes in a dataframe like `flights` and outputs a dataframe that answers the following question: Given any `AIRLINE` and `DAY_OF_WEEK`, how many flights were there (in 2015)?\n",
    "\n",
    "\n",
    "2. Create a function `mean_by_airline_dow` that takes in a dataframe like `flights` and outputs a dataframe that answers the following question: Given any `AIRLINE` and `DAY_OF_WEEK`, what is the average `ARRIVAL_DELAY` (in 2015)?\n",
    "\n",
    "Both dataframes should have a column for each distinct value of `AIRLINE` and a row for each `DAY_OF_WEEK`.\n",
    "\n",
    "*Hint:* Both `groupby` and `pivot` should be useful here!\n",
    "\n",
    "Your output should have the *form* of the table below (not the entries themselves!)\n",
    "\n",
    "<img src=\"pivot.png\" />"
   ]
  },
  {
   "cell_type": "code",
   "execution_count": 34,
   "metadata": {},
   "outputs": [
    {
     "name": "stderr",
     "output_type": "stream",
     "text": [
      "C:\\Users\\sohyun\\Anaconda3\\lib\\site-packages\\IPython\\core\\interactiveshell.py:3057: DtypeWarning: Columns (7,8) have mixed types. Specify dtype option on import or set low_memory=False.\n",
      "  interactivity=interactivity, compiler=compiler, result=result)\n"
     ]
    },
    {
     "data": {
      "text/plain": [
       "106225"
      ]
     },
     "execution_count": 34,
     "metadata": {},
     "output_type": "execute_result"
    }
   ],
   "source": [
    "fp = os.path.join('data', 'flights.csv')\n",
    "flights = pd.read_csv(fp)\n",
    "len(flights[(flights['DAY_OF_WEEK'] == 1) & (flights['AIRLINE'] == 'AA')])"
   ]
  },
  {
   "cell_type": "code",
   "execution_count": 35,
   "metadata": {},
   "outputs": [
    {
     "data": {
      "text/html": [
       "<div>\n",
       "<style scoped>\n",
       "    .dataframe tbody tr th:only-of-type {\n",
       "        vertical-align: middle;\n",
       "    }\n",
       "\n",
       "    .dataframe tbody tr th {\n",
       "        vertical-align: top;\n",
       "    }\n",
       "\n",
       "    .dataframe thead th {\n",
       "        text-align: right;\n",
       "    }\n",
       "</style>\n",
       "<table border=\"1\" class=\"dataframe\">\n",
       "  <thead>\n",
       "    <tr style=\"text-align: right;\">\n",
       "      <th>AIRLINE</th>\n",
       "      <th>AA</th>\n",
       "      <th>AS</th>\n",
       "      <th>B6</th>\n",
       "      <th>DL</th>\n",
       "      <th>EV</th>\n",
       "      <th>F9</th>\n",
       "      <th>HA</th>\n",
       "      <th>MQ</th>\n",
       "      <th>NK</th>\n",
       "      <th>OO</th>\n",
       "      <th>UA</th>\n",
       "      <th>US</th>\n",
       "      <th>VX</th>\n",
       "      <th>WN</th>\n",
       "    </tr>\n",
       "    <tr>\n",
       "      <th>DAY_OF_WEEK</th>\n",
       "      <th></th>\n",
       "      <th></th>\n",
       "      <th></th>\n",
       "      <th></th>\n",
       "      <th></th>\n",
       "      <th></th>\n",
       "      <th></th>\n",
       "      <th></th>\n",
       "      <th></th>\n",
       "      <th></th>\n",
       "      <th></th>\n",
       "      <th></th>\n",
       "      <th></th>\n",
       "      <th></th>\n",
       "    </tr>\n",
       "  </thead>\n",
       "  <tbody>\n",
       "    <tr>\n",
       "      <th>1</th>\n",
       "      <td>106225</td>\n",
       "      <td>25082</td>\n",
       "      <td>38902</td>\n",
       "      <td>131682</td>\n",
       "      <td>86979</td>\n",
       "      <td>13228</td>\n",
       "      <td>10841</td>\n",
       "      <td>43872</td>\n",
       "      <td>16794</td>\n",
       "      <td>87484</td>\n",
       "      <td>78549</td>\n",
       "      <td>29391</td>\n",
       "      <td>9286</td>\n",
       "      <td>187228</td>\n",
       "    </tr>\n",
       "    <tr>\n",
       "      <th>2</th>\n",
       "      <td>103401</td>\n",
       "      <td>24165</td>\n",
       "      <td>37753</td>\n",
       "      <td>128412</td>\n",
       "      <td>83541</td>\n",
       "      <td>12991</td>\n",
       "      <td>10516</td>\n",
       "      <td>42970</td>\n",
       "      <td>16359</td>\n",
       "      <td>84054</td>\n",
       "      <td>74945</td>\n",
       "      <td>28496</td>\n",
       "      <td>8990</td>\n",
       "      <td>188007</td>\n",
       "    </tr>\n",
       "    <tr>\n",
       "      <th>3</th>\n",
       "      <td>106503</td>\n",
       "      <td>24395</td>\n",
       "      <td>37749</td>\n",
       "      <td>129943</td>\n",
       "      <td>85001</td>\n",
       "      <td>13015</td>\n",
       "      <td>10796</td>\n",
       "      <td>43450</td>\n",
       "      <td>16493</td>\n",
       "      <td>86211</td>\n",
       "      <td>76718</td>\n",
       "      <td>28309</td>\n",
       "      <td>9071</td>\n",
       "      <td>188243</td>\n",
       "    </tr>\n",
       "    <tr>\n",
       "      <th>4</th>\n",
       "      <td>108168</td>\n",
       "      <td>25477</td>\n",
       "      <td>39470</td>\n",
       "      <td>132064</td>\n",
       "      <td>87126</td>\n",
       "      <td>13424</td>\n",
       "      <td>11031</td>\n",
       "      <td>44314</td>\n",
       "      <td>17054</td>\n",
       "      <td>87902</td>\n",
       "      <td>79126</td>\n",
       "      <td>30160</td>\n",
       "      <td>9411</td>\n",
       "      <td>187794</td>\n",
       "    </tr>\n",
       "    <tr>\n",
       "      <th>5</th>\n",
       "      <td>106374</td>\n",
       "      <td>25135</td>\n",
       "      <td>38801</td>\n",
       "      <td>130234</td>\n",
       "      <td>86299</td>\n",
       "      <td>13242</td>\n",
       "      <td>11662</td>\n",
       "      <td>43869</td>\n",
       "      <td>16991</td>\n",
       "      <td>86611</td>\n",
       "      <td>77634</td>\n",
       "      <td>30246</td>\n",
       "      <td>9380</td>\n",
       "      <td>185731</td>\n",
       "    </tr>\n",
       "    <tr>\n",
       "      <th>6</th>\n",
       "      <td>92264</td>\n",
       "      <td>23574</td>\n",
       "      <td>35631</td>\n",
       "      <td>99365</td>\n",
       "      <td>63484</td>\n",
       "      <td>11878</td>\n",
       "      <td>10559</td>\n",
       "      <td>34246</td>\n",
       "      <td>16844</td>\n",
       "      <td>71767</td>\n",
       "      <td>57675</td>\n",
       "      <td>24389</td>\n",
       "      <td>7098</td>\n",
       "      <td>151771</td>\n",
       "    </tr>\n",
       "    <tr>\n",
       "      <th>7</th>\n",
       "      <td>103049</td>\n",
       "      <td>24693</td>\n",
       "      <td>38742</td>\n",
       "      <td>124181</td>\n",
       "      <td>79547</td>\n",
       "      <td>13058</td>\n",
       "      <td>10867</td>\n",
       "      <td>41911</td>\n",
       "      <td>16844</td>\n",
       "      <td>84324</td>\n",
       "      <td>71076</td>\n",
       "      <td>27724</td>\n",
       "      <td>8667</td>\n",
       "      <td>173081</td>\n",
       "    </tr>\n",
       "  </tbody>\n",
       "</table>\n",
       "</div>"
      ],
      "text/plain": [
       "AIRLINE          AA     AS     B6      DL     EV     F9     HA     MQ     NK  \\\n",
       "DAY_OF_WEEK                                                                    \n",
       "1            106225  25082  38902  131682  86979  13228  10841  43872  16794   \n",
       "2            103401  24165  37753  128412  83541  12991  10516  42970  16359   \n",
       "3            106503  24395  37749  129943  85001  13015  10796  43450  16493   \n",
       "4            108168  25477  39470  132064  87126  13424  11031  44314  17054   \n",
       "5            106374  25135  38801  130234  86299  13242  11662  43869  16991   \n",
       "6             92264  23574  35631   99365  63484  11878  10559  34246  16844   \n",
       "7            103049  24693  38742  124181  79547  13058  10867  41911  16844   \n",
       "\n",
       "AIRLINE         OO     UA     US    VX      WN  \n",
       "DAY_OF_WEEK                                     \n",
       "1            87484  78549  29391  9286  187228  \n",
       "2            84054  74945  28496  8990  188007  \n",
       "3            86211  76718  28309  9071  188243  \n",
       "4            87902  79126  30160  9411  187794  \n",
       "5            86611  77634  30246  9380  185731  \n",
       "6            71767  57675  24389  7098  151771  \n",
       "7            84324  71076  27724  8667  173081  "
      ]
     },
     "execution_count": 35,
     "metadata": {},
     "output_type": "execute_result"
    }
   ],
   "source": [
    "out = proj.cnts_by_airline_dow(flights)\n",
    "out"
   ]
  },
  {
   "cell_type": "code",
   "execution_count": 36,
   "metadata": {},
   "outputs": [
    {
     "data": {
      "text/plain": [
       "True"
      ]
     },
     "execution_count": 36,
     "metadata": {},
     "output_type": "execute_result"
    }
   ],
   "source": [
    "set(out.columns) == set(flights['AIRLINE'].unique())\n",
    "set(out.index) == set(flights['DAY_OF_WEEK'].unique())\n",
    "(out >= 0).all().all()"
   ]
  },
  {
   "cell_type": "code",
   "execution_count": 37,
   "metadata": {},
   "outputs": [],
   "source": [
    "fp = os.path.join('data', 'to_from_san.csv')\n",
    "flights = pd.read_csv(fp, nrows=100)"
   ]
  },
  {
   "cell_type": "code",
   "execution_count": 38,
   "metadata": {},
   "outputs": [
    {
     "data": {
      "text/html": [
       "<div>\n",
       "<style scoped>\n",
       "    .dataframe tbody tr th:only-of-type {\n",
       "        vertical-align: middle;\n",
       "    }\n",
       "\n",
       "    .dataframe tbody tr th {\n",
       "        vertical-align: top;\n",
       "    }\n",
       "\n",
       "    .dataframe thead th {\n",
       "        text-align: right;\n",
       "    }\n",
       "</style>\n",
       "<table border=\"1\" class=\"dataframe\">\n",
       "  <thead>\n",
       "    <tr style=\"text-align: right;\">\n",
       "      <th>AIRLINE</th>\n",
       "      <th>AA</th>\n",
       "      <th>AS</th>\n",
       "      <th>B6</th>\n",
       "      <th>DL</th>\n",
       "      <th>F9</th>\n",
       "      <th>HA</th>\n",
       "      <th>NK</th>\n",
       "      <th>OO</th>\n",
       "      <th>UA</th>\n",
       "      <th>US</th>\n",
       "      <th>VX</th>\n",
       "      <th>WN</th>\n",
       "    </tr>\n",
       "    <tr>\n",
       "      <th>DAY_OF_WEEK</th>\n",
       "      <th></th>\n",
       "      <th></th>\n",
       "      <th></th>\n",
       "      <th></th>\n",
       "      <th></th>\n",
       "      <th></th>\n",
       "      <th></th>\n",
       "      <th></th>\n",
       "      <th></th>\n",
       "      <th></th>\n",
       "      <th></th>\n",
       "      <th></th>\n",
       "    </tr>\n",
       "  </thead>\n",
       "  <tbody>\n",
       "    <tr>\n",
       "      <th>4</th>\n",
       "      <td>-20.857143</td>\n",
       "      <td>-3.416667</td>\n",
       "      <td>-3.5</td>\n",
       "      <td>-10.636364</td>\n",
       "      <td>-8.0</td>\n",
       "      <td>9.0</td>\n",
       "      <td>-6.75</td>\n",
       "      <td>20.285714</td>\n",
       "      <td>-14.363636</td>\n",
       "      <td>-6.0</td>\n",
       "      <td>-5.0</td>\n",
       "      <td>-1.5</td>\n",
       "    </tr>\n",
       "  </tbody>\n",
       "</table>\n",
       "</div>"
      ],
      "text/plain": [
       "AIRLINE             AA        AS   B6         DL   F9   HA    NK         OO  \\\n",
       "DAY_OF_WEEK                                                                   \n",
       "4           -20.857143 -3.416667 -3.5 -10.636364 -8.0  9.0 -6.75  20.285714   \n",
       "\n",
       "AIRLINE             UA   US   VX   WN  \n",
       "DAY_OF_WEEK                            \n",
       "4           -14.363636 -6.0 -5.0 -1.5  "
      ]
     },
     "execution_count": 38,
     "metadata": {},
     "output_type": "execute_result"
    }
   ],
   "source": [
    "out = proj.mean_by_airline_dow(flights)\n",
    "out"
   ]
  },
  {
   "cell_type": "code",
   "execution_count": 39,
   "metadata": {},
   "outputs": [
    {
     "data": {
      "text/plain": [
       "True"
      ]
     },
     "execution_count": 39,
     "metadata": {},
     "output_type": "execute_result"
    }
   ],
   "source": [
    "set(out.columns) == set(flights['AIRLINE'].unique())"
   ]
  },
  {
   "cell_type": "code",
   "execution_count": 40,
   "metadata": {},
   "outputs": [
    {
     "data": {
      "text/plain": [
       "True"
      ]
     },
     "execution_count": 40,
     "metadata": {},
     "output_type": "execute_result"
    }
   ],
   "source": [
    "set(out.index) == set(flights['DAY_OF_WEEK'].unique())"
   ]
  },
  {
   "cell_type": "code",
   "execution_count": null,
   "metadata": {},
   "outputs": [],
   "source": []
  },
  {
   "cell_type": "markdown",
   "metadata": {},
   "source": [
    "### Understanding null values in the flights data\n",
    "\n",
    "**Question 6 (Missing by Design)**\n",
    "\n",
    "Now we would like to understand how data is missing in the flights data. First, compute the proportion of each column of `flights` which are non-null. Do not turn this in, but it will be useful information in doing the next few problems.\n",
    "\n",
    "Recall that a column is *missing by design* if you can determine when the entry of a column is missing based solely on other data in the same row. That is\n",
    "* there is *no randomness* in determining when an entry is missing.\n",
    "* you can describe when the column is missing a value with a logical (not random) condition.\n",
    "* you can express which rows will have missing values in terms of logical statements about the *other* columns in the same row.\n",
    "\n",
    "For this question, verify the following columns are *missing by design*:\n",
    "* The column `ARRIVAL_DELAY` is *missing by design*. Create a function `predict_null_arrival_delay` that doesn't depend on the values of `ARRIVAL_DELAY`, that:\n",
    "    - Takes in a row of the flights data (that is, a Series)\n",
    "    - Returns `True` if and only if the `ARRIVAL_DELAY` is null; otherwise it returns `False`.\n",
    "    - Since the function doesn't depend on `ARRIVAL_DELAY`, it should work on a row even if the `ARRIVAL_DELAY` index is dropped.\n",
    "    - You can check your function by using `flights.drop('ARRIVAL_DELAY', axis=1).apply(predict_null, axis=1)` and compare it to the `ARRIVAL_DELAY` column!\n",
    "\n",
    "\n",
    "* The column `AIRLINE_DELAY` is *missing by design*. As above, create a function `predict_null_airline_delay` that doesn't depend on the values of `AIRLINE_DELAY`, that:\n",
    "    - Takes in a row of the flights data (that is, a Series)\n",
    "    - Returns `True` if and only if the `AIRLINE_DELAY` is null; otherwise it returns `False`.\n"
   ]
  },
  {
   "cell_type": "code",
   "execution_count": 324,
   "metadata": {},
   "outputs": [
    {
     "data": {
      "text/plain": [
       "115157"
      ]
     },
     "execution_count": 324,
     "metadata": {},
     "output_type": "execute_result"
    }
   ],
   "source": [
    "fp = os.path.join('data', 'to_from_san.csv')\n",
    "flights = pd.read_csv(fp)\n",
    "flights.AIRLINE_DELAY.isna().sum()"
   ]
  },
  {
   "cell_type": "code",
   "execution_count": 325,
   "metadata": {},
   "outputs": [
    {
     "ename": "SyntaxError",
     "evalue": "invalid syntax (<ipython-input-325-faef82cbfc3b>, line 1)",
     "output_type": "error",
     "traceback": [
      "\u001b[1;36m  File \u001b[1;32m\"<ipython-input-325-faef82cbfc3b>\"\u001b[1;36m, line \u001b[1;32m1\u001b[0m\n\u001b[1;33m    len(flights[flights['ARRIVAL_DELAY'] <= 15])|flights['ARRIVAL_DELAY'] <= 15])/len(flights['ARRIVAL_DELAY'])\u001b[0m\n\u001b[1;37m                                                                               ^\u001b[0m\n\u001b[1;31mSyntaxError\u001b[0m\u001b[1;31m:\u001b[0m invalid syntax\n"
     ]
    }
   ],
   "source": [
    "len(flights[flights['ARRIVAL_DELAY'] <= 15])|flights['ARRIVAL_DELAY'] <= 15])/len(flights['ARRIVAL_DELAY'])"
   ]
  },
  {
   "cell_type": "code",
   "execution_count": 326,
   "metadata": {},
   "outputs": [
    {
     "data": {
      "text/plain": [
       "YEAR                   0.000000\n",
       "MONTH                  0.000000\n",
       "DAY                    0.000000\n",
       "DAY_OF_WEEK            0.000000\n",
       "AIRLINE                0.000000\n",
       "FLIGHT_NUMBER          0.000000\n",
       "TAIL_NUMBER            0.001488\n",
       "ORIGIN_AIRPORT         0.000000\n",
       "DESTINATION_AIRPORT    0.000000\n",
       "SCHEDULED_DEPARTURE    0.000000\n",
       "DEPARTURE_TIME         0.009999\n",
       "DEPARTURE_DELAY        0.009999\n",
       "TAXI_OUT               0.010362\n",
       "WHEELS_OFF             0.010362\n",
       "SCHEDULED_TIME         0.000000\n",
       "ELAPSED_TIME           0.013175\n",
       "AIR_TIME               0.013175\n",
       "DISTANCE               0.000000\n",
       "WHEELS_ON              0.011039\n",
       "TAXI_IN                0.011039\n",
       "SCHEDULED_ARRIVAL      0.000000\n",
       "ARRIVAL_TIME           0.011039\n",
       "ARRIVAL_DELAY          0.013175\n",
       "DIVERTED               0.000000\n",
       "CANCELLED              0.000000\n",
       "CANCELLATION_REASON    0.989574\n",
       "AIR_SYSTEM_DELAY       0.820125\n",
       "SECURITY_DELAY         0.820125\n",
       "AIRLINE_DELAY          0.820125\n",
       "LATE_AIRCRAFT_DELAY    0.820125\n",
       "WEATHER_DELAY          0.820125\n",
       "dtype: float64"
      ]
     },
     "execution_count": 326,
     "metadata": {},
     "output_type": "execute_result"
    }
   ],
   "source": [
    "only_delay = flights[flights['ARRIVAL_DELAY'].isnull()]\n",
    "nunique = only_delay.apply(pd.Series.nunique)\n",
    "cols_to_drop = nunique[nunique == 0].index\n",
    "#only_delay['YEAR'].value_counts()\n",
    "cols_to_drop\n",
    "nunique\n",
    "\n",
    "flights_missing = flights.apply(lambda x : (x.isna().sum()/len(x)))\n",
    "flights_missing"
   ]
  },
  {
   "cell_type": "code",
   "execution_count": 327,
   "metadata": {},
   "outputs": [
    {
     "data": {
      "text/plain": [
       "True"
      ]
     },
     "execution_count": 327,
     "metadata": {},
     "output_type": "execute_result"
    }
   ],
   "source": [
    "ad = flights.ARRIVAL_DELAY.isna()\n",
    "at = flights.AIR_TIME.isna()\n",
    "ad.equals(at)"
   ]
  },
  {
   "cell_type": "code",
   "execution_count": 328,
   "metadata": {},
   "outputs": [
    {
     "data": {
      "text/plain": [
       "True"
      ]
     },
     "execution_count": 328,
     "metadata": {},
     "output_type": "execute_result"
    }
   ],
   "source": [
    "set(out.unique()) - set([True, False]) == set()"
   ]
  },
  {
   "cell_type": "code",
   "execution_count": 329,
   "metadata": {},
   "outputs": [],
   "source": [
    "fp = os.path.join('data', 'to_from_san.csv')\n",
    "flights = pd.read_csv(fp)\n",
    "ar = flights.AIRLINE_DELAY.isna()"
   ]
  },
  {
   "cell_type": "code",
   "execution_count": 330,
   "metadata": {
    "scrolled": true
   },
   "outputs": [
    {
     "data": {
      "text/plain": [
       "0          True\n",
       "1          True\n",
       "2          True\n",
       "3          True\n",
       "4          True\n",
       "5          True\n",
       "6          True\n",
       "7          True\n",
       "8          True\n",
       "9          True\n",
       "10         True\n",
       "11         True\n",
       "12         True\n",
       "13         True\n",
       "14         True\n",
       "15         True\n",
       "16         True\n",
       "17         True\n",
       "18         True\n",
       "19        False\n",
       "20         True\n",
       "21        False\n",
       "22         True\n",
       "23         True\n",
       "24         True\n",
       "25         True\n",
       "26         True\n",
       "27        False\n",
       "28         True\n",
       "29         True\n",
       "          ...  \n",
       "140384     True\n",
       "140385     True\n",
       "140386     True\n",
       "140387     True\n",
       "140388     True\n",
       "140389     True\n",
       "140390     True\n",
       "140391     True\n",
       "140392     True\n",
       "140393     True\n",
       "140394     True\n",
       "140395    False\n",
       "140396     True\n",
       "140397     True\n",
       "140398     True\n",
       "140399     True\n",
       "140400     True\n",
       "140401     True\n",
       "140402     True\n",
       "140403     True\n",
       "140404     True\n",
       "140405     True\n",
       "140406     True\n",
       "140407     True\n",
       "140408     True\n",
       "140409     True\n",
       "140410     True\n",
       "140411     True\n",
       "140412     True\n",
       "140413     True\n",
       "Name: AIRLINE_DELAY, Length: 140414, dtype: bool"
      ]
     },
     "execution_count": 330,
     "metadata": {},
     "output_type": "execute_result"
    }
   ],
   "source": [
    "ar"
   ]
  },
  {
   "cell_type": "code",
   "execution_count": 337,
   "metadata": {},
   "outputs": [
    {
     "data": {
      "text/plain": [
       "False"
      ]
     },
     "execution_count": 337,
     "metadata": {},
     "output_type": "execute_result"
    }
   ],
   "source": [
    "out = flights.drop('AIRLINE_DELAY', axis=1).apply(proj.predict_null_airline_delay, axis=1)\n",
    "out.equals(ar)"
   ]
  },
  {
   "cell_type": "code",
   "execution_count": 338,
   "metadata": {
    "scrolled": true
   },
   "outputs": [
    {
     "data": {
      "text/plain": [
       "0         True\n",
       "1         True\n",
       "2         True\n",
       "3         True\n",
       "4         True\n",
       "5         True\n",
       "6         True\n",
       "7         True\n",
       "8         True\n",
       "9         True\n",
       "10        True\n",
       "11        True\n",
       "12        True\n",
       "13        True\n",
       "14        True\n",
       "15        True\n",
       "16        True\n",
       "17        True\n",
       "18        True\n",
       "19        True\n",
       "20        True\n",
       "21        True\n",
       "22        True\n",
       "23        True\n",
       "24        True\n",
       "25        True\n",
       "26        True\n",
       "27        True\n",
       "28        True\n",
       "29        True\n",
       "          ... \n",
       "140384    True\n",
       "140385    True\n",
       "140386    True\n",
       "140387    True\n",
       "140388    True\n",
       "140389    True\n",
       "140390    True\n",
       "140391    True\n",
       "140392    True\n",
       "140393    True\n",
       "140394    True\n",
       "140395    True\n",
       "140396    True\n",
       "140397    True\n",
       "140398    True\n",
       "140399    True\n",
       "140400    True\n",
       "140401    True\n",
       "140402    True\n",
       "140403    True\n",
       "140404    True\n",
       "140405    True\n",
       "140406    True\n",
       "140407    True\n",
       "140408    True\n",
       "140409    True\n",
       "140410    True\n",
       "140411    True\n",
       "140412    True\n",
       "140413    True\n",
       "Length: 140414, dtype: bool"
      ]
     },
     "execution_count": 338,
     "metadata": {},
     "output_type": "execute_result"
    }
   ],
   "source": [
    "out"
   ]
  },
  {
   "cell_type": "markdown",
   "metadata": {},
   "source": [
    "**Question 7 (Missingness Types)**\n",
    "\n",
    "Now we'd like to determine missingness of the column `DEPARTURE_DELAY`. In particular, we'd like to perform a permutation test to determine the missingness of `DEPARTURE_DELAY` dependent on the column `AIRLINE`.\n",
    "\n",
    "* Create a function `perm4missing`:\n",
    "    - that takes in `flights`, a column `col`, and a number `N` and \n",
    "    - returns the p-value of the test (using `N` simulations) that determines if `DEPARTURE_DELAY` is MAR dependent on `col`. That is `perm4missing(flights, 'AIRLINE', N)` should return the p-value for the test above.\n",
    "    - *Remark*: to help your work, create helper functions whose output you can plot, to assess the correctness of your p-value!\n",
    "    \n",
    "* Use your function above to determine the columns `col` for which \"`DEPARTURE_DELAY` is MAR dependent on `col`\" using a significance level of 0.01. Only consider the categorical columns `YEAR`,`DAY_OF_WEEK`, `AIRLINE`,`DIVERTED`, `CANCELLATION_REASON`. Return your answer in a (hard-coded) list returned by a function called `dependent_cols`.\n",
    "\n",
    "* Create a function `missing_types` of zero variables, which:\n",
    "    - Returns a Series, indexed by the following columns of `flights`: `CANCELLED`, `CANCELLATION_REASON`, `TAIL_NUMBER`, `ARRIVAL_TIME`.\n",
    "    - The values should contain the most-likely missingness type of each column. \n",
    "    - The values of this Series should be `MD, MCAR, MAR, MNAR, NaN` (use `NaN` if there are no missing values). \n"
   ]
  },
  {
   "cell_type": "code",
   "execution_count": 186,
   "metadata": {},
   "outputs": [],
   "source": [
    "fp = os.path.join('data', 'to_from_san.csv')\n",
    "flights = pd.read_csv(fp, nrows=100)"
   ]
  },
  {
   "cell_type": "code",
   "execution_count": 309,
   "metadata": {},
   "outputs": [
    {
     "ename": "KeyError",
     "evalue": "'Shuffled number of orange skittles'",
     "output_type": "error",
     "traceback": [
      "\u001b[1;31m---------------------------------------------------------------------------\u001b[0m",
      "\u001b[1;31mKeyError\u001b[0m                                  Traceback (most recent call last)",
      "\u001b[1;32m~\\Anaconda3\\lib\\site-packages\\pandas\\core\\indexes\\base.py\u001b[0m in \u001b[0;36mget_loc\u001b[1;34m(self, key, method, tolerance)\u001b[0m\n\u001b[0;32m   2656\u001b[0m             \u001b[1;32mtry\u001b[0m\u001b[1;33m:\u001b[0m\u001b[1;33m\u001b[0m\u001b[1;33m\u001b[0m\u001b[0m\n\u001b[1;32m-> 2657\u001b[1;33m                 \u001b[1;32mreturn\u001b[0m \u001b[0mself\u001b[0m\u001b[1;33m.\u001b[0m\u001b[0m_engine\u001b[0m\u001b[1;33m.\u001b[0m\u001b[0mget_loc\u001b[0m\u001b[1;33m(\u001b[0m\u001b[0mkey\u001b[0m\u001b[1;33m)\u001b[0m\u001b[1;33m\u001b[0m\u001b[1;33m\u001b[0m\u001b[0m\n\u001b[0m\u001b[0;32m   2658\u001b[0m             \u001b[1;32mexcept\u001b[0m \u001b[0mKeyError\u001b[0m\u001b[1;33m:\u001b[0m\u001b[1;33m\u001b[0m\u001b[1;33m\u001b[0m\u001b[0m\n",
      "\u001b[1;32mpandas/_libs/index.pyx\u001b[0m in \u001b[0;36mpandas._libs.index.IndexEngine.get_loc\u001b[1;34m()\u001b[0m\n",
      "\u001b[1;32mpandas/_libs/index.pyx\u001b[0m in \u001b[0;36mpandas._libs.index.IndexEngine.get_loc\u001b[1;34m()\u001b[0m\n",
      "\u001b[1;32mpandas/_libs/hashtable_class_helper.pxi\u001b[0m in \u001b[0;36mpandas._libs.hashtable.PyObjectHashTable.get_item\u001b[1;34m()\u001b[0m\n",
      "\u001b[1;32mpandas/_libs/hashtable_class_helper.pxi\u001b[0m in \u001b[0;36mpandas._libs.hashtable.PyObjectHashTable.get_item\u001b[1;34m()\u001b[0m\n",
      "\u001b[1;31mKeyError\u001b[0m: 'Shuffled number of orange skittles'",
      "\nDuring handling of the above exception, another exception occurred:\n",
      "\u001b[1;31mKeyError\u001b[0m                                  Traceback (most recent call last)",
      "\u001b[1;32m<ipython-input-309-4d977c749ded>\u001b[0m in \u001b[0;36m<module>\u001b[1;34m\u001b[0m\n\u001b[1;32m----> 1\u001b[1;33m \u001b[0mout\u001b[0m \u001b[1;33m=\u001b[0m \u001b[0mproj\u001b[0m\u001b[1;33m.\u001b[0m\u001b[0mperm4missing\u001b[0m\u001b[1;33m(\u001b[0m\u001b[0mflights\u001b[0m\u001b[1;33m,\u001b[0m \u001b[1;34m'AIRLINE'\u001b[0m\u001b[1;33m,\u001b[0m \u001b[1;36m100\u001b[0m\u001b[1;33m)\u001b[0m\u001b[1;33m\u001b[0m\u001b[1;33m\u001b[0m\u001b[0m\n\u001b[0m",
      "\u001b[1;32m~\\Documents\\GitHub\\dsc80-wi20\\projects\\project02\\project02.py\u001b[0m in \u001b[0;36mperm4missing\u001b[1;34m(flights, col, N)\u001b[0m\n\u001b[0;32m    422\u001b[0m \u001b[1;33m\u001b[0m\u001b[0m\n\u001b[0;32m    423\u001b[0m         \u001b[1;31m# compute the group differences\u001b[0m\u001b[1;33m\u001b[0m\u001b[1;33m\u001b[0m\u001b[1;33m\u001b[0m\u001b[0m\n\u001b[1;32m--> 424\u001b[1;33m         \u001b[0mgroup_means\u001b[0m \u001b[1;33m=\u001b[0m \u001b[1;33m(\u001b[0m\u001b[0mshuffled\u001b[0m\u001b[1;33m.\u001b[0m\u001b[0mgroupby\u001b[0m\u001b[1;33m(\u001b[0m\u001b[0mcol\u001b[0m\u001b[1;33m)\u001b[0m\u001b[1;33m.\u001b[0m\u001b[0mmean\u001b[0m\u001b[1;33m(\u001b[0m\u001b[1;33m)\u001b[0m\u001b[1;33m.\u001b[0m\u001b[0mloc\u001b[0m\u001b[1;33m[\u001b[0m\u001b[1;33m:\u001b[0m\u001b[1;33m,\u001b[0m \u001b[1;34m'Shuffled number of orange skittles'\u001b[0m\u001b[1;33m]\u001b[0m\u001b[1;33m)\u001b[0m\u001b[1;33m\u001b[0m\u001b[1;33m\u001b[0m\u001b[0m\n\u001b[0m\u001b[0;32m    425\u001b[0m         \u001b[0mdifference\u001b[0m \u001b[1;33m=\u001b[0m \u001b[0mabs\u001b[0m\u001b[1;33m(\u001b[0m\u001b[0mgroup_means\u001b[0m\u001b[1;33m.\u001b[0m\u001b[0mdiff\u001b[0m\u001b[1;33m(\u001b[0m\u001b[1;33m)\u001b[0m\u001b[1;33m.\u001b[0m\u001b[0miloc\u001b[0m\u001b[1;33m[\u001b[0m\u001b[1;33m-\u001b[0m\u001b[1;36m1\u001b[0m\u001b[1;33m]\u001b[0m\u001b[1;33m)\u001b[0m\u001b[1;33m\u001b[0m\u001b[1;33m\u001b[0m\u001b[0m\n\u001b[0;32m    426\u001b[0m \u001b[1;33m\u001b[0m\u001b[0m\n",
      "\u001b[1;32m~\\Anaconda3\\lib\\site-packages\\pandas\\core\\indexing.py\u001b[0m in \u001b[0;36m__getitem__\u001b[1;34m(self, key)\u001b[0m\n\u001b[0;32m   1492\u001b[0m             \u001b[1;32mexcept\u001b[0m \u001b[1;33m(\u001b[0m\u001b[0mKeyError\u001b[0m\u001b[1;33m,\u001b[0m \u001b[0mIndexError\u001b[0m\u001b[1;33m,\u001b[0m \u001b[0mAttributeError\u001b[0m\u001b[1;33m)\u001b[0m\u001b[1;33m:\u001b[0m\u001b[1;33m\u001b[0m\u001b[1;33m\u001b[0m\u001b[0m\n\u001b[0;32m   1493\u001b[0m                 \u001b[1;32mpass\u001b[0m\u001b[1;33m\u001b[0m\u001b[1;33m\u001b[0m\u001b[0m\n\u001b[1;32m-> 1494\u001b[1;33m             \u001b[1;32mreturn\u001b[0m \u001b[0mself\u001b[0m\u001b[1;33m.\u001b[0m\u001b[0m_getitem_tuple\u001b[0m\u001b[1;33m(\u001b[0m\u001b[0mkey\u001b[0m\u001b[1;33m)\u001b[0m\u001b[1;33m\u001b[0m\u001b[1;33m\u001b[0m\u001b[0m\n\u001b[0m\u001b[0;32m   1495\u001b[0m         \u001b[1;32melse\u001b[0m\u001b[1;33m:\u001b[0m\u001b[1;33m\u001b[0m\u001b[1;33m\u001b[0m\u001b[0m\n\u001b[0;32m   1496\u001b[0m             \u001b[1;31m# we by definition only have the 0th axis\u001b[0m\u001b[1;33m\u001b[0m\u001b[1;33m\u001b[0m\u001b[1;33m\u001b[0m\u001b[0m\n",
      "\u001b[1;32m~\\Anaconda3\\lib\\site-packages\\pandas\\core\\indexing.py\u001b[0m in \u001b[0;36m_getitem_tuple\u001b[1;34m(self, tup)\u001b[0m\n\u001b[0;32m    866\u001b[0m     \u001b[1;32mdef\u001b[0m \u001b[0m_getitem_tuple\u001b[0m\u001b[1;33m(\u001b[0m\u001b[0mself\u001b[0m\u001b[1;33m,\u001b[0m \u001b[0mtup\u001b[0m\u001b[1;33m)\u001b[0m\u001b[1;33m:\u001b[0m\u001b[1;33m\u001b[0m\u001b[1;33m\u001b[0m\u001b[0m\n\u001b[0;32m    867\u001b[0m         \u001b[1;32mtry\u001b[0m\u001b[1;33m:\u001b[0m\u001b[1;33m\u001b[0m\u001b[1;33m\u001b[0m\u001b[0m\n\u001b[1;32m--> 868\u001b[1;33m             \u001b[1;32mreturn\u001b[0m \u001b[0mself\u001b[0m\u001b[1;33m.\u001b[0m\u001b[0m_getitem_lowerdim\u001b[0m\u001b[1;33m(\u001b[0m\u001b[0mtup\u001b[0m\u001b[1;33m)\u001b[0m\u001b[1;33m\u001b[0m\u001b[1;33m\u001b[0m\u001b[0m\n\u001b[0m\u001b[0;32m    869\u001b[0m         \u001b[1;32mexcept\u001b[0m \u001b[0mIndexingError\u001b[0m\u001b[1;33m:\u001b[0m\u001b[1;33m\u001b[0m\u001b[1;33m\u001b[0m\u001b[0m\n\u001b[0;32m    870\u001b[0m             \u001b[1;32mpass\u001b[0m\u001b[1;33m\u001b[0m\u001b[1;33m\u001b[0m\u001b[0m\n",
      "\u001b[1;32m~\\Anaconda3\\lib\\site-packages\\pandas\\core\\indexing.py\u001b[0m in \u001b[0;36m_getitem_lowerdim\u001b[1;34m(self, tup)\u001b[0m\n\u001b[0;32m    986\u001b[0m         \u001b[1;32mfor\u001b[0m \u001b[0mi\u001b[0m\u001b[1;33m,\u001b[0m \u001b[0mkey\u001b[0m \u001b[1;32min\u001b[0m \u001b[0menumerate\u001b[0m\u001b[1;33m(\u001b[0m\u001b[0mtup\u001b[0m\u001b[1;33m)\u001b[0m\u001b[1;33m:\u001b[0m\u001b[1;33m\u001b[0m\u001b[1;33m\u001b[0m\u001b[0m\n\u001b[0;32m    987\u001b[0m             \u001b[1;32mif\u001b[0m \u001b[0mis_label_like\u001b[0m\u001b[1;33m(\u001b[0m\u001b[0mkey\u001b[0m\u001b[1;33m)\u001b[0m \u001b[1;32mor\u001b[0m \u001b[0misinstance\u001b[0m\u001b[1;33m(\u001b[0m\u001b[0mkey\u001b[0m\u001b[1;33m,\u001b[0m \u001b[0mtuple\u001b[0m\u001b[1;33m)\u001b[0m\u001b[1;33m:\u001b[0m\u001b[1;33m\u001b[0m\u001b[1;33m\u001b[0m\u001b[0m\n\u001b[1;32m--> 988\u001b[1;33m                 \u001b[0msection\u001b[0m \u001b[1;33m=\u001b[0m \u001b[0mself\u001b[0m\u001b[1;33m.\u001b[0m\u001b[0m_getitem_axis\u001b[0m\u001b[1;33m(\u001b[0m\u001b[0mkey\u001b[0m\u001b[1;33m,\u001b[0m \u001b[0maxis\u001b[0m\u001b[1;33m=\u001b[0m\u001b[0mi\u001b[0m\u001b[1;33m)\u001b[0m\u001b[1;33m\u001b[0m\u001b[1;33m\u001b[0m\u001b[0m\n\u001b[0m\u001b[0;32m    989\u001b[0m \u001b[1;33m\u001b[0m\u001b[0m\n\u001b[0;32m    990\u001b[0m                 \u001b[1;31m# we have yielded a scalar ?\u001b[0m\u001b[1;33m\u001b[0m\u001b[1;33m\u001b[0m\u001b[1;33m\u001b[0m\u001b[0m\n",
      "\u001b[1;32m~\\Anaconda3\\lib\\site-packages\\pandas\\core\\indexing.py\u001b[0m in \u001b[0;36m_getitem_axis\u001b[1;34m(self, key, axis)\u001b[0m\n\u001b[0;32m   1911\u001b[0m         \u001b[1;31m# fall thru to straight lookup\u001b[0m\u001b[1;33m\u001b[0m\u001b[1;33m\u001b[0m\u001b[1;33m\u001b[0m\u001b[0m\n\u001b[0;32m   1912\u001b[0m         \u001b[0mself\u001b[0m\u001b[1;33m.\u001b[0m\u001b[0m_validate_key\u001b[0m\u001b[1;33m(\u001b[0m\u001b[0mkey\u001b[0m\u001b[1;33m,\u001b[0m \u001b[0maxis\u001b[0m\u001b[1;33m)\u001b[0m\u001b[1;33m\u001b[0m\u001b[1;33m\u001b[0m\u001b[0m\n\u001b[1;32m-> 1913\u001b[1;33m         \u001b[1;32mreturn\u001b[0m \u001b[0mself\u001b[0m\u001b[1;33m.\u001b[0m\u001b[0m_get_label\u001b[0m\u001b[1;33m(\u001b[0m\u001b[0mkey\u001b[0m\u001b[1;33m,\u001b[0m \u001b[0maxis\u001b[0m\u001b[1;33m=\u001b[0m\u001b[0maxis\u001b[0m\u001b[1;33m)\u001b[0m\u001b[1;33m\u001b[0m\u001b[1;33m\u001b[0m\u001b[0m\n\u001b[0m\u001b[0;32m   1914\u001b[0m \u001b[1;33m\u001b[0m\u001b[0m\n\u001b[0;32m   1915\u001b[0m \u001b[1;33m\u001b[0m\u001b[0m\n",
      "\u001b[1;32m~\\Anaconda3\\lib\\site-packages\\pandas\\core\\indexing.py\u001b[0m in \u001b[0;36m_get_label\u001b[1;34m(self, label, axis)\u001b[0m\n\u001b[0;32m    139\u001b[0m             \u001b[1;32mraise\u001b[0m \u001b[0mIndexingError\u001b[0m\u001b[1;33m(\u001b[0m\u001b[1;34m'no slices here, handle elsewhere'\u001b[0m\u001b[1;33m)\u001b[0m\u001b[1;33m\u001b[0m\u001b[1;33m\u001b[0m\u001b[0m\n\u001b[0;32m    140\u001b[0m \u001b[1;33m\u001b[0m\u001b[0m\n\u001b[1;32m--> 141\u001b[1;33m         \u001b[1;32mreturn\u001b[0m \u001b[0mself\u001b[0m\u001b[1;33m.\u001b[0m\u001b[0mobj\u001b[0m\u001b[1;33m.\u001b[0m\u001b[0m_xs\u001b[0m\u001b[1;33m(\u001b[0m\u001b[0mlabel\u001b[0m\u001b[1;33m,\u001b[0m \u001b[0maxis\u001b[0m\u001b[1;33m=\u001b[0m\u001b[0maxis\u001b[0m\u001b[1;33m)\u001b[0m\u001b[1;33m\u001b[0m\u001b[1;33m\u001b[0m\u001b[0m\n\u001b[0m\u001b[0;32m    142\u001b[0m \u001b[1;33m\u001b[0m\u001b[0m\n\u001b[0;32m    143\u001b[0m     \u001b[1;32mdef\u001b[0m \u001b[0m_get_loc\u001b[0m\u001b[1;33m(\u001b[0m\u001b[0mself\u001b[0m\u001b[1;33m,\u001b[0m \u001b[0mkey\u001b[0m\u001b[1;33m,\u001b[0m \u001b[0maxis\u001b[0m\u001b[1;33m=\u001b[0m\u001b[1;32mNone\u001b[0m\u001b[1;33m)\u001b[0m\u001b[1;33m:\u001b[0m\u001b[1;33m\u001b[0m\u001b[1;33m\u001b[0m\u001b[0m\n",
      "\u001b[1;32m~\\Anaconda3\\lib\\site-packages\\pandas\\core\\generic.py\u001b[0m in \u001b[0;36mxs\u001b[1;34m(self, key, axis, level, drop_level)\u001b[0m\n\u001b[0;32m   3574\u001b[0m \u001b[1;33m\u001b[0m\u001b[0m\n\u001b[0;32m   3575\u001b[0m         \u001b[1;32mif\u001b[0m \u001b[0maxis\u001b[0m \u001b[1;33m==\u001b[0m \u001b[1;36m1\u001b[0m\u001b[1;33m:\u001b[0m\u001b[1;33m\u001b[0m\u001b[1;33m\u001b[0m\u001b[0m\n\u001b[1;32m-> 3576\u001b[1;33m             \u001b[1;32mreturn\u001b[0m \u001b[0mself\u001b[0m\u001b[1;33m[\u001b[0m\u001b[0mkey\u001b[0m\u001b[1;33m]\u001b[0m\u001b[1;33m\u001b[0m\u001b[1;33m\u001b[0m\u001b[0m\n\u001b[0m\u001b[0;32m   3577\u001b[0m \u001b[1;33m\u001b[0m\u001b[0m\n\u001b[0;32m   3578\u001b[0m         \u001b[0mself\u001b[0m\u001b[1;33m.\u001b[0m\u001b[0m_consolidate_inplace\u001b[0m\u001b[1;33m(\u001b[0m\u001b[1;33m)\u001b[0m\u001b[1;33m\u001b[0m\u001b[1;33m\u001b[0m\u001b[0m\n",
      "\u001b[1;32m~\\Anaconda3\\lib\\site-packages\\pandas\\core\\frame.py\u001b[0m in \u001b[0;36m__getitem__\u001b[1;34m(self, key)\u001b[0m\n\u001b[0;32m   2925\u001b[0m             \u001b[1;32mif\u001b[0m \u001b[0mself\u001b[0m\u001b[1;33m.\u001b[0m\u001b[0mcolumns\u001b[0m\u001b[1;33m.\u001b[0m\u001b[0mnlevels\u001b[0m \u001b[1;33m>\u001b[0m \u001b[1;36m1\u001b[0m\u001b[1;33m:\u001b[0m\u001b[1;33m\u001b[0m\u001b[1;33m\u001b[0m\u001b[0m\n\u001b[0;32m   2926\u001b[0m                 \u001b[1;32mreturn\u001b[0m \u001b[0mself\u001b[0m\u001b[1;33m.\u001b[0m\u001b[0m_getitem_multilevel\u001b[0m\u001b[1;33m(\u001b[0m\u001b[0mkey\u001b[0m\u001b[1;33m)\u001b[0m\u001b[1;33m\u001b[0m\u001b[1;33m\u001b[0m\u001b[0m\n\u001b[1;32m-> 2927\u001b[1;33m             \u001b[0mindexer\u001b[0m \u001b[1;33m=\u001b[0m \u001b[0mself\u001b[0m\u001b[1;33m.\u001b[0m\u001b[0mcolumns\u001b[0m\u001b[1;33m.\u001b[0m\u001b[0mget_loc\u001b[0m\u001b[1;33m(\u001b[0m\u001b[0mkey\u001b[0m\u001b[1;33m)\u001b[0m\u001b[1;33m\u001b[0m\u001b[1;33m\u001b[0m\u001b[0m\n\u001b[0m\u001b[0;32m   2928\u001b[0m             \u001b[1;32mif\u001b[0m \u001b[0mis_integer\u001b[0m\u001b[1;33m(\u001b[0m\u001b[0mindexer\u001b[0m\u001b[1;33m)\u001b[0m\u001b[1;33m:\u001b[0m\u001b[1;33m\u001b[0m\u001b[1;33m\u001b[0m\u001b[0m\n\u001b[0;32m   2929\u001b[0m                 \u001b[0mindexer\u001b[0m \u001b[1;33m=\u001b[0m \u001b[1;33m[\u001b[0m\u001b[0mindexer\u001b[0m\u001b[1;33m]\u001b[0m\u001b[1;33m\u001b[0m\u001b[1;33m\u001b[0m\u001b[0m\n",
      "\u001b[1;32m~\\Anaconda3\\lib\\site-packages\\pandas\\core\\indexes\\base.py\u001b[0m in \u001b[0;36mget_loc\u001b[1;34m(self, key, method, tolerance)\u001b[0m\n\u001b[0;32m   2657\u001b[0m                 \u001b[1;32mreturn\u001b[0m \u001b[0mself\u001b[0m\u001b[1;33m.\u001b[0m\u001b[0m_engine\u001b[0m\u001b[1;33m.\u001b[0m\u001b[0mget_loc\u001b[0m\u001b[1;33m(\u001b[0m\u001b[0mkey\u001b[0m\u001b[1;33m)\u001b[0m\u001b[1;33m\u001b[0m\u001b[1;33m\u001b[0m\u001b[0m\n\u001b[0;32m   2658\u001b[0m             \u001b[1;32mexcept\u001b[0m \u001b[0mKeyError\u001b[0m\u001b[1;33m:\u001b[0m\u001b[1;33m\u001b[0m\u001b[1;33m\u001b[0m\u001b[0m\n\u001b[1;32m-> 2659\u001b[1;33m                 \u001b[1;32mreturn\u001b[0m \u001b[0mself\u001b[0m\u001b[1;33m.\u001b[0m\u001b[0m_engine\u001b[0m\u001b[1;33m.\u001b[0m\u001b[0mget_loc\u001b[0m\u001b[1;33m(\u001b[0m\u001b[0mself\u001b[0m\u001b[1;33m.\u001b[0m\u001b[0m_maybe_cast_indexer\u001b[0m\u001b[1;33m(\u001b[0m\u001b[0mkey\u001b[0m\u001b[1;33m)\u001b[0m\u001b[1;33m)\u001b[0m\u001b[1;33m\u001b[0m\u001b[1;33m\u001b[0m\u001b[0m\n\u001b[0m\u001b[0;32m   2660\u001b[0m         \u001b[0mindexer\u001b[0m \u001b[1;33m=\u001b[0m \u001b[0mself\u001b[0m\u001b[1;33m.\u001b[0m\u001b[0mget_indexer\u001b[0m\u001b[1;33m(\u001b[0m\u001b[1;33m[\u001b[0m\u001b[0mkey\u001b[0m\u001b[1;33m]\u001b[0m\u001b[1;33m,\u001b[0m \u001b[0mmethod\u001b[0m\u001b[1;33m=\u001b[0m\u001b[0mmethod\u001b[0m\u001b[1;33m,\u001b[0m \u001b[0mtolerance\u001b[0m\u001b[1;33m=\u001b[0m\u001b[0mtolerance\u001b[0m\u001b[1;33m)\u001b[0m\u001b[1;33m\u001b[0m\u001b[1;33m\u001b[0m\u001b[0m\n\u001b[0;32m   2661\u001b[0m         \u001b[1;32mif\u001b[0m \u001b[0mindexer\u001b[0m\u001b[1;33m.\u001b[0m\u001b[0mndim\u001b[0m \u001b[1;33m>\u001b[0m \u001b[1;36m1\u001b[0m \u001b[1;32mor\u001b[0m \u001b[0mindexer\u001b[0m\u001b[1;33m.\u001b[0m\u001b[0msize\u001b[0m \u001b[1;33m>\u001b[0m \u001b[1;36m1\u001b[0m\u001b[1;33m:\u001b[0m\u001b[1;33m\u001b[0m\u001b[1;33m\u001b[0m\u001b[0m\n",
      "\u001b[1;32mpandas/_libs/index.pyx\u001b[0m in \u001b[0;36mpandas._libs.index.IndexEngine.get_loc\u001b[1;34m()\u001b[0m\n",
      "\u001b[1;32mpandas/_libs/index.pyx\u001b[0m in \u001b[0;36mpandas._libs.index.IndexEngine.get_loc\u001b[1;34m()\u001b[0m\n",
      "\u001b[1;32mpandas/_libs/hashtable_class_helper.pxi\u001b[0m in \u001b[0;36mpandas._libs.hashtable.PyObjectHashTable.get_item\u001b[1;34m()\u001b[0m\n",
      "\u001b[1;32mpandas/_libs/hashtable_class_helper.pxi\u001b[0m in \u001b[0;36mpandas._libs.hashtable.PyObjectHashTable.get_item\u001b[1;34m()\u001b[0m\n",
      "\u001b[1;31mKeyError\u001b[0m: 'Shuffled number of orange skittles'"
     ]
    }
   ],
   "source": [
    "out = proj.perm4missing(flights, 'AIRLINE', 100)"
   ]
  },
  {
   "cell_type": "code",
   "execution_count": null,
   "metadata": {},
   "outputs": [],
   "source": []
  },
  {
   "cell_type": "code",
   "execution_count": null,
   "metadata": {},
   "outputs": [],
   "source": []
  },
  {
   "cell_type": "code",
   "execution_count": null,
   "metadata": {},
   "outputs": [],
   "source": []
  },
  {
   "cell_type": "markdown",
   "metadata": {},
   "source": [
    "# Simpson's Paradox: JetBlue vs Southwest\n",
    "\n",
    "The remainder of the questions investigates the presence of Simpson's paradox in the flights dataset. Read through the final slides of lecture 05, as well as [the book](https://afraenkel.github.io/practical-data-science/05/understanding-aggregations.html#simpsons-paradox) for a summary of Simpson's Paradox and related links.\n",
    "\n",
    "The csv file `southwest_vs_jetblue.csv` contains all Southwest and JetBlue flights in 2015.\n",
    "\n",
    "In this dataset, we are going to verify the following occurrences of Simpson's Paradox: For a given set of airports,\n",
    "* The average departure delay of Southwest is greater than (or less than) the average departure delay of JetBlue.\n",
    "* Airport by airport, the average departure delay of Southwest is *less* than (or greater than) the average departure delay of JetBlue.\n",
    "\n",
    "That is, the inequalities of the average flight delays between the two airlines are reversed when viewed at the level of each airport. In fact this reversal holds for *every* airport being considered."
   ]
  },
  {
   "cell_type": "code",
   "execution_count": 322,
   "metadata": {
    "ExecuteTime": {
     "end_time": "2019-10-14T01:51:26.412337Z",
     "start_time": "2019-10-14T01:51:24.838Z"
    }
   },
   "outputs": [],
   "source": [
    "jb_sw_filepath = os.path.join('data', 'jetblue_or_sw.csv')\n",
    "dtype = proj.data_types()\n",
    "\n",
    "# The `usecols` keyword:\n",
    "# choose *only* the columns you need to reduce your memory footprint!\n",
    "usecols = ...\n",
    "\n",
    "jb_sw = pd.read_csv(jb_sw_filepath, dtype=dtype, usecols=usecols)"
   ]
  },
  {
   "cell_type": "code",
   "execution_count": 323,
   "metadata": {},
   "outputs": [
    {
     "data": {
      "text/plain": [
       "'data\\\\jetblue_or_sw.csv'"
      ]
     },
     "execution_count": 323,
     "metadata": {},
     "output_type": "execute_result"
    }
   ],
   "source": [
    "jb_sw_filepath"
   ]
  },
  {
   "cell_type": "code",
   "execution_count": null,
   "metadata": {},
   "outputs": [],
   "source": []
  },
  {
   "cell_type": "code",
   "execution_count": null,
   "metadata": {},
   "outputs": [],
   "source": []
  },
  {
   "cell_type": "markdown",
   "metadata": {},
   "source": [
    "**Question 8**\n",
    "\n",
    "Filter the dataset `jb_sw` to flights *originating* from the following 10 airports: ABQ, BDL, BUR, DCA, MSY, PBI, PHX, RNO, SJC, SLC.\n",
    "\n",
    "Illustrate Simpson's paradox with this table:\n",
    "* Calculate the proportion of each airline's flights that are delayed (at each of the 10 airports):\n",
    "    - Create a function `prop_delayed_by_airline` that takes in a dataframe like `jb_sw` and returns a DataFrame indexed by airline that contains the proportion of each airline's flights that are delayed.\n",
    "* Calculate these proportions across all airports in the dataset (at each of the 10 airports):\n",
    "    - Create a function `prop_delayed_by_airline_airport` that takes in a dataframe like `jb_sw` and returns a DataFrame, with columns given by airports, indexed by airline, that contains the proportion of each airline's flights that are delayed at each airport.\n",
    "\n",
    "*Remark 1:* For the purpose of this question, a canceled flight is **not** considered delayed.\n",
    "\n",
    "*Remark 2:* Make sure that the functions only work with the columns that are absolutely necessary for the question to avoid out of memory errors!\n",
    "\n",
    "Verify that Simpson's paradox is present in this output! \n",
    "\n",
    "Can you explain *why* Simpson's paradox is occurring? (Hint: where are these airports located? Which have the most flights?)"
   ]
  },
  {
   "cell_type": "code",
   "execution_count": 13,
   "metadata": {},
   "outputs": [
    {
     "data": {
      "text/html": [
       "<div>\n",
       "<style scoped>\n",
       "    .dataframe tbody tr th:only-of-type {\n",
       "        vertical-align: middle;\n",
       "    }\n",
       "\n",
       "    .dataframe tbody tr th {\n",
       "        vertical-align: top;\n",
       "    }\n",
       "\n",
       "    .dataframe thead th {\n",
       "        text-align: right;\n",
       "    }\n",
       "</style>\n",
       "<table border=\"1\" class=\"dataframe\">\n",
       "  <thead>\n",
       "    <tr style=\"text-align: right;\">\n",
       "      <th></th>\n",
       "      <th>ORIGIN_AIRPORT</th>\n",
       "    </tr>\n",
       "    <tr>\n",
       "      <th>AIRLINE</th>\n",
       "      <th></th>\n",
       "    </tr>\n",
       "  </thead>\n",
       "  <tbody>\n",
       "    <tr>\n",
       "      <th>B6</th>\n",
       "      <td>0.285714</td>\n",
       "    </tr>\n",
       "    <tr>\n",
       "      <th>WN</th>\n",
       "      <td>0.666667</td>\n",
       "    </tr>\n",
       "  </tbody>\n",
       "</table>\n",
       "</div>"
      ],
      "text/plain": [
       "         ORIGIN_AIRPORT\n",
       "AIRLINE                \n",
       "B6             0.285714\n",
       "WN             0.666667"
      ]
     },
     "execution_count": 13,
     "metadata": {},
     "output_type": "execute_result"
    }
   ],
   "source": [
    "fp = os.path.join('data', 'jetblue_or_sw.csv')\n",
    "jb_sw = pd.read_csv(fp, nrows=100)\n",
    "out = proj.prop_delayed_by_airline(jb_sw)\n",
    "out"
   ]
  },
  {
   "cell_type": "code",
   "execution_count": 14,
   "metadata": {},
   "outputs": [
    {
     "data": {
      "text/plain": [
       "True"
      ]
     },
     "execution_count": 14,
     "metadata": {},
     "output_type": "execute_result"
    }
   ],
   "source": [
    "isinstance(out, pd.DataFrame)"
   ]
  },
  {
   "cell_type": "code",
   "execution_count": 15,
   "metadata": {},
   "outputs": [
    {
     "data": {
      "text/plain": [
       "True"
      ]
     },
     "execution_count": 15,
     "metadata": {},
     "output_type": "execute_result"
    }
   ],
   "source": [
    "(out >= 0).all().all() and (out <= 1).all().all()"
   ]
  },
  {
   "cell_type": "code",
   "execution_count": 16,
   "metadata": {},
   "outputs": [
    {
     "data": {
      "text/plain": [
       "True"
      ]
     },
     "execution_count": 16,
     "metadata": {},
     "output_type": "execute_result"
    }
   ],
   "source": [
    "len(out.columns) == 1"
   ]
  },
  {
   "cell_type": "code",
   "execution_count": 24,
   "metadata": {},
   "outputs": [],
   "source": [
    "fp = os.path.join('data', 'jetblue_or_sw.csv')\n",
    "jb_sw = pd.read_csv(fp, nrows=100)\n",
    "out = proj.prop_delayed_by_airline_airport(jb_sw)"
   ]
  },
  {
   "cell_type": "code",
   "execution_count": 26,
   "metadata": {},
   "outputs": [
    {
     "data": {
      "text/plain": [
       "True"
      ]
     },
     "execution_count": 26,
     "metadata": {},
     "output_type": "execute_result"
    }
   ],
   "source": [
    "isinstance(out, pd.DataFrame)"
   ]
  },
  {
   "cell_type": "code",
   "execution_count": 27,
   "metadata": {},
   "outputs": [
    {
     "data": {
      "text/plain": [
       "True"
      ]
     },
     "execution_count": 27,
     "metadata": {},
     "output_type": "execute_result"
    }
   ],
   "source": [
    "((out >= 0) | (out <= 1) | (out.isnull())).all().all()"
   ]
  },
  {
   "cell_type": "code",
   "execution_count": 28,
   "metadata": {},
   "outputs": [
    {
     "data": {
      "text/plain": [
       "True"
      ]
     },
     "execution_count": 28,
     "metadata": {},
     "output_type": "execute_result"
    }
   ],
   "source": [
    "len(out.columns) == 6"
   ]
  },
  {
   "cell_type": "markdown",
   "metadata": {},
   "source": [
    "**Question 9**\n",
    "\n",
    "Your work above illustrates Simpson's paradox on the specific dataset of flights originating from 10 specific airports. However, this still requires you to look at two dataframe to see if the paradox is present. Now, you will create a function that verifies Simpson's paradox in general. You will do this by writing code to compare the two dataframes, instead of inspecting them manually.\n",
    "\n",
    "Create a function `verify_simpson` that returns a boolean output regarding if the paradox is present.\n",
    "```\n",
    "verify_simpson(df, group1, group2, occur)\n",
    "```\n",
    "- df is a dataframe (e.g. jb_sw),\n",
    "- group1 is the first group being aggregated against (e.g. `AIRLINE`),\n",
    "- group2 is the second group being aggregated against (e.g. `ORIGIN_AIRPORT`),\n",
    "- occur is a column with values {0, 1}, denoting if an event occurred for that individual.\n",
    "  (e.g. \"1 if flight was delayed\" and \"0 if flight was not delayed\")\n",
    "\n",
    "`verify_simpson` should return `True` only if there is a reversal for *every* value of `group2` (e.g. for every airport).\n",
    "\n",
    "Example:\n",
    "\n",
    "Consider the following dataframe `df` with columns `treatment`, `stone_size`, and `success`:\n",
    "\n",
    "|treatment|stone_size|success|\n",
    "|---|---|---|\n",
    "|A|small|1|\n",
    "|B|small|1|\n",
    "|...|...|...|\n",
    "|A|large|0|\n",
    "|B|small|0|\n",
    "|B|small|1|\n",
    "\n",
    "`df` corresponds to the following diagram:\n",
    "<img src=\"https://miro.medium.com/max/996/1*IfVjfdGD7RPwLDC6WzT9Uw.png\" style=\"width: 300px\"/>\n",
    "\n",
    "Here, `verify_simpson(df, 'treatment', 'stone_size', 'success')` should return `True`.\n",
    "\n",
    "Verify that you function works on the previous question!"
   ]
  },
  {
   "cell_type": "code",
   "execution_count": 21,
   "metadata": {},
   "outputs": [
    {
     "data": {
      "text/plain": [
       "True"
      ]
     },
     "execution_count": 21,
     "metadata": {},
     "output_type": "execute_result"
    }
   ],
   "source": [
    "df = pd.DataFrame([[4,2,1], [1,2,0], [1,4,0], [4,4,1]], columns=[1,2,3])\n",
    "proj.verify_simpson(df, 1, 2, 3) in [True, False]"
   ]
  },
  {
   "cell_type": "code",
   "execution_count": 22,
   "metadata": {},
   "outputs": [
    {
     "data": {
      "text/plain": [
       "False"
      ]
     },
     "execution_count": 22,
     "metadata": {},
     "output_type": "execute_result"
    }
   ],
   "source": [
    "proj.verify_simpson(df, 1, 2, 3)"
   ]
  },
  {
   "cell_type": "code",
   "execution_count": null,
   "metadata": {},
   "outputs": [],
   "source": []
  },
  {
   "cell_type": "code",
   "execution_count": null,
   "metadata": {},
   "outputs": [],
   "source": []
  },
  {
   "cell_type": "code",
   "execution_count": null,
   "metadata": {},
   "outputs": [],
   "source": []
  },
  {
   "cell_type": "code",
   "execution_count": null,
   "metadata": {},
   "outputs": [],
   "source": []
  },
  {
   "cell_type": "markdown",
   "metadata": {},
   "source": [
    "### Bonus problem (worth zero points)\n",
    "\n",
    "This question is for fun and explores a very data-science type problem: can we automate finding examples of Simpson's Paradox? This is an active area of research (see for example: https://arxiv.org/pdf/1801.04385.pdf), but is a very accessible problem. While totally optional, this question can lead to pretty interesting self-driven projects!\n",
    "\n",
    "**Question 10 (Searching for Simpson's Paradox):**\n",
    "\n",
    "As you observed from the reading in the lecture notes, Simpson's Paradox often occurs due to some confounding factor among the columns of a dataset. In the case of gender balance in student admissions to academic departments at UC Berkeley, the confounding factor was the admission rate (i.e. how hard it is to gain admission to a department).\n",
    "\n",
    "What might be a confounding factor be for flight delays among airports in question 8? Now you are going to write code to discover instances of Simpson's Paradox; that is, you will programmatically find interesting relationships present in the data.\n",
    "\n",
    "Given the dataset `jb_sw`, we'd like to find new groups of airports, as in question 8, for which the statistics of flight delays between JetBlue and Southwest satisfy Simpson's Paradox.\n",
    "\n",
    "Create a function `search_simpsons` that takes in the `jb_sw` dataset and a number `N`, and returns a list of `N` airports for which the proportion of flight delays between JetBlue and Southwest satisfies Simpson's Paradox.\n",
    "- Only consider airports that have '3 letter codes',\n",
    "- Only consider airports that have at least one JetBlue *and* Southwest flight.\n",
    "\n",
    "*Remark 1:* Iterate through groups of airports of size `N` using `itertools.combinations` until you find a group that works. Make sure your function finishes, even if it doesn't find something.\n",
    "\n",
    "*Remark 2:* You should be using your work from Question 9!"
   ]
  },
  {
   "cell_type": "code",
   "execution_count": null,
   "metadata": {},
   "outputs": [],
   "source": []
  },
  {
   "cell_type": "code",
   "execution_count": null,
   "metadata": {},
   "outputs": [],
   "source": []
  },
  {
   "cell_type": "code",
   "execution_count": null,
   "metadata": {},
   "outputs": [],
   "source": []
  },
  {
   "cell_type": "code",
   "execution_count": null,
   "metadata": {},
   "outputs": [],
   "source": []
  },
  {
   "cell_type": "code",
   "execution_count": null,
   "metadata": {},
   "outputs": [],
   "source": []
  },
  {
   "cell_type": "markdown",
   "metadata": {},
   "source": [
    "# Congratulations, you finished the project!\n",
    "\n",
    "### Before you submit:\n",
    "* Be sure you run the doctests on all your code in project02.py\n",
    "\n",
    "### To submit:\n",
    "* **Upload the .py file to gradescope**"
   ]
  }
 ],
 "metadata": {
  "kernelspec": {
   "display_name": "Python 3",
   "language": "python",
   "name": "python3"
  },
  "language_info": {
   "codemirror_mode": {
    "name": "ipython",
    "version": 3
   },
   "file_extension": ".py",
   "mimetype": "text/x-python",
   "name": "python",
   "nbconvert_exporter": "python",
   "pygments_lexer": "ipython3",
   "version": "3.7.3"
  }
 },
 "nbformat": 4,
 "nbformat_minor": 2
}
